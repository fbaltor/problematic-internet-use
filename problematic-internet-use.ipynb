{
 "cells": [
  {
   "cell_type": "markdown",
   "id": "7e02f9d0-8861-444f-b896-2cdf1194f911",
   "metadata": {},
   "source": [
    "# Exploratory analysis"
   ]
  },
  {
   "cell_type": "code",
   "execution_count": 1,
   "id": "42e10c97-8339-4563-ae33-388affce1f2f",
   "metadata": {},
   "outputs": [
    {
     "name": "stdin",
     "output_type": "stream",
     "text": [
      "Once deleted, variables cannot be recovered. Proceed (y/[n])?  y\n"
     ]
    }
   ],
   "source": [
    "%reset"
   ]
  },
  {
   "cell_type": "markdown",
   "id": "2b3ed879-162d-4950-94ef-44aa75742e96",
   "metadata": {},
   "source": [
    "Basic imports:"
   ]
  },
  {
   "cell_type": "code",
   "execution_count": 93,
   "id": "b3d530ec-0274-4d4c-8e57-ba864ac1b2d8",
   "metadata": {},
   "outputs": [],
   "source": [
    "# To be able to use this command you have to create a Kaggle account, generate and download a token (kaggle.json) and save it under \n",
    "# a ~/.kaggle directory (you need to create it)\n",
    "\n",
    "import kagglehub"
   ]
  },
  {
   "cell_type": "code",
   "execution_count": 94,
   "id": "f477b5f0-402b-4012-a984-e5761de32c03",
   "metadata": {},
   "outputs": [],
   "source": [
    "import polars as pl\n",
    "import pandas as pd\n",
    "import numpy as np\n",
    "import matplotlib.pyplot as plt\n",
    "from pathlib import Path"
   ]
  },
  {
   "cell_type": "markdown",
   "id": "448eb769-d5fa-4508-ab17-5175b0411da4",
   "metadata": {},
   "source": [
    "Downloading the data with _kagglehub_:"
   ]
  },
  {
   "cell_type": "code",
   "execution_count": 5,
   "id": "8e5db461-68ae-484b-acc1-b6eaf9c5288d",
   "metadata": {},
   "outputs": [
    {
     "data": {
      "text/plain": [
       "PosixPath('/home/fbaltor/.cache/kagglehub/competitions/child-mind-institute-problematic-internet-use')"
      ]
     },
     "execution_count": 5,
     "metadata": {},
     "output_type": "execute_result"
    }
   ],
   "source": [
    "data_path = kagglehub.competition_download('child-mind-institute-problematic-internet-use')\n",
    "data_path = Path(data_path)\n",
    "\n",
    "data_path"
   ]
  },
  {
   "cell_type": "markdown",
   "id": "a58e4630-71b7-4037-9200-b9e499f03bcb",
   "metadata": {},
   "source": [
    "Checking files downloaded:"
   ]
  },
  {
   "cell_type": "code",
   "execution_count": 6,
   "id": "516f69b1-41b1-4b69-9f22-80329cd0748b",
   "metadata": {},
   "outputs": [
    {
     "name": "stdout",
     "output_type": "stream",
     "text": [
      "sample_submission.csv is a FILE\n",
      "series_train.parquet is a DIRECTORY\n",
      "train.csv is a FILE\n",
      "data_dictionary.csv is a FILE\n",
      "series_test.parquet is a DIRECTORY\n",
      "test.csv is a FILE\n"
     ]
    }
   ],
   "source": [
    "for file in data_path.glob(\"*\"):\n",
    "    print(f'{file.name} is a {\"FILE\" if file.is_file() else \"DIRECTORY\"}')"
   ]
  },
  {
   "cell_type": "markdown",
   "id": "50cf79ce-6185-439b-b405-b7a5a4f444f0",
   "metadata": {},
   "source": [
    "Loading the train datasets and the data dictionary:"
   ]
  },
  {
   "cell_type": "code",
   "execution_count": 7,
   "id": "342e7e9b-33a3-41c9-ab21-f18569362828",
   "metadata": {},
   "outputs": [],
   "source": [
    "data_dictionary = pl.read_csv(data_path / 'data_dictionary.csv')\n",
    "train = pl.read_csv(data_path / 'train.csv')\n",
    "test = pl.read_csv(data_path / 'test.csv')"
   ]
  },
  {
   "cell_type": "code",
   "execution_count": 11,
   "id": "a195cdf2-4dc5-495c-9b05-38d71989945e",
   "metadata": {},
   "outputs": [
    {
     "data": {
      "text/html": [
       "<div><style>\n",
       ".dataframe > thead > tr,\n",
       ".dataframe > tbody > tr {\n",
       "  text-align: right;\n",
       "  white-space: pre-wrap;\n",
       "}\n",
       "</style>\n",
       "<small>shape: (3_960, 82)</small><table border=\"1\" class=\"dataframe\"><thead><tr><th>id</th><th>Basic_Demos-Enroll_Season</th><th>Basic_Demos-Age</th><th>Basic_Demos-Sex</th><th>CGAS-Season</th><th>CGAS-CGAS_Score</th><th>Physical-Season</th><th>Physical-BMI</th><th>Physical-Height</th><th>Physical-Weight</th><th>Physical-Waist_Circumference</th><th>Physical-Diastolic_BP</th><th>Physical-HeartRate</th><th>Physical-Systolic_BP</th><th>Fitness_Endurance-Season</th><th>Fitness_Endurance-Max_Stage</th><th>Fitness_Endurance-Time_Mins</th><th>Fitness_Endurance-Time_Sec</th><th>FGC-Season</th><th>FGC-FGC_CU</th><th>FGC-FGC_CU_Zone</th><th>FGC-FGC_GSND</th><th>FGC-FGC_GSND_Zone</th><th>FGC-FGC_GSD</th><th>FGC-FGC_GSD_Zone</th><th>FGC-FGC_PU</th><th>FGC-FGC_PU_Zone</th><th>FGC-FGC_SRL</th><th>FGC-FGC_SRL_Zone</th><th>FGC-FGC_SRR</th><th>FGC-FGC_SRR_Zone</th><th>FGC-FGC_TL</th><th>FGC-FGC_TL_Zone</th><th>BIA-Season</th><th>BIA-BIA_Activity_Level_num</th><th>BIA-BIA_BMC</th><th>BIA-BIA_BMI</th><th>&hellip;</th><th>BIA-BIA_ICW</th><th>BIA-BIA_LDM</th><th>BIA-BIA_LST</th><th>BIA-BIA_SMM</th><th>BIA-BIA_TBW</th><th>PAQ_A-Season</th><th>PAQ_A-PAQ_A_Total</th><th>PAQ_C-Season</th><th>PAQ_C-PAQ_C_Total</th><th>PCIAT-Season</th><th>PCIAT-PCIAT_01</th><th>PCIAT-PCIAT_02</th><th>PCIAT-PCIAT_03</th><th>PCIAT-PCIAT_04</th><th>PCIAT-PCIAT_05</th><th>PCIAT-PCIAT_06</th><th>PCIAT-PCIAT_07</th><th>PCIAT-PCIAT_08</th><th>PCIAT-PCIAT_09</th><th>PCIAT-PCIAT_10</th><th>PCIAT-PCIAT_11</th><th>PCIAT-PCIAT_12</th><th>PCIAT-PCIAT_13</th><th>PCIAT-PCIAT_14</th><th>PCIAT-PCIAT_15</th><th>PCIAT-PCIAT_16</th><th>PCIAT-PCIAT_17</th><th>PCIAT-PCIAT_18</th><th>PCIAT-PCIAT_19</th><th>PCIAT-PCIAT_20</th><th>PCIAT-PCIAT_Total</th><th>SDS-Season</th><th>SDS-SDS_Total_Raw</th><th>SDS-SDS_Total_T</th><th>PreInt_EduHx-Season</th><th>PreInt_EduHx-computerinternet_hoursday</th><th>sii</th></tr><tr><td>str</td><td>str</td><td>i64</td><td>i64</td><td>str</td><td>i64</td><td>str</td><td>f64</td><td>f64</td><td>f64</td><td>f64</td><td>i64</td><td>i64</td><td>i64</td><td>str</td><td>i64</td><td>i64</td><td>i64</td><td>str</td><td>i64</td><td>i64</td><td>f64</td><td>i64</td><td>f64</td><td>i64</td><td>i64</td><td>i64</td><td>f64</td><td>i64</td><td>f64</td><td>i64</td><td>f64</td><td>i64</td><td>str</td><td>i64</td><td>f64</td><td>f64</td><td>&hellip;</td><td>f64</td><td>f64</td><td>f64</td><td>f64</td><td>f64</td><td>str</td><td>f64</td><td>str</td><td>f64</td><td>str</td><td>i64</td><td>i64</td><td>i64</td><td>i64</td><td>i64</td><td>i64</td><td>i64</td><td>i64</td><td>i64</td><td>i64</td><td>i64</td><td>i64</td><td>i64</td><td>i64</td><td>i64</td><td>i64</td><td>i64</td><td>i64</td><td>i64</td><td>i64</td><td>i64</td><td>str</td><td>i64</td><td>i64</td><td>str</td><td>i64</td><td>i64</td></tr></thead><tbody><tr><td>&quot;00008ff9&quot;</td><td>&quot;Fall&quot;</td><td>5</td><td>0</td><td>&quot;Winter&quot;</td><td>51</td><td>&quot;Fall&quot;</td><td>16.877316</td><td>46.0</td><td>50.8</td><td>null</td><td>null</td><td>null</td><td>null</td><td>null</td><td>null</td><td>null</td><td>null</td><td>&quot;Fall&quot;</td><td>0</td><td>0</td><td>null</td><td>null</td><td>null</td><td>null</td><td>0</td><td>0</td><td>7.0</td><td>0</td><td>6.0</td><td>0</td><td>6.0</td><td>1</td><td>&quot;Fall&quot;</td><td>2</td><td>2.66855</td><td>16.8792</td><td>&hellip;</td><td>24.4349</td><td>8.89536</td><td>38.9177</td><td>19.5413</td><td>32.6909</td><td>null</td><td>null</td><td>null</td><td>null</td><td>&quot;Fall&quot;</td><td>5</td><td>4</td><td>4</td><td>0</td><td>4</td><td>0</td><td>0</td><td>4</td><td>0</td><td>0</td><td>4</td><td>0</td><td>4</td><td>4</td><td>4</td><td>4</td><td>4</td><td>4</td><td>2</td><td>4</td><td>55</td><td>null</td><td>null</td><td>null</td><td>&quot;Fall&quot;</td><td>3</td><td>2</td></tr><tr><td>&quot;000fd460&quot;</td><td>&quot;Summer&quot;</td><td>9</td><td>0</td><td>null</td><td>null</td><td>&quot;Fall&quot;</td><td>14.03559</td><td>48.0</td><td>46.0</td><td>22.0</td><td>75</td><td>70</td><td>122</td><td>null</td><td>null</td><td>null</td><td>null</td><td>&quot;Fall&quot;</td><td>3</td><td>0</td><td>null</td><td>null</td><td>null</td><td>null</td><td>5</td><td>0</td><td>11.0</td><td>1</td><td>11.0</td><td>1</td><td>3.0</td><td>0</td><td>&quot;Winter&quot;</td><td>2</td><td>2.57949</td><td>14.0371</td><td>&hellip;</td><td>21.0352</td><td>14.974</td><td>39.4497</td><td>15.4107</td><td>27.0552</td><td>null</td><td>null</td><td>&quot;Fall&quot;</td><td>2.34</td><td>&quot;Fall&quot;</td><td>0</td><td>0</td><td>0</td><td>0</td><td>0</td><td>0</td><td>0</td><td>0</td><td>0</td><td>0</td><td>0</td><td>0</td><td>0</td><td>0</td><td>0</td><td>0</td><td>0</td><td>0</td><td>0</td><td>0</td><td>0</td><td>&quot;Fall&quot;</td><td>46</td><td>64</td><td>&quot;Summer&quot;</td><td>0</td><td>0</td></tr><tr><td>&quot;00105258&quot;</td><td>&quot;Summer&quot;</td><td>10</td><td>1</td><td>&quot;Fall&quot;</td><td>71</td><td>&quot;Fall&quot;</td><td>16.648696</td><td>56.5</td><td>75.6</td><td>null</td><td>65</td><td>94</td><td>117</td><td>&quot;Fall&quot;</td><td>5</td><td>7</td><td>33</td><td>&quot;Fall&quot;</td><td>20</td><td>1</td><td>10.2</td><td>1</td><td>14.7</td><td>2</td><td>7</td><td>1</td><td>10.0</td><td>1</td><td>10.0</td><td>1</td><td>5.0</td><td>0</td><td>null</td><td>null</td><td>null</td><td>null</td><td>&hellip;</td><td>null</td><td>null</td><td>null</td><td>null</td><td>null</td><td>null</td><td>null</td><td>&quot;Summer&quot;</td><td>2.17</td><td>&quot;Fall&quot;</td><td>5</td><td>2</td><td>2</td><td>1</td><td>2</td><td>1</td><td>1</td><td>2</td><td>1</td><td>1</td><td>1</td><td>0</td><td>1</td><td>1</td><td>1</td><td>0</td><td>2</td><td>2</td><td>1</td><td>1</td><td>28</td><td>&quot;Fall&quot;</td><td>38</td><td>54</td><td>&quot;Summer&quot;</td><td>2</td><td>0</td></tr><tr><td>&quot;00115b9f&quot;</td><td>&quot;Winter&quot;</td><td>9</td><td>0</td><td>&quot;Fall&quot;</td><td>71</td><td>&quot;Summer&quot;</td><td>18.292347</td><td>56.0</td><td>81.6</td><td>null</td><td>60</td><td>97</td><td>117</td><td>&quot;Summer&quot;</td><td>6</td><td>9</td><td>37</td><td>&quot;Summer&quot;</td><td>18</td><td>1</td><td>null</td><td>null</td><td>null</td><td>null</td><td>5</td><td>0</td><td>7.0</td><td>0</td><td>7.0</td><td>0</td><td>7.0</td><td>1</td><td>&quot;Summer&quot;</td><td>3</td><td>3.84191</td><td>18.2943</td><td>&hellip;</td><td>30.4041</td><td>16.779</td><td>58.9338</td><td>26.4798</td><td>45.9966</td><td>null</td><td>null</td><td>&quot;Winter&quot;</td><td>2.451</td><td>&quot;Summer&quot;</td><td>4</td><td>2</td><td>4</td><td>0</td><td>5</td><td>1</td><td>0</td><td>3</td><td>2</td><td>2</td><td>3</td><td>0</td><td>3</td><td>0</td><td>0</td><td>3</td><td>4</td><td>3</td><td>4</td><td>1</td><td>44</td><td>&quot;Summer&quot;</td><td>31</td><td>45</td><td>&quot;Winter&quot;</td><td>0</td><td>1</td></tr><tr><td>&quot;0016bb22&quot;</td><td>&quot;Spring&quot;</td><td>18</td><td>1</td><td>&quot;Summer&quot;</td><td>null</td><td>null</td><td>null</td><td>null</td><td>null</td><td>null</td><td>null</td><td>null</td><td>null</td><td>null</td><td>null</td><td>null</td><td>null</td><td>null</td><td>null</td><td>null</td><td>null</td><td>null</td><td>null</td><td>null</td><td>null</td><td>null</td><td>null</td><td>null</td><td>null</td><td>null</td><td>null</td><td>null</td><td>null</td><td>null</td><td>null</td><td>null</td><td>&hellip;</td><td>null</td><td>null</td><td>null</td><td>null</td><td>null</td><td>&quot;Summer&quot;</td><td>1.04</td><td>null</td><td>null</td><td>null</td><td>null</td><td>null</td><td>null</td><td>null</td><td>null</td><td>null</td><td>null</td><td>null</td><td>null</td><td>null</td><td>null</td><td>null</td><td>null</td><td>null</td><td>null</td><td>null</td><td>null</td><td>null</td><td>null</td><td>null</td><td>null</td><td>null</td><td>null</td><td>null</td><td>null</td><td>null</td><td>null</td></tr><tr><td>&hellip;</td><td>&hellip;</td><td>&hellip;</td><td>&hellip;</td><td>&hellip;</td><td>&hellip;</td><td>&hellip;</td><td>&hellip;</td><td>&hellip;</td><td>&hellip;</td><td>&hellip;</td><td>&hellip;</td><td>&hellip;</td><td>&hellip;</td><td>&hellip;</td><td>&hellip;</td><td>&hellip;</td><td>&hellip;</td><td>&hellip;</td><td>&hellip;</td><td>&hellip;</td><td>&hellip;</td><td>&hellip;</td><td>&hellip;</td><td>&hellip;</td><td>&hellip;</td><td>&hellip;</td><td>&hellip;</td><td>&hellip;</td><td>&hellip;</td><td>&hellip;</td><td>&hellip;</td><td>&hellip;</td><td>&hellip;</td><td>&hellip;</td><td>&hellip;</td><td>&hellip;</td><td>&hellip;</td><td>&hellip;</td><td>&hellip;</td><td>&hellip;</td><td>&hellip;</td><td>&hellip;</td><td>&hellip;</td><td>&hellip;</td><td>&hellip;</td><td>&hellip;</td><td>&hellip;</td><td>&hellip;</td><td>&hellip;</td><td>&hellip;</td><td>&hellip;</td><td>&hellip;</td><td>&hellip;</td><td>&hellip;</td><td>&hellip;</td><td>&hellip;</td><td>&hellip;</td><td>&hellip;</td><td>&hellip;</td><td>&hellip;</td><td>&hellip;</td><td>&hellip;</td><td>&hellip;</td><td>&hellip;</td><td>&hellip;</td><td>&hellip;</td><td>&hellip;</td><td>&hellip;</td><td>&hellip;</td><td>&hellip;</td><td>&hellip;</td><td>&hellip;</td><td>&hellip;</td><td>&hellip;</td></tr><tr><td>&quot;ff8a2de4&quot;</td><td>&quot;Fall&quot;</td><td>13</td><td>0</td><td>&quot;Spring&quot;</td><td>60</td><td>&quot;Fall&quot;</td><td>16.36246</td><td>59.5</td><td>82.4</td><td>null</td><td>71</td><td>70</td><td>104</td><td>null</td><td>null</td><td>null</td><td>null</td><td>&quot;Fall&quot;</td><td>16</td><td>0</td><td>18.0</td><td>1</td><td>19.9</td><td>2</td><td>10</td><td>1</td><td>8.0</td><td>1</td><td>9.0</td><td>1</td><td>12.0</td><td>1</td><td>&quot;Fall&quot;</td><td>3</td><td>4.52277</td><td>16.3642</td><td>&hellip;</td><td>33.3709</td><td>17.9797</td><td>66.2889</td><td>29.779</td><td>52.832</td><td>null</td><td>null</td><td>&quot;Winter&quot;</td><td>3.26</td><td>&quot;Winter&quot;</td><td>3</td><td>3</td><td>3</td><td>2</td><td>3</td><td>2</td><td>2</td><td>2</td><td>2</td><td>1</td><td>2</td><td>0</td><td>2</td><td>0</td><td>1</td><td>0</td><td>2</td><td>1</td><td>1</td><td>0</td><td>32</td><td>&quot;Winter&quot;</td><td>35</td><td>50</td><td>&quot;Fall&quot;</td><td>1</td><td>1</td></tr><tr><td>&quot;ffa9794a&quot;</td><td>&quot;Winter&quot;</td><td>10</td><td>0</td><td>null</td><td>null</td><td>&quot;Spring&quot;</td><td>18.764678</td><td>53.5</td><td>76.4</td><td>27.0</td><td>60</td><td>78</td><td>118</td><td>null</td><td>null</td><td>null</td><td>null</td><td>&quot;Spring&quot;</td><td>0</td><td>0</td><td>null</td><td>null</td><td>null</td><td>null</td><td>4</td><td>0</td><td>0.0</td><td>0</td><td>0.0</td><td>0</td><td>12.0</td><td>1</td><td>&quot;Spring&quot;</td><td>null</td><td>null</td><td>null</td><td>&hellip;</td><td>null</td><td>null</td><td>null</td><td>null</td><td>null</td><td>null</td><td>null</td><td>&quot;Winter&quot;</td><td>2.34</td><td>null</td><td>null</td><td>null</td><td>null</td><td>null</td><td>null</td><td>null</td><td>null</td><td>null</td><td>null</td><td>null</td><td>null</td><td>null</td><td>null</td><td>null</td><td>null</td><td>null</td><td>null</td><td>null</td><td>null</td><td>null</td><td>null</td><td>null</td><td>null</td><td>null</td><td>&quot;Winter&quot;</td><td>0</td><td>null</td></tr><tr><td>&quot;ffcd4dbd&quot;</td><td>&quot;Fall&quot;</td><td>11</td><td>0</td><td>&quot;Spring&quot;</td><td>68</td><td>&quot;Winter&quot;</td><td>21.4415</td><td>60.0</td><td>109.8</td><td>null</td><td>79</td><td>99</td><td>116</td><td>null</td><td>null</td><td>null</td><td>null</td><td>&quot;Winter&quot;</td><td>15</td><td>1</td><td>18.5</td><td>2</td><td>15.8</td><td>2</td><td>0</td><td>0</td><td>10.0</td><td>1</td><td>10.0</td><td>1</td><td>14.0</td><td>1</td><td>&quot;Winter&quot;</td><td>2</td><td>4.41305</td><td>21.4438</td><td>&hellip;</td><td>33.9805</td><td>21.3403</td><td>71.3903</td><td>28.7792</td><td>54.463</td><td>null</td><td>null</td><td>&quot;Winter&quot;</td><td>2.729</td><td>&quot;Winter&quot;</td><td>5</td><td>5</td><td>3</td><td>0</td><td>5</td><td>1</td><td>0</td><td>2</td><td>0</td><td>2</td><td>1</td><td>0</td><td>1</td><td>3</td><td>0</td><td>0</td><td>1</td><td>1</td><td>0</td><td>1</td><td>31</td><td>&quot;Winter&quot;</td><td>56</td><td>77</td><td>&quot;Fall&quot;</td><td>0</td><td>1</td></tr><tr><td>&quot;ffed1dd5&quot;</td><td>&quot;Spring&quot;</td><td>13</td><td>0</td><td>&quot;Spring&quot;</td><td>70</td><td>&quot;Winter&quot;</td><td>12.235895</td><td>70.7</td><td>87.0</td><td>null</td><td>59</td><td>61</td><td>113</td><td>null</td><td>null</td><td>null</td><td>null</td><td>&quot;Spring&quot;</td><td>null</td><td>null</td><td>null</td><td>null</td><td>null</td><td>null</td><td>null</td><td>null</td><td>null</td><td>null</td><td>null</td><td>null</td><td>null</td><td>null</td><td>&quot;Summer&quot;</td><td>4</td><td>6.66168</td><td>12.2372</td><td>&hellip;</td><td>41.3715</td><td>25.0054</td><td>86.2475</td><td>45.434</td><td>67.9038</td><td>null</td><td>null</td><td>&quot;Spring&quot;</td><td>3.3</td><td>&quot;Spring&quot;</td><td>2</td><td>1</td><td>1</td><td>1</td><td>0</td><td>0</td><td>0</td><td>1</td><td>1</td><td>1</td><td>2</td><td>0</td><td>1</td><td>1</td><td>2</td><td>1</td><td>1</td><td>1</td><td>1</td><td>1</td><td>19</td><td>&quot;Spring&quot;</td><td>33</td><td>47</td><td>&quot;Spring&quot;</td><td>1</td><td>0</td></tr><tr><td>&quot;ffef538e&quot;</td><td>&quot;Spring&quot;</td><td>11</td><td>0</td><td>null</td><td>null</td><td>&quot;Winter&quot;</td><td>null</td><td>null</td><td>null</td><td>null</td><td>null</td><td>null</td><td>null</td><td>null</td><td>null</td><td>null</td><td>null</td><td>&quot;Winter&quot;</td><td>null</td><td>null</td><td>null</td><td>null</td><td>null</td><td>null</td><td>null</td><td>null</td><td>null</td><td>null</td><td>null</td><td>null</td><td>null</td><td>null</td><td>null</td><td>null</td><td>null</td><td>null</td><td>&hellip;</td><td>null</td><td>null</td><td>null</td><td>null</td><td>null</td><td>null</td><td>null</td><td>null</td><td>null</td><td>null</td><td>null</td><td>null</td><td>null</td><td>null</td><td>null</td><td>null</td><td>null</td><td>null</td><td>null</td><td>null</td><td>null</td><td>null</td><td>null</td><td>null</td><td>null</td><td>null</td><td>null</td><td>null</td><td>null</td><td>null</td><td>null</td><td>null</td><td>null</td><td>null</td><td>&quot;Spring&quot;</td><td>1</td><td>null</td></tr></tbody></table></div>"
      ],
      "text/plain": [
       "shape: (3_960, 82)\n",
       "┌──────────┬────────────┬────────────┬────────────┬───┬────────────┬────────────┬───────────┬──────┐\n",
       "│ id       ┆ Basic_Demo ┆ Basic_Demo ┆ Basic_Demo ┆ … ┆ SDS-SDS_To ┆ PreInt_Edu ┆ PreInt_Ed ┆ sii  │\n",
       "│ ---      ┆ s-Enroll_S ┆ s-Age      ┆ s-Sex      ┆   ┆ tal_T      ┆ Hx-Season  ┆ uHx-compu ┆ ---  │\n",
       "│ str      ┆ eason      ┆ ---        ┆ ---        ┆   ┆ ---        ┆ ---        ┆ terintern ┆ i64  │\n",
       "│          ┆ ---        ┆ i64        ┆ i64        ┆   ┆ i64        ┆ str        ┆ et_…      ┆      │\n",
       "│          ┆ str        ┆            ┆            ┆   ┆            ┆            ┆ ---       ┆      │\n",
       "│          ┆            ┆            ┆            ┆   ┆            ┆            ┆ i64       ┆      │\n",
       "╞══════════╪════════════╪════════════╪════════════╪═══╪════════════╪════════════╪═══════════╪══════╡\n",
       "│ 00008ff9 ┆ Fall       ┆ 5          ┆ 0          ┆ … ┆ null       ┆ Fall       ┆ 3         ┆ 2    │\n",
       "│ 000fd460 ┆ Summer     ┆ 9          ┆ 0          ┆ … ┆ 64         ┆ Summer     ┆ 0         ┆ 0    │\n",
       "│ 00105258 ┆ Summer     ┆ 10         ┆ 1          ┆ … ┆ 54         ┆ Summer     ┆ 2         ┆ 0    │\n",
       "│ 00115b9f ┆ Winter     ┆ 9          ┆ 0          ┆ … ┆ 45         ┆ Winter     ┆ 0         ┆ 1    │\n",
       "│ 0016bb22 ┆ Spring     ┆ 18         ┆ 1          ┆ … ┆ null       ┆ null       ┆ null      ┆ null │\n",
       "│ …        ┆ …          ┆ …          ┆ …          ┆ … ┆ …          ┆ …          ┆ …         ┆ …    │\n",
       "│ ff8a2de4 ┆ Fall       ┆ 13         ┆ 0          ┆ … ┆ 50         ┆ Fall       ┆ 1         ┆ 1    │\n",
       "│ ffa9794a ┆ Winter     ┆ 10         ┆ 0          ┆ … ┆ null       ┆ Winter     ┆ 0         ┆ null │\n",
       "│ ffcd4dbd ┆ Fall       ┆ 11         ┆ 0          ┆ … ┆ 77         ┆ Fall       ┆ 0         ┆ 1    │\n",
       "│ ffed1dd5 ┆ Spring     ┆ 13         ┆ 0          ┆ … ┆ 47         ┆ Spring     ┆ 1         ┆ 0    │\n",
       "│ ffef538e ┆ Spring     ┆ 11         ┆ 0          ┆ … ┆ null       ┆ Spring     ┆ 1         ┆ null │\n",
       "└──────────┴────────────┴────────────┴────────────┴───┴────────────┴────────────┴───────────┴──────┘"
      ]
     },
     "execution_count": 11,
     "metadata": {},
     "output_type": "execute_result"
    }
   ],
   "source": [
    "train"
   ]
  },
  {
   "cell_type": "code",
   "execution_count": 10,
   "id": "6373769b-bdee-486a-baed-8d4f9c9d97f3",
   "metadata": {},
   "outputs": [
    {
     "data": {
      "text/html": [
       "<div><style>\n",
       ".dataframe > thead > tr,\n",
       ".dataframe > tbody > tr {\n",
       "  text-align: right;\n",
       "  white-space: pre-wrap;\n",
       "}\n",
       "</style>\n",
       "<small>shape: (9, 83)</small><table border=\"1\" class=\"dataframe\"><thead><tr><th>statistic</th><th>id</th><th>Basic_Demos-Enroll_Season</th><th>Basic_Demos-Age</th><th>Basic_Demos-Sex</th><th>CGAS-Season</th><th>CGAS-CGAS_Score</th><th>Physical-Season</th><th>Physical-BMI</th><th>Physical-Height</th><th>Physical-Weight</th><th>Physical-Waist_Circumference</th><th>Physical-Diastolic_BP</th><th>Physical-HeartRate</th><th>Physical-Systolic_BP</th><th>Fitness_Endurance-Season</th><th>Fitness_Endurance-Max_Stage</th><th>Fitness_Endurance-Time_Mins</th><th>Fitness_Endurance-Time_Sec</th><th>FGC-Season</th><th>FGC-FGC_CU</th><th>FGC-FGC_CU_Zone</th><th>FGC-FGC_GSND</th><th>FGC-FGC_GSND_Zone</th><th>FGC-FGC_GSD</th><th>FGC-FGC_GSD_Zone</th><th>FGC-FGC_PU</th><th>FGC-FGC_PU_Zone</th><th>FGC-FGC_SRL</th><th>FGC-FGC_SRL_Zone</th><th>FGC-FGC_SRR</th><th>FGC-FGC_SRR_Zone</th><th>FGC-FGC_TL</th><th>FGC-FGC_TL_Zone</th><th>BIA-Season</th><th>BIA-BIA_Activity_Level_num</th><th>BIA-BIA_BMC</th><th>&hellip;</th><th>BIA-BIA_ICW</th><th>BIA-BIA_LDM</th><th>BIA-BIA_LST</th><th>BIA-BIA_SMM</th><th>BIA-BIA_TBW</th><th>PAQ_A-Season</th><th>PAQ_A-PAQ_A_Total</th><th>PAQ_C-Season</th><th>PAQ_C-PAQ_C_Total</th><th>PCIAT-Season</th><th>PCIAT-PCIAT_01</th><th>PCIAT-PCIAT_02</th><th>PCIAT-PCIAT_03</th><th>PCIAT-PCIAT_04</th><th>PCIAT-PCIAT_05</th><th>PCIAT-PCIAT_06</th><th>PCIAT-PCIAT_07</th><th>PCIAT-PCIAT_08</th><th>PCIAT-PCIAT_09</th><th>PCIAT-PCIAT_10</th><th>PCIAT-PCIAT_11</th><th>PCIAT-PCIAT_12</th><th>PCIAT-PCIAT_13</th><th>PCIAT-PCIAT_14</th><th>PCIAT-PCIAT_15</th><th>PCIAT-PCIAT_16</th><th>PCIAT-PCIAT_17</th><th>PCIAT-PCIAT_18</th><th>PCIAT-PCIAT_19</th><th>PCIAT-PCIAT_20</th><th>PCIAT-PCIAT_Total</th><th>SDS-Season</th><th>SDS-SDS_Total_Raw</th><th>SDS-SDS_Total_T</th><th>PreInt_EduHx-Season</th><th>PreInt_EduHx-computerinternet_hoursday</th><th>sii</th></tr><tr><td>str</td><td>str</td><td>str</td><td>f64</td><td>f64</td><td>str</td><td>f64</td><td>str</td><td>f64</td><td>f64</td><td>f64</td><td>f64</td><td>f64</td><td>f64</td><td>f64</td><td>str</td><td>f64</td><td>f64</td><td>f64</td><td>str</td><td>f64</td><td>f64</td><td>f64</td><td>f64</td><td>f64</td><td>f64</td><td>f64</td><td>f64</td><td>f64</td><td>f64</td><td>f64</td><td>f64</td><td>f64</td><td>f64</td><td>str</td><td>f64</td><td>f64</td><td>&hellip;</td><td>f64</td><td>f64</td><td>f64</td><td>f64</td><td>f64</td><td>str</td><td>f64</td><td>str</td><td>f64</td><td>str</td><td>f64</td><td>f64</td><td>f64</td><td>f64</td><td>f64</td><td>f64</td><td>f64</td><td>f64</td><td>f64</td><td>f64</td><td>f64</td><td>f64</td><td>f64</td><td>f64</td><td>f64</td><td>f64</td><td>f64</td><td>f64</td><td>f64</td><td>f64</td><td>f64</td><td>str</td><td>f64</td><td>f64</td><td>str</td><td>f64</td><td>f64</td></tr></thead><tbody><tr><td>&quot;count&quot;</td><td>&quot;3960&quot;</td><td>&quot;3960&quot;</td><td>3960.0</td><td>3960.0</td><td>&quot;2555&quot;</td><td>2421.0</td><td>&quot;3310&quot;</td><td>3022.0</td><td>3027.0</td><td>3076.0</td><td>898.0</td><td>2954.0</td><td>2967.0</td><td>2954.0</td><td>&quot;1308&quot;</td><td>743.0</td><td>740.0</td><td>740.0</td><td>&quot;3346&quot;</td><td>2322.0</td><td>2282.0</td><td>1074.0</td><td>1062.0</td><td>1074.0</td><td>1063.0</td><td>2310.0</td><td>2271.0</td><td>2305.0</td><td>2267.0</td><td>2307.0</td><td>2269.0</td><td>2324.0</td><td>2285.0</td><td>&quot;2145&quot;</td><td>1991.0</td><td>1991.0</td><td>&hellip;</td><td>1991.0</td><td>1991.0</td><td>1991.0</td><td>1991.0</td><td>1991.0</td><td>&quot;475&quot;</td><td>475.0</td><td>&quot;1721&quot;</td><td>1721.0</td><td>&quot;2736&quot;</td><td>2733.0</td><td>2734.0</td><td>2731.0</td><td>2731.0</td><td>2729.0</td><td>2732.0</td><td>2729.0</td><td>2730.0</td><td>2730.0</td><td>2733.0</td><td>2734.0</td><td>2731.0</td><td>2729.0</td><td>2732.0</td><td>2730.0</td><td>2728.0</td><td>2725.0</td><td>2728.0</td><td>2730.0</td><td>2733.0</td><td>2736.0</td><td>&quot;2618&quot;</td><td>2609.0</td><td>2606.0</td><td>&quot;3540&quot;</td><td>3301.0</td><td>2736.0</td></tr><tr><td>&quot;null_count&quot;</td><td>&quot;0&quot;</td><td>&quot;0&quot;</td><td>0.0</td><td>0.0</td><td>&quot;1405&quot;</td><td>1539.0</td><td>&quot;650&quot;</td><td>938.0</td><td>933.0</td><td>884.0</td><td>3062.0</td><td>1006.0</td><td>993.0</td><td>1006.0</td><td>&quot;2652&quot;</td><td>3217.0</td><td>3220.0</td><td>3220.0</td><td>&quot;614&quot;</td><td>1638.0</td><td>1678.0</td><td>2886.0</td><td>2898.0</td><td>2886.0</td><td>2897.0</td><td>1650.0</td><td>1689.0</td><td>1655.0</td><td>1693.0</td><td>1653.0</td><td>1691.0</td><td>1636.0</td><td>1675.0</td><td>&quot;1815&quot;</td><td>1969.0</td><td>1969.0</td><td>&hellip;</td><td>1969.0</td><td>1969.0</td><td>1969.0</td><td>1969.0</td><td>1969.0</td><td>&quot;3485&quot;</td><td>3485.0</td><td>&quot;2239&quot;</td><td>2239.0</td><td>&quot;1224&quot;</td><td>1227.0</td><td>1226.0</td><td>1229.0</td><td>1229.0</td><td>1231.0</td><td>1228.0</td><td>1231.0</td><td>1230.0</td><td>1230.0</td><td>1227.0</td><td>1226.0</td><td>1229.0</td><td>1231.0</td><td>1228.0</td><td>1230.0</td><td>1232.0</td><td>1235.0</td><td>1232.0</td><td>1230.0</td><td>1227.0</td><td>1224.0</td><td>&quot;1342&quot;</td><td>1351.0</td><td>1354.0</td><td>&quot;420&quot;</td><td>659.0</td><td>1224.0</td></tr><tr><td>&quot;mean&quot;</td><td>null</td><td>null</td><td>10.433586</td><td>0.372727</td><td>null</td><td>65.454771</td><td>null</td><td>19.331929</td><td>55.946713</td><td>89.038615</td><td>27.278508</td><td>69.648951</td><td>81.597236</td><td>116.983074</td><td>null</td><td>4.989233</td><td>7.37027</td><td>27.581081</td><td>null</td><td>11.25969</td><td>0.476337</td><td>22.420438</td><td>1.829567</td><td>23.518622</td><td>1.904045</td><td>5.579654</td><td>0.330251</td><td>8.694924</td><td>0.61888</td><td>8.805635</td><td>0.620097</td><td>9.252775</td><td>0.785558</td><td>null</td><td>2.651431</td><td>6.719826</td><td>&hellip;</td><td>33.17338</td><td>20.02299</td><td>67.301883</td><td>34.389466</td><td>53.998726</td><td>null</td><td>2.178853</td><td>null</td><td>2.58955</td><td>null</td><td>2.370655</td><td>2.177762</td><td>2.399854</td><td>0.839253</td><td>2.297545</td><td>1.06369</td><td>0.586295</td><td>1.24652</td><td>1.062637</td><td>1.304793</td><td>1.685443</td><td>0.244599</td><td>1.340051</td><td>1.035505</td><td>1.499634</td><td>1.452346</td><td>1.62789</td><td>1.613636</td><td>1.158974</td><td>0.943652</td><td>27.896199</td><td>null</td><td>41.088923</td><td>57.763622</td><td>null</td><td>1.060588</td><td>0.580409</td></tr><tr><td>&quot;std&quot;</td><td>null</td><td>null</td><td>3.574648</td><td>0.483591</td><td>null</td><td>22.341862</td><td>null</td><td>5.113934</td><td>7.473764</td><td>44.56904</td><td>5.567287</td><td>13.611226</td><td>13.665196</td><td>17.061225</td><td>null</td><td>2.014072</td><td>3.189662</td><td>17.707751</td><td>null</td><td>11.807781</td><td>0.499549</td><td>10.833995</td><td>0.612585</td><td>11.148951</td><td>0.612344</td><td>7.390161</td><td>0.470407</td><td>3.429301</td><td>0.485769</td><td>3.422167</td><td>0.485469</td><td>2.988863</td><td>0.410525</td><td>null</td><td>1.028267</td><td>92.586325</td><td>&hellip;</td><td>56.272346</td><td>70.21561</td><td>108.705918</td><td>84.050607</td><td>129.362539</td><td>null</td><td>0.849476</td><td>null</td><td>0.783937</td><td>null</td><td>1.673312</td><td>1.697117</td><td>1.588807</td><td>1.195601</td><td>1.705218</td><td>1.268282</td><td>1.049355</td><td>1.342582</td><td>1.258797</td><td>1.331715</td><td>1.543074</td><td>0.522956</td><td>1.411156</td><td>1.301712</td><td>1.492929</td><td>1.4956</td><td>1.445622</td><td>1.529178</td><td>1.343661</td><td>1.18546</td><td>20.338853</td><td>null</td><td>10.427433</td><td>13.196091</td><td>null</td><td>1.094875</td><td>0.771122</td></tr><tr><td>&quot;min&quot;</td><td>&quot;00008ff9&quot;</td><td>&quot;Fall&quot;</td><td>5.0</td><td>0.0</td><td>&quot;Fall&quot;</td><td>25.0</td><td>&quot;Fall&quot;</td><td>0.0</td><td>33.0</td><td>0.0</td><td>18.0</td><td>0.0</td><td>27.0</td><td>0.0</td><td>&quot;Fall&quot;</td><td>0.0</td><td>0.0</td><td>0.0</td><td>&quot;Fall&quot;</td><td>0.0</td><td>0.0</td><td>0.0</td><td>1.0</td><td>0.0</td><td>1.0</td><td>0.0</td><td>0.0</td><td>0.0</td><td>0.0</td><td>0.0</td><td>0.0</td><td>0.0</td><td>0.0</td><td>&quot;Fall&quot;</td><td>1.0</td><td>-7.78961</td><td>&hellip;</td><td>14.489</td><td>4.63581</td><td>23.6201</td><td>4.65573</td><td>20.5892</td><td>&quot;Fall&quot;</td><td>0.66</td><td>&quot;Fall&quot;</td><td>0.58</td><td>&quot;Fall&quot;</td><td>0.0</td><td>0.0</td><td>0.0</td><td>0.0</td><td>0.0</td><td>0.0</td><td>0.0</td><td>0.0</td><td>0.0</td><td>0.0</td><td>0.0</td><td>0.0</td><td>0.0</td><td>0.0</td><td>0.0</td><td>0.0</td><td>0.0</td><td>0.0</td><td>0.0</td><td>0.0</td><td>0.0</td><td>&quot;Fall&quot;</td><td>17.0</td><td>38.0</td><td>&quot;Fall&quot;</td><td>0.0</td><td>0.0</td></tr><tr><td>&quot;25%&quot;</td><td>null</td><td>null</td><td>8.0</td><td>0.0</td><td>null</td><td>59.0</td><td>null</td><td>15.86931</td><td>50.0</td><td>57.2</td><td>23.0</td><td>61.0</td><td>72.0</td><td>107.0</td><td>null</td><td>4.0</td><td>6.0</td><td>13.0</td><td>null</td><td>3.0</td><td>0.0</td><td>15.1</td><td>1.0</td><td>16.2</td><td>2.0</td><td>0.0</td><td>0.0</td><td>7.0</td><td>0.0</td><td>7.0</td><td>0.0</td><td>7.0</td><td>1.0</td><td>null</td><td>2.0</td><td>2.96731</td><td>&hellip;</td><td>24.4636</td><td>12.99</td><td>45.2042</td><td>21.1424</td><td>35.8871</td><td>null</td><td>1.49</td><td>null</td><td>2.02</td><td>null</td><td>1.0</td><td>1.0</td><td>1.0</td><td>0.0</td><td>1.0</td><td>0.0</td><td>0.0</td><td>0.0</td><td>0.0</td><td>0.0</td><td>0.0</td><td>0.0</td><td>0.0</td><td>0.0</td><td>0.0</td><td>0.0</td><td>0.0</td><td>0.0</td><td>0.0</td><td>0.0</td><td>12.0</td><td>null</td><td>33.0</td><td>47.0</td><td>null</td><td>0.0</td><td>0.0</td></tr><tr><td>&quot;50%&quot;</td><td>null</td><td>null</td><td>10.0</td><td>0.0</td><td>null</td><td>65.0</td><td>null</td><td>17.938739</td><td>55.0</td><td>77.0</td><td>26.0</td><td>68.0</td><td>81.0</td><td>114.0</td><td>null</td><td>5.0</td><td>7.0</td><td>28.0</td><td>null</td><td>9.0</td><td>0.0</td><td>20.1</td><td>2.0</td><td>21.2</td><td>2.0</td><td>3.0</td><td>0.0</td><td>9.0</td><td>1.0</td><td>9.0</td><td>1.0</td><td>10.0</td><td>1.0</td><td>null</td><td>3.0</td><td>3.92272</td><td>&hellip;</td><td>28.8558</td><td>16.4388</td><td>56.9964</td><td>27.4151</td><td>44.987</td><td>null</td><td>2.01</td><td>null</td><td>2.54</td><td>null</td><td>2.0</td><td>2.0</td><td>2.0</td><td>0.0</td><td>2.0</td><td>1.0</td><td>0.0</td><td>1.0</td><td>1.0</td><td>1.0</td><td>2.0</td><td>0.0</td><td>1.0</td><td>1.0</td><td>1.0</td><td>1.0</td><td>1.0</td><td>1.0</td><td>1.0</td><td>1.0</td><td>26.0</td><td>null</td><td>39.0</td><td>55.0</td><td>null</td><td>1.0</td><td>0.0</td></tr><tr><td>&quot;75%&quot;</td><td>null</td><td>null</td><td>13.0</td><td>1.0</td><td>null</td><td>75.0</td><td>null</td><td>21.575719</td><td>62.0</td><td>113.8</td><td>30.0</td><td>76.0</td><td>91.0</td><td>125.0</td><td>null</td><td>6.0</td><td>9.0</td><td>43.0</td><td>null</td><td>16.0</td><td>1.0</td><td>26.6</td><td>2.0</td><td>28.2</td><td>2.0</td><td>9.0</td><td>1.0</td><td>11.0</td><td>1.0</td><td>11.0</td><td>1.0</td><td>12.0</td><td>1.0</td><td>null</td><td>3.0</td><td>5.46123</td><td>&hellip;</td><td>35.4838</td><td>22.182</td><td>77.1309</td><td>38.188</td><td>60.3215</td><td>null</td><td>2.78</td><td>null</td><td>3.16</td><td>null</td><td>4.0</td><td>4.0</td><td>4.0</td><td>1.0</td><td>4.0</td><td>2.0</td><td>1.0</td><td>2.0</td><td>2.0</td><td>2.0</td><td>3.0</td><td>0.0</td><td>2.0</td><td>2.0</td><td>2.0</td><td>2.0</td><td>3.0</td><td>2.0</td><td>2.0</td><td>1.0</td><td>41.0</td><td>null</td><td>46.0</td><td>64.0</td><td>null</td><td>2.0</td><td>1.0</td></tr><tr><td>&quot;max&quot;</td><td>&quot;ffef538e&quot;</td><td>&quot;Winter&quot;</td><td>22.0</td><td>1.0</td><td>&quot;Winter&quot;</td><td>999.0</td><td>&quot;Winter&quot;</td><td>59.132048</td><td>78.5</td><td>315.0</td><td>50.0</td><td>179.0</td><td>138.0</td><td>203.0</td><td>&quot;Winter&quot;</td><td>28.0</td><td>20.0</td><td>59.0</td><td>&quot;Winter&quot;</td><td>115.0</td><td>1.0</td><td>124.0</td><td>3.0</td><td>123.8</td><td>3.0</td><td>51.0</td><td>1.0</td><td>21.7</td><td>1.0</td><td>21.0</td><td>1.0</td><td>22.0</td><td>1.0</td><td>&quot;Winter&quot;</td><td>5.0</td><td>4115.36</td><td>&hellip;</td><td>2457.91</td><td>3108.17</td><td>4683.71</td><td>3607.69</td><td>5690.91</td><td>&quot;Winter&quot;</td><td>4.71</td><td>&quot;Winter&quot;</td><td>4.79</td><td>&quot;Winter&quot;</td><td>5.0</td><td>5.0</td><td>5.0</td><td>5.0</td><td>5.0</td><td>5.0</td><td>5.0</td><td>5.0</td><td>5.0</td><td>5.0</td><td>5.0</td><td>5.0</td><td>5.0</td><td>5.0</td><td>5.0</td><td>5.0</td><td>5.0</td><td>5.0</td><td>5.0</td><td>5.0</td><td>93.0</td><td>&quot;Winter&quot;</td><td>96.0</td><td>100.0</td><td>&quot;Winter&quot;</td><td>3.0</td><td>3.0</td></tr></tbody></table></div>"
      ],
      "text/plain": [
       "shape: (9, 83)\n",
       "┌────────────┬──────────┬───────────┬───────────┬───┬───────────┬───────────┬───────────┬──────────┐\n",
       "│ statistic  ┆ id       ┆ Basic_Dem ┆ Basic_Dem ┆ … ┆ SDS-SDS_T ┆ PreInt_Ed ┆ PreInt_Ed ┆ sii      │\n",
       "│ ---        ┆ ---      ┆ os-Enroll ┆ os-Age    ┆   ┆ otal_T    ┆ uHx-Seaso ┆ uHx-compu ┆ ---      │\n",
       "│ str        ┆ str      ┆ _Season   ┆ ---       ┆   ┆ ---       ┆ n         ┆ terintern ┆ f64      │\n",
       "│            ┆          ┆ ---       ┆ f64       ┆   ┆ f64       ┆ ---       ┆ et_…      ┆          │\n",
       "│            ┆          ┆ str       ┆           ┆   ┆           ┆ str       ┆ ---       ┆          │\n",
       "│            ┆          ┆           ┆           ┆   ┆           ┆           ┆ f64       ┆          │\n",
       "╞════════════╪══════════╪═══════════╪═══════════╪═══╪═══════════╪═══════════╪═══════════╪══════════╡\n",
       "│ count      ┆ 3960     ┆ 3960      ┆ 3960.0    ┆ … ┆ 2606.0    ┆ 3540      ┆ 3301.0    ┆ 2736.0   │\n",
       "│ null_count ┆ 0        ┆ 0         ┆ 0.0       ┆ … ┆ 1354.0    ┆ 420       ┆ 659.0     ┆ 1224.0   │\n",
       "│ mean       ┆ null     ┆ null      ┆ 10.433586 ┆ … ┆ 57.763622 ┆ null      ┆ 1.060588  ┆ 0.580409 │\n",
       "│ std        ┆ null     ┆ null      ┆ 3.574648  ┆ … ┆ 13.196091 ┆ null      ┆ 1.094875  ┆ 0.771122 │\n",
       "│ min        ┆ 00008ff9 ┆ Fall      ┆ 5.0       ┆ … ┆ 38.0      ┆ Fall      ┆ 0.0       ┆ 0.0      │\n",
       "│ 25%        ┆ null     ┆ null      ┆ 8.0       ┆ … ┆ 47.0      ┆ null      ┆ 0.0       ┆ 0.0      │\n",
       "│ 50%        ┆ null     ┆ null      ┆ 10.0      ┆ … ┆ 55.0      ┆ null      ┆ 1.0       ┆ 0.0      │\n",
       "│ 75%        ┆ null     ┆ null      ┆ 13.0      ┆ … ┆ 64.0      ┆ null      ┆ 2.0       ┆ 1.0      │\n",
       "│ max        ┆ ffef538e ┆ Winter    ┆ 22.0      ┆ … ┆ 100.0     ┆ Winter    ┆ 3.0       ┆ 3.0      │\n",
       "└────────────┴──────────┴───────────┴───────────┴───┴───────────┴───────────┴───────────┴──────────┘"
      ]
     },
     "execution_count": 10,
     "metadata": {},
     "output_type": "execute_result"
    }
   ],
   "source": [
    "train.describe()"
   ]
  },
  {
   "cell_type": "markdown",
   "id": "000a2c8b-e783-4ed6-a26d-9d8264bd2dc9",
   "metadata": {},
   "source": [
    "Let's check the parquet files:"
   ]
  },
  {
   "cell_type": "code",
   "execution_count": 99,
   "id": "a54301f8-1ffc-40f1-ac7f-42fcd3c77f5c",
   "metadata": {},
   "outputs": [],
   "source": [
    "def get_pq(user_id, train=True):\n",
    "    if train:\n",
    "        data_type = 'train'\n",
    "    else:\n",
    "        data_type = 'test'\n",
    "        \n",
    "    user_pq = data_path / f'series_{data_type}.parquet' / f'id={user_id}'\n",
    "    if user_pq.is_dir():\n",
    "        return str(user_pq)\n",
    "\n",
    "    return None\n",
    "\n",
    "def get_users_pq(df, train=True):\n",
    "    if train:\n",
    "        data_type = 'train'\n",
    "    else:\n",
    "        data_type = 'test'\n",
    "\n",
    "    users_pq = []\n",
    "\n",
    "    for user_id in df['id']:\n",
    "        users_pq.append(get_pq(user_id))\n",
    "\n",
    "    return users_pq"
   ]
  },
  {
   "cell_type": "code",
   "execution_count": 98,
   "id": "e196b547-7edb-49ce-a2fc-d42dbe7fbd32",
   "metadata": {},
   "outputs": [],
   "source": [
    "users_pq = get_users_pq(train)\n",
    "\n",
    "assert len(users_pq) == train.height"
   ]
  },
  {
   "cell_type": "code",
   "execution_count": 101,
   "id": "f5957fde-39e5-4dea-a230-c8011c78fc9b",
   "metadata": {},
   "outputs": [
    {
     "name": "stdout",
     "output_type": "stream",
     "text": [
      "996 /home/fbaltor/.cache/kagglehub/competitions/child-mind-institute-problematic-internet-use/series_train.parquet/id=00115b9f\n"
     ]
    }
   ],
   "source": [
    "users_pq_not_none = [user for user in users_pq if user is not None]\n",
    "\n",
    "print(len(users_pq_not_none), users_pq_not_none[0])"
   ]
  },
  {
   "cell_type": "markdown",
   "id": "7122a3ba-919a-4e6c-884a-50f2aaa8bfeb",
   "metadata": {},
   "source": [
    "Checking that all the parquet directories have the same structure:"
   ]
  },
  {
   "cell_type": "code",
   "execution_count": 106,
   "id": "db31c340-c17e-4fe6-8e1b-ed8fafcdfee0",
   "metadata": {},
   "outputs": [],
   "source": [
    "# Asserting that the organization of parquet folders are the same, i.e.:\n",
    "# 'series_{train, test}.parquet/id={user_id}/part-0.parquet'\n",
    "\n",
    "import os\n",
    "\n",
    "subfiles = []\n",
    "for user_pq_path in users_pq_not_none:\n",
    "    for root, dirs, files in os.walk(user_pq_path):\n",
    "        subfiles.append(files)\n",
    "\n",
    "subfiles = [\n",
    "    file\n",
    "    for files in subfiles\n",
    "    for file in files\n",
    "]\n",
    "\n",
    "subfiles = list(set(subfiles))\n",
    "\n",
    "assert len(subfiles) == 1\n",
    "assert subfiles[0] == 'part-0.parquet'"
   ]
  },
  {
   "cell_type": "markdown",
   "id": "b9b961b0-4b05-4fdd-9d65-1f255447103f",
   "metadata": {},
   "source": [
    "Since all the parquet's have the same file structure, let's update the parquet functions:"
   ]
  },
  {
   "cell_type": "code",
   "execution_count": 109,
   "id": "3fcedcd0-3f3e-4091-a75c-9a82429d40ff",
   "metadata": {},
   "outputs": [],
   "source": [
    "# Since the parquet files have the same file structure, let's change the functions\n",
    "\n",
    "def get_pq(user_id, train=True):\n",
    "    if train:\n",
    "        data_type = 'train'\n",
    "    else:\n",
    "        data_type = 'test'\n",
    "        \n",
    "    user_pq = data_path / f'series_{data_type}.parquet' / f'id={user_id}' / 'part-0.parquet'\n",
    "    if user_pq.is_dir() or user_pq.is_file():\n",
    "        return str(user_pq)\n",
    "\n",
    "    return None\n",
    "\n",
    "def get_users_pq(df, train=True):\n",
    "    if train:\n",
    "        data_type = 'train'\n",
    "    else:\n",
    "        data_type = 'test'\n",
    "\n",
    "    users_pq = []\n",
    "\n",
    "    for user_id in df['id']:\n",
    "        users_pq.append(get_pq(user_id))\n",
    "\n",
    "    return users_pq"
   ]
  },
  {
   "cell_type": "code",
   "execution_count": 110,
   "id": "06ca06a7-e0d9-4ed4-81b5-1d300ebbb135",
   "metadata": {},
   "outputs": [],
   "source": [
    "users_pq = get_users_pq(train)\n",
    "users_pq_not_none = [user for user in users_pq if user is not None]"
   ]
  },
  {
   "cell_type": "code",
   "execution_count": 111,
   "id": "6f659874-11bd-496e-a3ab-c5c6e0d2fa09",
   "metadata": {},
   "outputs": [
    {
     "name": "stdout",
     "output_type": "stream",
     "text": [
      "/home/fbaltor/.cache/kagglehub/competitions/child-mind-institute-problematic-internet-use/series_train.parquet/id=69b65679/part-0.parquet\n"
     ]
    },
    {
     "data": {
      "text/html": [
       "<div><style>\n",
       ".dataframe > thead > tr,\n",
       ".dataframe > tbody > tr {\n",
       "  text-align: right;\n",
       "  white-space: pre-wrap;\n",
       "}\n",
       "</style>\n",
       "<small>shape: (102_336, 13)</small><table border=\"1\" class=\"dataframe\"><thead><tr><th>step</th><th>X</th><th>Y</th><th>Z</th><th>enmo</th><th>anglez</th><th>non-wear_flag</th><th>light</th><th>battery_voltage</th><th>time_of_day</th><th>weekday</th><th>quarter</th><th>relative_date_PCIAT</th></tr><tr><td>u32</td><td>f32</td><td>f32</td><td>f32</td><td>f32</td><td>f32</td><td>f32</td><td>f32</td><td>f32</td><td>i64</td><td>i8</td><td>i8</td><td>f32</td></tr></thead><tbody><tr><td>0</td><td>-0.515098</td><td>-0.395282</td><td>-0.577073</td><td>0.061663</td><td>-38.753277</td><td>0.0</td><td>1.0</td><td>4083.0</td><td>48780000000000</td><td>1</td><td>4</td><td>48.0</td></tr><tr><td>1</td><td>-0.695365</td><td>-0.212782</td><td>-0.687944</td><td>0.034075</td><td>-43.467571</td><td>0.0</td><td>0.0</td><td>4085.833252</td><td>48785000000000</td><td>1</td><td>4</td><td>48.0</td></tr><tr><td>2</td><td>-0.569771</td><td>-0.1599</td><td>-0.820903</td><td>0.055763</td><td>-54.070911</td><td>0.0</td><td>0.125</td><td>4088.666748</td><td>48790000000000</td><td>1</td><td>4</td><td>48.0</td></tr><tr><td>3</td><td>-0.660187</td><td>-0.020271</td><td>-0.765323</td><td>0.082566</td><td>-48.484684</td><td>0.0</td><td>0.25</td><td>4091.5</td><td>48795000000000</td><td>1</td><td>4</td><td>48.0</td></tr><tr><td>4</td><td>-0.501164</td><td>-0.202015</td><td>-0.7965</td><td>0.039425</td><td>-52.214397</td><td>0.0</td><td>0.375</td><td>4094.333252</td><td>48800000000000</td><td>1</td><td>4</td><td>48.0</td></tr><tr><td>&hellip;</td><td>&hellip;</td><td>&hellip;</td><td>&hellip;</td><td>&hellip;</td><td>&hellip;</td><td>&hellip;</td><td>&hellip;</td><td>&hellip;</td><td>&hellip;</td><td>&hellip;</td><td>&hellip;</td><td>&hellip;</td></tr><tr><td>102331</td><td>0.149509</td><td>-0.4344</td><td>0.89549</td><td>0.006486</td><td>62.902401</td><td>1.0</td><td>10.5</td><td>3098.25</td><td>42035000000000</td><td>7</td><td>4</td><td>54.0</td></tr><tr><td>102332</td><td>0.149298</td><td>-0.433904</td><td>0.895686</td><td>0.006448</td><td>62.90921</td><td>1.0</td><td>10.5</td><td>3098.0</td><td>42040000000000</td><td>7</td><td>4</td><td>54.0</td></tr><tr><td>102333</td><td>0.149338</td><td>-0.433995</td><td>0.89549</td><td>0.006306</td><td>62.882217</td><td>1.0</td><td>10.5</td><td>3097.75</td><td>42045000000000</td><td>7</td><td>4</td><td>54.0</td></tr><tr><td>102334</td><td>0.149942</td><td>-0.434282</td><td>0.895686</td><td>0.006692</td><td>62.901905</td><td>1.0</td><td>10.5</td><td>3097.5</td><td>42050000000000</td><td>7</td><td>4</td><td>54.0</td></tr><tr><td>102335</td><td>0.14893</td><td>-0.433891</td><td>0.895438</td><td>0.006143</td><td>62.89724</td><td>1.0</td><td>10.5</td><td>3097.25</td><td>42055000000000</td><td>7</td><td>4</td><td>54.0</td></tr></tbody></table></div>"
      ],
      "text/plain": [
       "shape: (102_336, 13)\n",
       "┌────────┬───────────┬───────────┬───────────┬───┬──────────────┬─────────┬─────────┬──────────────┐\n",
       "│ step   ┆ X         ┆ Y         ┆ Z         ┆ … ┆ time_of_day  ┆ weekday ┆ quarter ┆ relative_dat │\n",
       "│ ---    ┆ ---       ┆ ---       ┆ ---       ┆   ┆ ---          ┆ ---     ┆ ---     ┆ e_PCIAT      │\n",
       "│ u32    ┆ f32       ┆ f32       ┆ f32       ┆   ┆ i64          ┆ i8      ┆ i8      ┆ ---          │\n",
       "│        ┆           ┆           ┆           ┆   ┆              ┆         ┆         ┆ f32          │\n",
       "╞════════╪═══════════╪═══════════╪═══════════╪═══╪══════════════╪═════════╪═════════╪══════════════╡\n",
       "│ 0      ┆ -0.515098 ┆ -0.395282 ┆ -0.577073 ┆ … ┆ 487800000000 ┆ 1       ┆ 4       ┆ 48.0         │\n",
       "│        ┆           ┆           ┆           ┆   ┆ 00           ┆         ┆         ┆              │\n",
       "│ 1      ┆ -0.695365 ┆ -0.212782 ┆ -0.687944 ┆ … ┆ 487850000000 ┆ 1       ┆ 4       ┆ 48.0         │\n",
       "│        ┆           ┆           ┆           ┆   ┆ 00           ┆         ┆         ┆              │\n",
       "│ 2      ┆ -0.569771 ┆ -0.1599   ┆ -0.820903 ┆ … ┆ 487900000000 ┆ 1       ┆ 4       ┆ 48.0         │\n",
       "│        ┆           ┆           ┆           ┆   ┆ 00           ┆         ┆         ┆              │\n",
       "│ 3      ┆ -0.660187 ┆ -0.020271 ┆ -0.765323 ┆ … ┆ 487950000000 ┆ 1       ┆ 4       ┆ 48.0         │\n",
       "│        ┆           ┆           ┆           ┆   ┆ 00           ┆         ┆         ┆              │\n",
       "│ 4      ┆ -0.501164 ┆ -0.202015 ┆ -0.7965   ┆ … ┆ 488000000000 ┆ 1       ┆ 4       ┆ 48.0         │\n",
       "│        ┆           ┆           ┆           ┆   ┆ 00           ┆         ┆         ┆              │\n",
       "│ …      ┆ …         ┆ …         ┆ …         ┆ … ┆ …            ┆ …       ┆ …       ┆ …            │\n",
       "│ 102331 ┆ 0.149509  ┆ -0.4344   ┆ 0.89549   ┆ … ┆ 420350000000 ┆ 7       ┆ 4       ┆ 54.0         │\n",
       "│        ┆           ┆           ┆           ┆   ┆ 00           ┆         ┆         ┆              │\n",
       "│ 102332 ┆ 0.149298  ┆ -0.433904 ┆ 0.895686  ┆ … ┆ 420400000000 ┆ 7       ┆ 4       ┆ 54.0         │\n",
       "│        ┆           ┆           ┆           ┆   ┆ 00           ┆         ┆         ┆              │\n",
       "│ 102333 ┆ 0.149338  ┆ -0.433995 ┆ 0.89549   ┆ … ┆ 420450000000 ┆ 7       ┆ 4       ┆ 54.0         │\n",
       "│        ┆           ┆           ┆           ┆   ┆ 00           ┆         ┆         ┆              │\n",
       "│ 102334 ┆ 0.149942  ┆ -0.434282 ┆ 0.895686  ┆ … ┆ 420500000000 ┆ 7       ┆ 4       ┆ 54.0         │\n",
       "│        ┆           ┆           ┆           ┆   ┆ 00           ┆         ┆         ┆              │\n",
       "│ 102335 ┆ 0.14893   ┆ -0.433891 ┆ 0.895438  ┆ … ┆ 420550000000 ┆ 7       ┆ 4       ┆ 54.0         │\n",
       "│        ┆           ┆           ┆           ┆   ┆ 00           ┆         ┆         ┆              │\n",
       "└────────┴───────────┴───────────┴───────────┴───┴──────────────┴─────────┴─────────┴──────────────┘"
      ]
     },
     "execution_count": 111,
     "metadata": {},
     "output_type": "execute_result"
    }
   ],
   "source": [
    "# Exploring some parquet files\n",
    "\n",
    "import pyarrow.parquet as pq\n",
    "from random import randrange\n",
    "\n",
    "user_pq_index = randrange(len(users_pq_not_none)) \n",
    "user_pq_path = users_pq_not_none[user_pq_index]\n",
    "print(user_pq_path)\n",
    "\n",
    "\n",
    "user = pl.read_parquet(user_pq_path)\n",
    "\n",
    "user"
   ]
  },
  {
   "cell_type": "code",
   "execution_count": 112,
   "id": "36249824-1fd3-4279-a82f-0bce93b900ae",
   "metadata": {},
   "outputs": [],
   "source": [
    "users_pq_dim = []\n",
    "\n",
    "for user_pq_path in users_pq_not_none:\n",
    "    meta = pq.ParquetFile(user_pq_path).metadata\n",
    "    users_pq_dim.append((meta.num_rows, meta.num_columns))"
   ]
  },
  {
   "cell_type": "code",
   "execution_count": 113,
   "id": "5a9597ac-783b-4cdc-a23d-a2e426bd2e3d",
   "metadata": {},
   "outputs": [
    {
     "data": {
      "text/html": [
       "<div><style>\n",
       ".dataframe > thead > tr,\n",
       ".dataframe > tbody > tr {\n",
       "  text-align: right;\n",
       "  white-space: pre-wrap;\n",
       "}\n",
       "</style>\n",
       "<small>shape: (9, 2)</small><table border=\"1\" class=\"dataframe\"><thead><tr><th>statistic</th><th>rows</th></tr><tr><td>str</td><td>f64</td></tr></thead><tbody><tr><td>&quot;count&quot;</td><td>996.0</td></tr><tr><td>&quot;null_count&quot;</td><td>0.0</td></tr><tr><td>&quot;mean&quot;</td><td>315832.478916</td></tr><tr><td>&quot;std&quot;</td><td>133011.574731</td></tr><tr><td>&quot;min&quot;</td><td>927.0</td></tr><tr><td>&quot;25%&quot;</td><td>254111.0</td></tr><tr><td>&quot;50%&quot;</td><td>383652.0</td></tr><tr><td>&quot;75%&quot;</td><td>402540.0</td></tr><tr><td>&quot;max&quot;</td><td>756212.0</td></tr></tbody></table></div>"
      ],
      "text/plain": [
       "shape: (9, 2)\n",
       "┌────────────┬───────────────┐\n",
       "│ statistic  ┆ rows          │\n",
       "│ ---        ┆ ---           │\n",
       "│ str        ┆ f64           │\n",
       "╞════════════╪═══════════════╡\n",
       "│ count      ┆ 996.0         │\n",
       "│ null_count ┆ 0.0           │\n",
       "│ mean       ┆ 315832.478916 │\n",
       "│ std        ┆ 133011.574731 │\n",
       "│ min        ┆ 927.0         │\n",
       "│ 25%        ┆ 254111.0      │\n",
       "│ 50%        ┆ 383652.0      │\n",
       "│ 75%        ┆ 402540.0      │\n",
       "│ max        ┆ 756212.0      │\n",
       "└────────────┴───────────────┘"
      ]
     },
     "execution_count": 113,
     "metadata": {},
     "output_type": "execute_result"
    }
   ],
   "source": [
    "users_pq_dim_rows = pl.DataFrame({ 'rows': [row for (row, column) in users_pq_dim]})\n",
    "\n",
    "users_pq_dim_rows.describe()"
   ]
  },
  {
   "cell_type": "markdown",
   "id": "4554c713-0b54-464a-878c-6551b4d8a8f1",
   "metadata": {},
   "source": [
    "Let's check better understand the columns in the main tabular data table:"
   ]
  },
  {
   "cell_type": "code",
   "execution_count": 114,
   "id": "83e2d86b-5bc6-4723-ace8-00072dc9197f",
   "metadata": {},
   "outputs": [],
   "source": [
    "# Let's study the features and labels\n",
    "\n",
    "features_demo = train.columns[1:4]\n",
    "features_children_global = train.columns[4:6]\n",
    "features_physical_measured = train.columns[6:14]\n",
    "features_demographics = train.columns[1:4]\n",
    "features_fitness_gram = train.columns[16:33]\n",
    "features_impedance = train.columns[33:50]\n",
    "features_activity_questionaries = train.columns[50:54]\n",
    "features_parent_child_questionaries = train.columns[54:76]\n",
    "feature_questionarie_total = train.columns[75]\n",
    "features_sleep = train.columns[76:79]\n",
    "features_internet = train.columns[-3:-1]\n",
    "\n",
    "score = train.columns[-1:]"
   ]
  },
  {
   "cell_type": "code",
   "execution_count": 117,
   "id": "c8ee17ad-8d3c-4747-99c9-2f78003246de",
   "metadata": {},
   "outputs": [
    {
     "data": {
      "text/plain": [
       "'PCIAT-PCIAT_Total'"
      ]
     },
     "execution_count": 117,
     "metadata": {},
     "output_type": "execute_result"
    }
   ],
   "source": [
    "feature_questionarie_total"
   ]
  },
  {
   "cell_type": "markdown",
   "id": "bb20cc70-8041-4704-901a-b38f78cd3737",
   "metadata": {},
   "source": [
    "We have the hypotesis that the column `PCIAT-PCIAT_Total` (`feature_questionarie_total`) is the composed as the sum of the scores of the columns `features_parent_child_questionaries`. Let's check this:"
   ]
  },
  {
   "cell_type": "code",
   "execution_count": 118,
   "id": "526cfcf6-13c2-4704-a8e8-92fdd097bace",
   "metadata": {},
   "outputs": [],
   "source": [
    "parent_child_questionaries_sum = (train\n",
    "                                  .select(\n",
    "                                      pl.col(features_parent_child_questionaries)\n",
    "                                      .exclude('PCIAT-Season', 'PCIAT-PCIAT_Total'))\n",
    "                                 ).sum_horizontal()\n",
    "\n",
    "parent_child_questionarie_total = train.select(pl.col(feature_questionarie_total)).fill_null(strategy='zero').to_series()"
   ]
  },
  {
   "cell_type": "code",
   "execution_count": 119,
   "id": "e16ae690-5355-41ea-80c5-d26c6b0724cb",
   "metadata": {},
   "outputs": [
    {
     "data": {
      "text/plain": [
       "True"
      ]
     },
     "execution_count": 119,
     "metadata": {},
     "output_type": "execute_result"
    }
   ],
   "source": [
    "parent_child_questionarie_total.equals(parent_child_questionaries_sum)"
   ]
  }
 ],
 "metadata": {
  "kernelspec": {
   "display_name": "Python 3 (ipykernel)",
   "language": "python",
   "name": "python3"
  },
  "language_info": {
   "codemirror_mode": {
    "name": "ipython",
    "version": 3
   },
   "file_extension": ".py",
   "mimetype": "text/x-python",
   "name": "python",
   "nbconvert_exporter": "python",
   "pygments_lexer": "ipython3",
   "version": "3.11.10"
  }
 },
 "nbformat": 4,
 "nbformat_minor": 5
}
