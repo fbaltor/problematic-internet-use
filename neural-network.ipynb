{
 "cells": [
  {
   "cell_type": "markdown",
   "id": "a4832fd7-c38b-4d43-b26d-d20f639194fc",
   "metadata": {},
   "source": [
    "# Exploring neural network modeling strategies"
   ]
  },
  {
   "cell_type": "markdown",
   "id": "8971c90b-c6c3-48c1-bba6-6fd432f62edb",
   "metadata": {},
   "source": [
    "## Preprocessing the data"
   ]
  },
  {
   "cell_type": "code",
   "execution_count": 212,
   "id": "7b66f56d-c79e-435c-9cb8-bb53cdb39c41",
   "metadata": {},
   "outputs": [
    {
     "name": "stdin",
     "output_type": "stream",
     "text": [
      "Once deleted, variables cannot be recovered. Proceed (y/[n])?  y\n"
     ]
    }
   ],
   "source": [
    "%reset"
   ]
  },
  {
   "cell_type": "code",
   "execution_count": 213,
   "id": "1c0e8cdf-0d11-4c01-90bb-3b496f58d7e4",
   "metadata": {},
   "outputs": [],
   "source": [
    "import os\n",
    "import polars as pl\n",
    "import numpy as np\n",
    "from pathlib import Path\n",
    "import kagglehub\n",
    "\n",
    "from utils import (\n",
    "    download_data,\n",
    ")\n",
    "\n",
    "from constants import (\n",
    "    DATASET_PATH,\n",
    ")"
   ]
  },
  {
   "cell_type": "code",
   "execution_count": 214,
   "id": "917581f2-bd9f-4ee8-a019-ce5f393ea601",
   "metadata": {},
   "outputs": [
    {
     "name": "stdout",
     "output_type": "stream",
     "text": [
      "Kaggle credentials set.\n"
     ]
    }
   ],
   "source": [
    "data_path = download_data()\n",
    "\n",
    "data_path"
   ]
  },
  {
   "cell_type": "code",
   "execution_count": 215,
   "id": "c32b9b62-f05a-4c13-a23d-1dd5fa126f91",
   "metadata": {},
   "outputs": [
    {
     "data": {
      "text/plain": [
       "PosixPath('data/problematic-internet-use')"
      ]
     },
     "execution_count": 215,
     "metadata": {},
     "output_type": "execute_result"
    }
   ],
   "source": [
    "data_path = Path(DATASET_PATH)\n",
    "\n",
    "data_path"
   ]
  },
  {
   "cell_type": "code",
   "execution_count": 216,
   "id": "5868ceed-73a0-4d33-bd3a-8338cc062e7b",
   "metadata": {},
   "outputs": [],
   "source": [
    "train = pl.read_csv(data_path / 'train.csv')"
   ]
  },
  {
   "cell_type": "code",
   "execution_count": 217,
   "id": "ac3fdaca-1c3d-435d-a346-1127ac111f81",
   "metadata": {},
   "outputs": [],
   "source": [
    "features = train.columns[:-1]\n",
    "label = train.columns[-1:]\n",
    "\n",
    "X = train[features]\n",
    "y = train[label]"
   ]
  },
  {
   "cell_type": "code",
   "execution_count": 218,
   "id": "61f15594-8ab1-47b5-bfe5-383bf81a49fc",
   "metadata": {},
   "outputs": [],
   "source": [
    "features_categorical = [\n",
    "    'Basic_Demos-Enroll_Season',\n",
    "    'CGAS-Season',\n",
    "    'Physical-Season',\n",
    "    'Fitness_Endurance-Season',\n",
    "    'FGC-Season',\n",
    "    'FGC-FGC_CU_Zone',\n",
    "    'FGC-FGC_GSND_Zone',\n",
    "    'FGC-FGC_GSD_Zone',\n",
    "    'FGC-FGC_PU_Zone',\n",
    "    'FGC-FGC_SRL_Zone',\n",
    "    'FGC-FGC_SRR_Zone',\n",
    "    'FGC-FGC_TL_Zone',\n",
    "    'BIA-Season',\n",
    "    'BIA-BIA_Activity_Level_num',\n",
    "    'BIA-BIA_Frame_num',\n",
    "    'PAQ_A-Season',\n",
    "    'PAQ_C-Season',\n",
    "    'PCIAT-Season',\n",
    "    'PCIAT-PCIAT_01',\n",
    "    'PCIAT-PCIAT_02',\n",
    "    'PCIAT-PCIAT_03',\n",
    "    'PCIAT-PCIAT_04',\n",
    "    'PCIAT-PCIAT_05',\n",
    "    'PCIAT-PCIAT_06',\n",
    "    'PCIAT-PCIAT_07',\n",
    "    'PCIAT-PCIAT_08',\n",
    "    'PCIAT-PCIAT_09',\n",
    "    'PCIAT-PCIAT_10',\n",
    "    'PCIAT-PCIAT_11',\n",
    "    'PCIAT-PCIAT_12',\n",
    "    'PCIAT-PCIAT_13',\n",
    "    'PCIAT-PCIAT_14',\n",
    "    'PCIAT-PCIAT_15',\n",
    "    'PCIAT-PCIAT_16',\n",
    "    'PCIAT-PCIAT_17',\n",
    "    'PCIAT-PCIAT_18',\n",
    "    'PCIAT-PCIAT_19',\n",
    "    'PCIAT-PCIAT_20',\n",
    "    'SDS-Season',\n",
    "    'PreInt_EduHx-Season',\n",
    "    'PreInt_EduHx-computerinternet_hoursday'\n",
    "]"
   ]
  },
  {
   "cell_type": "markdown",
   "id": "728e5246-69da-451f-93cd-c401eebfd01d",
   "metadata": {},
   "source": [
    "### Droping `id` column"
   ]
  },
  {
   "cell_type": "code",
   "execution_count": 219,
   "id": "48995c76-f339-44ca-a5c5-c0f928aad091",
   "metadata": {},
   "outputs": [],
   "source": [
    "X = X.drop(['id'])\n",
    "\n",
    "features = X.columns"
   ]
  },
  {
   "cell_type": "markdown",
   "id": "eadca65e-b727-40a3-b058-dcbae0c9249a",
   "metadata": {},
   "source": [
    "### Droping unlabeled data:"
   ]
  },
  {
   "cell_type": "code",
   "execution_count": 220,
   "id": "17dd0b0e-7683-432c-88fe-e0e44bb73365",
   "metadata": {},
   "outputs": [
    {
     "data": {
      "text/html": [
       "<div><style>\n",
       ".dataframe > thead > tr,\n",
       ".dataframe > tbody > tr {\n",
       "  text-align: right;\n",
       "  white-space: pre-wrap;\n",
       "}\n",
       "</style>\n",
       "<small>shape: (5, 2)</small><table border=\"1\" class=\"dataframe\"><thead><tr><th>sii</th><th>count</th></tr><tr><td>i64</td><td>u32</td></tr></thead><tbody><tr><td>null</td><td>1224</td></tr><tr><td>1</td><td>730</td></tr><tr><td>0</td><td>1594</td></tr><tr><td>2</td><td>378</td></tr><tr><td>3</td><td>34</td></tr></tbody></table></div>"
      ],
      "text/plain": [
       "shape: (5, 2)\n",
       "┌──────┬───────┐\n",
       "│ sii  ┆ count │\n",
       "│ ---  ┆ ---   │\n",
       "│ i64  ┆ u32   │\n",
       "╞══════╪═══════╡\n",
       "│ null ┆ 1224  │\n",
       "│ 1    ┆ 730   │\n",
       "│ 0    ┆ 1594  │\n",
       "│ 2    ┆ 378   │\n",
       "│ 3    ┆ 34    │\n",
       "└──────┴───────┘"
      ]
     },
     "execution_count": 220,
     "metadata": {},
     "output_type": "execute_result"
    }
   ],
   "source": [
    "y.to_series().value_counts()"
   ]
  },
  {
   "cell_type": "code",
   "execution_count": 221,
   "id": "1833407a-0bbc-415b-912a-b1a55f6d2213",
   "metadata": {},
   "outputs": [],
   "source": [
    "data = pl.concat([X, y], how='horizontal')\n",
    "data = data.lazy().filter(pl.col(label).is_not_null()).collect()\n",
    "\n",
    "X = data[features]\n",
    "y = data[label]"
   ]
  },
  {
   "cell_type": "code",
   "execution_count": 222,
   "id": "1529ae93-ced6-4bc5-8cbf-6c0f9b397dc5",
   "metadata": {},
   "outputs": [
    {
     "data": {
      "text/html": [
       "<div><style>\n",
       ".dataframe > thead > tr,\n",
       ".dataframe > tbody > tr {\n",
       "  text-align: right;\n",
       "  white-space: pre-wrap;\n",
       "}\n",
       "</style>\n",
       "<small>shape: (4, 2)</small><table border=\"1\" class=\"dataframe\"><thead><tr><th>sii</th><th>count</th></tr><tr><td>i64</td><td>u32</td></tr></thead><tbody><tr><td>2</td><td>378</td></tr><tr><td>3</td><td>34</td></tr><tr><td>1</td><td>730</td></tr><tr><td>0</td><td>1594</td></tr></tbody></table></div>"
      ],
      "text/plain": [
       "shape: (4, 2)\n",
       "┌─────┬───────┐\n",
       "│ sii ┆ count │\n",
       "│ --- ┆ ---   │\n",
       "│ i64 ┆ u32   │\n",
       "╞═════╪═══════╡\n",
       "│ 2   ┆ 378   │\n",
       "│ 3   ┆ 34    │\n",
       "│ 1   ┆ 730   │\n",
       "│ 0   ┆ 1594  │\n",
       "└─────┴───────┘"
      ]
     },
     "execution_count": 222,
     "metadata": {},
     "output_type": "execute_result"
    }
   ],
   "source": [
    "y.to_series().value_counts()"
   ]
  },
  {
   "cell_type": "markdown",
   "id": "37dac33e-ce2c-425a-9f8e-425a8dc5e0b2",
   "metadata": {},
   "source": [
    "### Add _one-hot encodings_ for the categorical columns and drop them:"
   ]
  },
  {
   "cell_type": "code",
   "execution_count": 224,
   "id": "5e326d62-70c0-4572-8319-6fcf48113361",
   "metadata": {},
   "outputs": [
    {
     "ename": "ColumnNotFoundError",
     "evalue": "Basic_Demos-Enroll_Season\n\nResolved plan until failure:\n\n\t---> FAILED HERE RESOLVING 'select' <---\nDF [\"Basic_Demos-Age\", \"Basic_Demos-Sex\", \"CGAS-CGAS_Score\", \"Physical-BMI\"]; PROJECT */270 COLUMNS; SELECTION: None",
     "output_type": "error",
     "traceback": [
      "\u001b[0;31m---------------------------------------------------------------------------\u001b[0m",
      "\u001b[0;31mColumnNotFoundError\u001b[0m                       Traceback (most recent call last)",
      "Cell \u001b[0;32mIn[224], line 1\u001b[0m\n\u001b[0;32m----> 1\u001b[0m one_hot \u001b[38;5;241m=\u001b[39m \u001b[43mX\u001b[49m\u001b[38;5;241;43m.\u001b[39;49m\u001b[43mselect\u001b[49m\u001b[43m(\u001b[49m\u001b[43mpl\u001b[49m\u001b[38;5;241;43m.\u001b[39;49m\u001b[43mcol\u001b[49m\u001b[43m(\u001b[49m\u001b[43mfeatures_categorical\u001b[49m\u001b[43m)\u001b[49m\u001b[43m)\u001b[49m\u001b[38;5;241m.\u001b[39mto_dummies()\n\u001b[1;32m      2\u001b[0m features_one_hot \u001b[38;5;241m=\u001b[39m one_hot\u001b[38;5;241m.\u001b[39mcolumns\n\u001b[1;32m      4\u001b[0m X \u001b[38;5;241m=\u001b[39m pl\u001b[38;5;241m.\u001b[39mconcat([X, one_hot], how\u001b[38;5;241m=\u001b[39m\u001b[38;5;124m'\u001b[39m\u001b[38;5;124mhorizontal\u001b[39m\u001b[38;5;124m'\u001b[39m)\n",
      "File \u001b[0;32m~/kaggle/problematic-internet-use/.venv/lib/python3.11/site-packages/polars/dataframe/frame.py:9010\u001b[0m, in \u001b[0;36mDataFrame.select\u001b[0;34m(self, *exprs, **named_exprs)\u001b[0m\n\u001b[1;32m   8910\u001b[0m \u001b[38;5;28;01mdef\u001b[39;00m \u001b[38;5;21mselect\u001b[39m(\n\u001b[1;32m   8911\u001b[0m     \u001b[38;5;28mself\u001b[39m, \u001b[38;5;241m*\u001b[39mexprs: IntoExpr \u001b[38;5;241m|\u001b[39m Iterable[IntoExpr], \u001b[38;5;241m*\u001b[39m\u001b[38;5;241m*\u001b[39mnamed_exprs: IntoExpr\n\u001b[1;32m   8912\u001b[0m ) \u001b[38;5;241m-\u001b[39m\u001b[38;5;241m>\u001b[39m DataFrame:\n\u001b[1;32m   8913\u001b[0m \u001b[38;5;250m    \u001b[39m\u001b[38;5;124;03m\"\"\"\u001b[39;00m\n\u001b[1;32m   8914\u001b[0m \u001b[38;5;124;03m    Select columns from this DataFrame.\u001b[39;00m\n\u001b[1;32m   8915\u001b[0m \n\u001b[0;32m   (...)\u001b[0m\n\u001b[1;32m   9008\u001b[0m \u001b[38;5;124;03m    └──────────────┘\u001b[39;00m\n\u001b[1;32m   9009\u001b[0m \u001b[38;5;124;03m    \"\"\"\u001b[39;00m\n\u001b[0;32m-> 9010\u001b[0m     \u001b[38;5;28;01mreturn\u001b[39;00m \u001b[38;5;28;43mself\u001b[39;49m\u001b[38;5;241;43m.\u001b[39;49m\u001b[43mlazy\u001b[49m\u001b[43m(\u001b[49m\u001b[43m)\u001b[49m\u001b[38;5;241;43m.\u001b[39;49m\u001b[43mselect\u001b[49m\u001b[43m(\u001b[49m\u001b[38;5;241;43m*\u001b[39;49m\u001b[43mexprs\u001b[49m\u001b[43m,\u001b[49m\u001b[43m \u001b[49m\u001b[38;5;241;43m*\u001b[39;49m\u001b[38;5;241;43m*\u001b[39;49m\u001b[43mnamed_exprs\u001b[49m\u001b[43m)\u001b[49m\u001b[38;5;241;43m.\u001b[39;49m\u001b[43mcollect\u001b[49m\u001b[43m(\u001b[49m\u001b[43m_eager\u001b[49m\u001b[38;5;241;43m=\u001b[39;49m\u001b[38;5;28;43;01mTrue\u001b[39;49;00m\u001b[43m)\u001b[49m\n",
      "File \u001b[0;32m~/kaggle/problematic-internet-use/.venv/lib/python3.11/site-packages/polars/lazyframe/frame.py:2050\u001b[0m, in \u001b[0;36mLazyFrame.collect\u001b[0;34m(self, type_coercion, predicate_pushdown, projection_pushdown, simplify_expression, slice_pushdown, comm_subplan_elim, comm_subexpr_elim, cluster_with_columns, collapse_joins, no_optimization, streaming, engine, background, _eager, **_kwargs)\u001b[0m\n\u001b[1;32m   2048\u001b[0m \u001b[38;5;66;03m# Only for testing purposes\u001b[39;00m\n\u001b[1;32m   2049\u001b[0m callback \u001b[38;5;241m=\u001b[39m _kwargs\u001b[38;5;241m.\u001b[39mget(\u001b[38;5;124m\"\u001b[39m\u001b[38;5;124mpost_opt_callback\u001b[39m\u001b[38;5;124m\"\u001b[39m, callback)\n\u001b[0;32m-> 2050\u001b[0m \u001b[38;5;28;01mreturn\u001b[39;00m wrap_df(\u001b[43mldf\u001b[49m\u001b[38;5;241;43m.\u001b[39;49m\u001b[43mcollect\u001b[49m\u001b[43m(\u001b[49m\u001b[43mcallback\u001b[49m\u001b[43m)\u001b[49m)\n",
      "\u001b[0;31mColumnNotFoundError\u001b[0m: Basic_Demos-Enroll_Season\n\nResolved plan until failure:\n\n\t---> FAILED HERE RESOLVING 'select' <---\nDF [\"Basic_Demos-Age\", \"Basic_Demos-Sex\", \"CGAS-CGAS_Score\", \"Physical-BMI\"]; PROJECT */270 COLUMNS; SELECTION: None"
     ]
    }
   ],
   "source": [
    "one_hot = X.select(pl.col(features_categorical)).to_dummies()\n",
    "features_one_hot = one_hot.columns\n",
    "\n",
    "X = pl.concat([X, one_hot], how='horizontal')\n",
    "X = X.drop(features_categorical)\n",
    "\n",
    "features = X.columns"
   ]
  },
  {
   "cell_type": "markdown",
   "id": "cd654458-4414-4c63-9633-65844d84cbd3",
   "metadata": {},
   "source": [
    "There is a lot of missing data, let's use the [`KNNImputer` class](https://scikit-learn.org/stable/modules/generated/sklearn.impute.KNNImputer.html) to fill them (see [this guide](https://machinelearningmastery.com/knn-imputation-for-missing-values-in-machine-learning/)):"
   ]
  },
  {
   "cell_type": "code",
   "execution_count": 203,
   "id": "f26eecf9-418b-4892-a32e-ffbf2e6d2e92",
   "metadata": {},
   "outputs": [
    {
     "name": "stdout",
     "output_type": "stream",
     "text": [
      "We have 703858 total cells and 34862 missing cells (4.95% of data)\n"
     ]
    }
   ],
   "source": [
    "size = X.height * X.width\n",
    "missing = sum(X.null_count().row(0))\n",
    "\n",
    "print(f'We have {size} total cells and {missing} missing cells ({100 * missing / size:.2f}% of data)')"
   ]
  },
  {
   "cell_type": "code",
   "execution_count": 204,
   "id": "1f6d3281-4699-409c-925e-ee115682e25d",
   "metadata": {},
   "outputs": [],
   "source": [
    "from sklearn.impute import KNNImputer\n",
    "\n",
    "imputer = KNNImputer()\n",
    "imputer.fit(X.to_numpy())\n",
    "X_trans = imputer.transform(X.to_numpy())"
   ]
  },
  {
   "cell_type": "markdown",
   "id": "abb20106-1811-4e11-8793-994f097e033b",
   "metadata": {},
   "source": [
    "Re-creating the `X` dataframes:"
   ]
  },
  {
   "cell_type": "code",
   "execution_count": 205,
   "id": "f7d40531-b284-4d8b-9b60-59b03345a3ac",
   "metadata": {},
   "outputs": [],
   "source": [
    "X = pl.DataFrame(schema=X.schema, data=X_trans)"
   ]
  },
  {
   "cell_type": "code",
   "execution_count": 206,
   "id": "8bdacc31-b088-4aad-b905-71bbd57d6699",
   "metadata": {},
   "outputs": [
    {
     "name": "stdout",
     "output_type": "stream",
     "text": [
      "We have 738720 total cells and 0 missing cells (0.00% of data)\n"
     ]
    }
   ],
   "source": [
    "size = X\n",
    "missing = sum(X.null_count().row(0))\n",
    "\n",
    "print(f'We have {size} total cells and {missing} missing cells ({100 * missing / size:.2f}% of data)')"
   ]
  },
  {
   "cell_type": "code",
   "execution_count": null,
   "id": "f910acbe-8d5b-484c-b1eb-dee1808dddda",
   "metadata": {},
   "outputs": [],
   "source": []
  }
 ],
 "metadata": {
  "kernelspec": {
   "display_name": "Python 3 (ipykernel)",
   "language": "python",
   "name": "python3"
  },
  "language_info": {
   "codemirror_mode": {
    "name": "ipython",
    "version": 3
   },
   "file_extension": ".py",
   "mimetype": "text/x-python",
   "name": "python",
   "nbconvert_exporter": "python",
   "pygments_lexer": "ipython3",
   "version": "3.11.10"
  }
 },
 "nbformat": 4,
 "nbformat_minor": 5
}
