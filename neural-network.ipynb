{
 "cells": [
  {
   "cell_type": "markdown",
   "id": "a4832fd7-c38b-4d43-b26d-d20f639194fc",
   "metadata": {},
   "source": [
    "# Exploring neural network modeling strategies"
   ]
  },
  {
   "cell_type": "code",
   "execution_count": 1,
   "id": "1c0e8cdf-0d11-4c01-90bb-3b496f58d7e4",
   "metadata": {},
   "outputs": [],
   "source": [
    "import os\n",
    "import polars as pl\n",
    "import pandas as pd\n",
    "import numpy as np\n",
    "import matplotlib.pyplot as plt\n",
    "from pathlib import Path\n",
    "import kagglehub"
   ]
  },
  {
   "cell_type": "code",
   "execution_count": 2,
   "id": "c32b9b62-f05a-4c13-a23d-1dd5fa126f91",
   "metadata": {},
   "outputs": [
    {
     "data": {
      "text/plain": [
       "PosixPath('/home/fbaltor/.cache/kagglehub/competitions/child-mind-institute-problematic-internet-use')"
      ]
     },
     "execution_count": 2,
     "metadata": {},
     "output_type": "execute_result"
    }
   ],
   "source": [
    "data_path = kagglehub.competition_download('child-mind-institute-problematic-internet-use')\n",
    "data_path = Path(data_path)\n",
    "\n",
    "data_path"
   ]
  },
  {
   "cell_type": "code",
   "execution_count": 3,
   "id": "5868ceed-73a0-4d33-bd3a-8338cc062e7b",
   "metadata": {},
   "outputs": [],
   "source": [
    "train = pl.read_csv(data_path / 'train.csv')"
   ]
  }
 ],
 "metadata": {
  "kernelspec": {
   "display_name": "Python 3 (ipykernel)",
   "language": "python",
   "name": "python3"
  },
  "language_info": {
   "codemirror_mode": {
    "name": "ipython",
    "version": 3
   },
   "file_extension": ".py",
   "mimetype": "text/x-python",
   "name": "python",
   "nbconvert_exporter": "python",
   "pygments_lexer": "ipython3",
   "version": "3.11.10"
  }
 },
 "nbformat": 4,
 "nbformat_minor": 5
}
