{
 "cells": [
  {
   "cell_type": "markdown",
   "id": "786accd3",
   "metadata": {
    "colab_type": "text",
    "id": "view-in-github"
   },
   "source": [
    "<a href=\"https://colab.research.google.com/github/fbaltor/problematic-internet-use/blob/main/problematic-internet-use.ipynb\" target=\"_parent\"><img src=\"https://colab.research.google.com/assets/colab-badge.svg\" alt=\"Open In Colab\"/></a>"
   ]
  },
  {
   "cell_type": "markdown",
   "id": "7e02f9d0-8861-444f-b896-2cdf1194f911",
   "metadata": {
    "id": "7e02f9d0-8861-444f-b896-2cdf1194f911"
   },
   "source": [
    "# Exploratory data analysis"
   ]
  },
  {
   "cell_type": "code",
   "execution_count": 90,
   "id": "42e10c97-8339-4563-ae33-388affce1f2f",
   "metadata": {
    "colab": {
     "base_uri": "https://localhost:8080/"
    },
    "id": "42e10c97-8339-4563-ae33-388affce1f2f",
    "outputId": "1f5dc354-a97f-49df-abfa-2a5be35cab28"
   },
   "outputs": [
    {
     "name": "stdin",
     "output_type": "stream",
     "text": [
      "Once deleted, variables cannot be recovered. Proceed (y/[n])?  y\n"
     ]
    }
   ],
   "source": [
    "%reset"
   ]
  },
  {
   "cell_type": "markdown",
   "id": "2b3ed879-162d-4950-94ef-44aa75742e96",
   "metadata": {
    "id": "2b3ed879-162d-4950-94ef-44aa75742e96"
   },
   "source": [
    "Basic imports:"
   ]
  },
  {
   "cell_type": "code",
   "execution_count": 91,
   "id": "f477b5f0-402b-4012-a984-e5761de32c03",
   "metadata": {
    "id": "f477b5f0-402b-4012-a984-e5761de32c03"
   },
   "outputs": [],
   "source": [
    "import os\n",
    "import polars as pl\n",
    "import pandas as pd\n",
    "import numpy as np\n",
    "import matplotlib.pyplot as plt\n",
    "from pathlib import Path\n",
    "import kagglehub\n",
    "\n",
    "from utils import (\n",
    "    download_data,\n",
    ")\n",
    "\n",
    "from constants import (\n",
    "    DATASET_PATH,\n",
    ")"
   ]
  },
  {
   "cell_type": "code",
   "execution_count": 92,
   "id": "5af3de4f-d9fd-487a-866e-2da39df1f962",
   "metadata": {},
   "outputs": [
    {
     "name": "stdout",
     "output_type": "stream",
     "text": [
      "Kaggle credentials set.\n"
     ]
    },
    {
     "data": {
      "text/plain": [
       "PosixPath('data/problematic-internet-use')"
      ]
     },
     "execution_count": 92,
     "metadata": {},
     "output_type": "execute_result"
    }
   ],
   "source": [
    "download_data()\n",
    "\n",
    "data_path = Path(DATASET_PATH)\n",
    "\n",
    "data_path"
   ]
  },
  {
   "cell_type": "markdown",
   "id": "50cf79ce-6185-439b-b405-b7a5a4f444f0",
   "metadata": {
    "id": "50cf79ce-6185-439b-b405-b7a5a4f444f0"
   },
   "source": [
    "Loading the train datasets and the data dictionary:"
   ]
  },
  {
   "cell_type": "code",
   "execution_count": 93,
   "id": "342e7e9b-33a3-41c9-ab21-f18569362828",
   "metadata": {
    "id": "342e7e9b-33a3-41c9-ab21-f18569362828"
   },
   "outputs": [],
   "source": [
    "data_dictionary = pl.read_csv(data_path / 'data_dictionary.csv')\n",
    "train = pl.read_csv(data_path / 'train.csv')\n",
    "test = pl.read_csv(data_path / 'test.csv')"
   ]
  },
  {
   "cell_type": "code",
   "execution_count": 94,
   "id": "6373769b-bdee-486a-baed-8d4f9c9d97f3",
   "metadata": {
    "colab": {
     "base_uri": "https://localhost:8080/",
     "height": 417
    },
    "id": "6373769b-bdee-486a-baed-8d4f9c9d97f3",
    "outputId": "b6dd865c-1952-4193-c7dc-c28fd3cbac79"
   },
   "outputs": [
    {
     "data": {
      "text/html": [
       "<div><style>\n",
       ".dataframe > thead > tr,\n",
       ".dataframe > tbody > tr {\n",
       "  text-align: right;\n",
       "  white-space: pre-wrap;\n",
       "}\n",
       "</style>\n",
       "<small>shape: (9, 83)</small><table border=\"1\" class=\"dataframe\"><thead><tr><th>statistic</th><th>id</th><th>Basic_Demos-Enroll_Season</th><th>Basic_Demos-Age</th><th>Basic_Demos-Sex</th><th>CGAS-Season</th><th>CGAS-CGAS_Score</th><th>Physical-Season</th><th>Physical-BMI</th><th>Physical-Height</th><th>Physical-Weight</th><th>Physical-Waist_Circumference</th><th>Physical-Diastolic_BP</th><th>Physical-HeartRate</th><th>Physical-Systolic_BP</th><th>Fitness_Endurance-Season</th><th>Fitness_Endurance-Max_Stage</th><th>Fitness_Endurance-Time_Mins</th><th>Fitness_Endurance-Time_Sec</th><th>FGC-Season</th><th>FGC-FGC_CU</th><th>FGC-FGC_CU_Zone</th><th>FGC-FGC_GSND</th><th>FGC-FGC_GSND_Zone</th><th>FGC-FGC_GSD</th><th>FGC-FGC_GSD_Zone</th><th>FGC-FGC_PU</th><th>FGC-FGC_PU_Zone</th><th>FGC-FGC_SRL</th><th>FGC-FGC_SRL_Zone</th><th>FGC-FGC_SRR</th><th>FGC-FGC_SRR_Zone</th><th>FGC-FGC_TL</th><th>FGC-FGC_TL_Zone</th><th>BIA-Season</th><th>BIA-BIA_Activity_Level_num</th><th>BIA-BIA_BMC</th><th>&hellip;</th><th>BIA-BIA_ICW</th><th>BIA-BIA_LDM</th><th>BIA-BIA_LST</th><th>BIA-BIA_SMM</th><th>BIA-BIA_TBW</th><th>PAQ_A-Season</th><th>PAQ_A-PAQ_A_Total</th><th>PAQ_C-Season</th><th>PAQ_C-PAQ_C_Total</th><th>PCIAT-Season</th><th>PCIAT-PCIAT_01</th><th>PCIAT-PCIAT_02</th><th>PCIAT-PCIAT_03</th><th>PCIAT-PCIAT_04</th><th>PCIAT-PCIAT_05</th><th>PCIAT-PCIAT_06</th><th>PCIAT-PCIAT_07</th><th>PCIAT-PCIAT_08</th><th>PCIAT-PCIAT_09</th><th>PCIAT-PCIAT_10</th><th>PCIAT-PCIAT_11</th><th>PCIAT-PCIAT_12</th><th>PCIAT-PCIAT_13</th><th>PCIAT-PCIAT_14</th><th>PCIAT-PCIAT_15</th><th>PCIAT-PCIAT_16</th><th>PCIAT-PCIAT_17</th><th>PCIAT-PCIAT_18</th><th>PCIAT-PCIAT_19</th><th>PCIAT-PCIAT_20</th><th>PCIAT-PCIAT_Total</th><th>SDS-Season</th><th>SDS-SDS_Total_Raw</th><th>SDS-SDS_Total_T</th><th>PreInt_EduHx-Season</th><th>PreInt_EduHx-computerinternet_hoursday</th><th>sii</th></tr><tr><td>str</td><td>str</td><td>str</td><td>f64</td><td>f64</td><td>str</td><td>f64</td><td>str</td><td>f64</td><td>f64</td><td>f64</td><td>f64</td><td>f64</td><td>f64</td><td>f64</td><td>str</td><td>f64</td><td>f64</td><td>f64</td><td>str</td><td>f64</td><td>f64</td><td>f64</td><td>f64</td><td>f64</td><td>f64</td><td>f64</td><td>f64</td><td>f64</td><td>f64</td><td>f64</td><td>f64</td><td>f64</td><td>f64</td><td>str</td><td>f64</td><td>f64</td><td>&hellip;</td><td>f64</td><td>f64</td><td>f64</td><td>f64</td><td>f64</td><td>str</td><td>f64</td><td>str</td><td>f64</td><td>str</td><td>f64</td><td>f64</td><td>f64</td><td>f64</td><td>f64</td><td>f64</td><td>f64</td><td>f64</td><td>f64</td><td>f64</td><td>f64</td><td>f64</td><td>f64</td><td>f64</td><td>f64</td><td>f64</td><td>f64</td><td>f64</td><td>f64</td><td>f64</td><td>f64</td><td>str</td><td>f64</td><td>f64</td><td>str</td><td>f64</td><td>f64</td></tr></thead><tbody><tr><td>&quot;count&quot;</td><td>&quot;3960&quot;</td><td>&quot;3960&quot;</td><td>3960.0</td><td>3960.0</td><td>&quot;2555&quot;</td><td>2421.0</td><td>&quot;3310&quot;</td><td>3022.0</td><td>3027.0</td><td>3076.0</td><td>898.0</td><td>2954.0</td><td>2967.0</td><td>2954.0</td><td>&quot;1308&quot;</td><td>743.0</td><td>740.0</td><td>740.0</td><td>&quot;3346&quot;</td><td>2322.0</td><td>2282.0</td><td>1074.0</td><td>1062.0</td><td>1074.0</td><td>1063.0</td><td>2310.0</td><td>2271.0</td><td>2305.0</td><td>2267.0</td><td>2307.0</td><td>2269.0</td><td>2324.0</td><td>2285.0</td><td>&quot;2145&quot;</td><td>1991.0</td><td>1991.0</td><td>&hellip;</td><td>1991.0</td><td>1991.0</td><td>1991.0</td><td>1991.0</td><td>1991.0</td><td>&quot;475&quot;</td><td>475.0</td><td>&quot;1721&quot;</td><td>1721.0</td><td>&quot;2736&quot;</td><td>2733.0</td><td>2734.0</td><td>2731.0</td><td>2731.0</td><td>2729.0</td><td>2732.0</td><td>2729.0</td><td>2730.0</td><td>2730.0</td><td>2733.0</td><td>2734.0</td><td>2731.0</td><td>2729.0</td><td>2732.0</td><td>2730.0</td><td>2728.0</td><td>2725.0</td><td>2728.0</td><td>2730.0</td><td>2733.0</td><td>2736.0</td><td>&quot;2618&quot;</td><td>2609.0</td><td>2606.0</td><td>&quot;3540&quot;</td><td>3301.0</td><td>2736.0</td></tr><tr><td>&quot;null_count&quot;</td><td>&quot;0&quot;</td><td>&quot;0&quot;</td><td>0.0</td><td>0.0</td><td>&quot;1405&quot;</td><td>1539.0</td><td>&quot;650&quot;</td><td>938.0</td><td>933.0</td><td>884.0</td><td>3062.0</td><td>1006.0</td><td>993.0</td><td>1006.0</td><td>&quot;2652&quot;</td><td>3217.0</td><td>3220.0</td><td>3220.0</td><td>&quot;614&quot;</td><td>1638.0</td><td>1678.0</td><td>2886.0</td><td>2898.0</td><td>2886.0</td><td>2897.0</td><td>1650.0</td><td>1689.0</td><td>1655.0</td><td>1693.0</td><td>1653.0</td><td>1691.0</td><td>1636.0</td><td>1675.0</td><td>&quot;1815&quot;</td><td>1969.0</td><td>1969.0</td><td>&hellip;</td><td>1969.0</td><td>1969.0</td><td>1969.0</td><td>1969.0</td><td>1969.0</td><td>&quot;3485&quot;</td><td>3485.0</td><td>&quot;2239&quot;</td><td>2239.0</td><td>&quot;1224&quot;</td><td>1227.0</td><td>1226.0</td><td>1229.0</td><td>1229.0</td><td>1231.0</td><td>1228.0</td><td>1231.0</td><td>1230.0</td><td>1230.0</td><td>1227.0</td><td>1226.0</td><td>1229.0</td><td>1231.0</td><td>1228.0</td><td>1230.0</td><td>1232.0</td><td>1235.0</td><td>1232.0</td><td>1230.0</td><td>1227.0</td><td>1224.0</td><td>&quot;1342&quot;</td><td>1351.0</td><td>1354.0</td><td>&quot;420&quot;</td><td>659.0</td><td>1224.0</td></tr><tr><td>&quot;mean&quot;</td><td>null</td><td>null</td><td>10.433586</td><td>0.372727</td><td>null</td><td>65.454771</td><td>null</td><td>19.331929</td><td>55.946713</td><td>89.038615</td><td>27.278508</td><td>69.648951</td><td>81.597236</td><td>116.983074</td><td>null</td><td>4.989233</td><td>7.37027</td><td>27.581081</td><td>null</td><td>11.25969</td><td>0.476337</td><td>22.420438</td><td>1.829567</td><td>23.518622</td><td>1.904045</td><td>5.579654</td><td>0.330251</td><td>8.694924</td><td>0.61888</td><td>8.805635</td><td>0.620097</td><td>9.252775</td><td>0.785558</td><td>null</td><td>2.651431</td><td>6.719826</td><td>&hellip;</td><td>33.17338</td><td>20.02299</td><td>67.301883</td><td>34.389466</td><td>53.998726</td><td>null</td><td>2.178853</td><td>null</td><td>2.58955</td><td>null</td><td>2.370655</td><td>2.177762</td><td>2.399854</td><td>0.839253</td><td>2.297545</td><td>1.06369</td><td>0.586295</td><td>1.24652</td><td>1.062637</td><td>1.304793</td><td>1.685443</td><td>0.244599</td><td>1.340051</td><td>1.035505</td><td>1.499634</td><td>1.452346</td><td>1.62789</td><td>1.613636</td><td>1.158974</td><td>0.943652</td><td>27.896199</td><td>null</td><td>41.088923</td><td>57.763622</td><td>null</td><td>1.060588</td><td>0.580409</td></tr><tr><td>&quot;std&quot;</td><td>null</td><td>null</td><td>3.574648</td><td>0.483591</td><td>null</td><td>22.341862</td><td>null</td><td>5.113934</td><td>7.473764</td><td>44.56904</td><td>5.567287</td><td>13.611226</td><td>13.665196</td><td>17.061225</td><td>null</td><td>2.014072</td><td>3.189662</td><td>17.707751</td><td>null</td><td>11.807781</td><td>0.499549</td><td>10.833995</td><td>0.612585</td><td>11.148951</td><td>0.612344</td><td>7.390161</td><td>0.470407</td><td>3.429301</td><td>0.485769</td><td>3.422167</td><td>0.485469</td><td>2.988863</td><td>0.410525</td><td>null</td><td>1.028267</td><td>92.586325</td><td>&hellip;</td><td>56.272346</td><td>70.21561</td><td>108.705918</td><td>84.050607</td><td>129.362539</td><td>null</td><td>0.849476</td><td>null</td><td>0.783937</td><td>null</td><td>1.673312</td><td>1.697117</td><td>1.588807</td><td>1.195601</td><td>1.705218</td><td>1.268282</td><td>1.049355</td><td>1.342582</td><td>1.258797</td><td>1.331715</td><td>1.543074</td><td>0.522956</td><td>1.411156</td><td>1.301712</td><td>1.492929</td><td>1.4956</td><td>1.445622</td><td>1.529178</td><td>1.343661</td><td>1.18546</td><td>20.338853</td><td>null</td><td>10.427433</td><td>13.196091</td><td>null</td><td>1.094875</td><td>0.771122</td></tr><tr><td>&quot;min&quot;</td><td>&quot;00008ff9&quot;</td><td>&quot;Fall&quot;</td><td>5.0</td><td>0.0</td><td>&quot;Fall&quot;</td><td>25.0</td><td>&quot;Fall&quot;</td><td>0.0</td><td>33.0</td><td>0.0</td><td>18.0</td><td>0.0</td><td>27.0</td><td>0.0</td><td>&quot;Fall&quot;</td><td>0.0</td><td>0.0</td><td>0.0</td><td>&quot;Fall&quot;</td><td>0.0</td><td>0.0</td><td>0.0</td><td>1.0</td><td>0.0</td><td>1.0</td><td>0.0</td><td>0.0</td><td>0.0</td><td>0.0</td><td>0.0</td><td>0.0</td><td>0.0</td><td>0.0</td><td>&quot;Fall&quot;</td><td>1.0</td><td>-7.78961</td><td>&hellip;</td><td>14.489</td><td>4.63581</td><td>23.6201</td><td>4.65573</td><td>20.5892</td><td>&quot;Fall&quot;</td><td>0.66</td><td>&quot;Fall&quot;</td><td>0.58</td><td>&quot;Fall&quot;</td><td>0.0</td><td>0.0</td><td>0.0</td><td>0.0</td><td>0.0</td><td>0.0</td><td>0.0</td><td>0.0</td><td>0.0</td><td>0.0</td><td>0.0</td><td>0.0</td><td>0.0</td><td>0.0</td><td>0.0</td><td>0.0</td><td>0.0</td><td>0.0</td><td>0.0</td><td>0.0</td><td>0.0</td><td>&quot;Fall&quot;</td><td>17.0</td><td>38.0</td><td>&quot;Fall&quot;</td><td>0.0</td><td>0.0</td></tr><tr><td>&quot;25%&quot;</td><td>null</td><td>null</td><td>8.0</td><td>0.0</td><td>null</td><td>59.0</td><td>null</td><td>15.86931</td><td>50.0</td><td>57.2</td><td>23.0</td><td>61.0</td><td>72.0</td><td>107.0</td><td>null</td><td>4.0</td><td>6.0</td><td>13.0</td><td>null</td><td>3.0</td><td>0.0</td><td>15.1</td><td>1.0</td><td>16.2</td><td>2.0</td><td>0.0</td><td>0.0</td><td>7.0</td><td>0.0</td><td>7.0</td><td>0.0</td><td>7.0</td><td>1.0</td><td>null</td><td>2.0</td><td>2.96731</td><td>&hellip;</td><td>24.4636</td><td>12.99</td><td>45.2042</td><td>21.1424</td><td>35.8871</td><td>null</td><td>1.49</td><td>null</td><td>2.02</td><td>null</td><td>1.0</td><td>1.0</td><td>1.0</td><td>0.0</td><td>1.0</td><td>0.0</td><td>0.0</td><td>0.0</td><td>0.0</td><td>0.0</td><td>0.0</td><td>0.0</td><td>0.0</td><td>0.0</td><td>0.0</td><td>0.0</td><td>0.0</td><td>0.0</td><td>0.0</td><td>0.0</td><td>12.0</td><td>null</td><td>33.0</td><td>47.0</td><td>null</td><td>0.0</td><td>0.0</td></tr><tr><td>&quot;50%&quot;</td><td>null</td><td>null</td><td>10.0</td><td>0.0</td><td>null</td><td>65.0</td><td>null</td><td>17.938739</td><td>55.0</td><td>77.0</td><td>26.0</td><td>68.0</td><td>81.0</td><td>114.0</td><td>null</td><td>5.0</td><td>7.0</td><td>28.0</td><td>null</td><td>9.0</td><td>0.0</td><td>20.1</td><td>2.0</td><td>21.2</td><td>2.0</td><td>3.0</td><td>0.0</td><td>9.0</td><td>1.0</td><td>9.0</td><td>1.0</td><td>10.0</td><td>1.0</td><td>null</td><td>3.0</td><td>3.92272</td><td>&hellip;</td><td>28.8558</td><td>16.4388</td><td>56.9964</td><td>27.4151</td><td>44.987</td><td>null</td><td>2.01</td><td>null</td><td>2.54</td><td>null</td><td>2.0</td><td>2.0</td><td>2.0</td><td>0.0</td><td>2.0</td><td>1.0</td><td>0.0</td><td>1.0</td><td>1.0</td><td>1.0</td><td>2.0</td><td>0.0</td><td>1.0</td><td>1.0</td><td>1.0</td><td>1.0</td><td>1.0</td><td>1.0</td><td>1.0</td><td>1.0</td><td>26.0</td><td>null</td><td>39.0</td><td>55.0</td><td>null</td><td>1.0</td><td>0.0</td></tr><tr><td>&quot;75%&quot;</td><td>null</td><td>null</td><td>13.0</td><td>1.0</td><td>null</td><td>75.0</td><td>null</td><td>21.575719</td><td>62.0</td><td>113.8</td><td>30.0</td><td>76.0</td><td>91.0</td><td>125.0</td><td>null</td><td>6.0</td><td>9.0</td><td>43.0</td><td>null</td><td>16.0</td><td>1.0</td><td>26.6</td><td>2.0</td><td>28.2</td><td>2.0</td><td>9.0</td><td>1.0</td><td>11.0</td><td>1.0</td><td>11.0</td><td>1.0</td><td>12.0</td><td>1.0</td><td>null</td><td>3.0</td><td>5.46123</td><td>&hellip;</td><td>35.4838</td><td>22.182</td><td>77.1309</td><td>38.188</td><td>60.3215</td><td>null</td><td>2.78</td><td>null</td><td>3.16</td><td>null</td><td>4.0</td><td>4.0</td><td>4.0</td><td>1.0</td><td>4.0</td><td>2.0</td><td>1.0</td><td>2.0</td><td>2.0</td><td>2.0</td><td>3.0</td><td>0.0</td><td>2.0</td><td>2.0</td><td>2.0</td><td>2.0</td><td>3.0</td><td>2.0</td><td>2.0</td><td>1.0</td><td>41.0</td><td>null</td><td>46.0</td><td>64.0</td><td>null</td><td>2.0</td><td>1.0</td></tr><tr><td>&quot;max&quot;</td><td>&quot;ffef538e&quot;</td><td>&quot;Winter&quot;</td><td>22.0</td><td>1.0</td><td>&quot;Winter&quot;</td><td>999.0</td><td>&quot;Winter&quot;</td><td>59.132048</td><td>78.5</td><td>315.0</td><td>50.0</td><td>179.0</td><td>138.0</td><td>203.0</td><td>&quot;Winter&quot;</td><td>28.0</td><td>20.0</td><td>59.0</td><td>&quot;Winter&quot;</td><td>115.0</td><td>1.0</td><td>124.0</td><td>3.0</td><td>123.8</td><td>3.0</td><td>51.0</td><td>1.0</td><td>21.7</td><td>1.0</td><td>21.0</td><td>1.0</td><td>22.0</td><td>1.0</td><td>&quot;Winter&quot;</td><td>5.0</td><td>4115.36</td><td>&hellip;</td><td>2457.91</td><td>3108.17</td><td>4683.71</td><td>3607.69</td><td>5690.91</td><td>&quot;Winter&quot;</td><td>4.71</td><td>&quot;Winter&quot;</td><td>4.79</td><td>&quot;Winter&quot;</td><td>5.0</td><td>5.0</td><td>5.0</td><td>5.0</td><td>5.0</td><td>5.0</td><td>5.0</td><td>5.0</td><td>5.0</td><td>5.0</td><td>5.0</td><td>5.0</td><td>5.0</td><td>5.0</td><td>5.0</td><td>5.0</td><td>5.0</td><td>5.0</td><td>5.0</td><td>5.0</td><td>93.0</td><td>&quot;Winter&quot;</td><td>96.0</td><td>100.0</td><td>&quot;Winter&quot;</td><td>3.0</td><td>3.0</td></tr></tbody></table></div>"
      ],
      "text/plain": [
       "shape: (9, 83)\n",
       "┌────────────┬──────────┬───────────┬───────────┬───┬───────────┬───────────┬───────────┬──────────┐\n",
       "│ statistic  ┆ id       ┆ Basic_Dem ┆ Basic_Dem ┆ … ┆ SDS-SDS_T ┆ PreInt_Ed ┆ PreInt_Ed ┆ sii      │\n",
       "│ ---        ┆ ---      ┆ os-Enroll ┆ os-Age    ┆   ┆ otal_T    ┆ uHx-Seaso ┆ uHx-compu ┆ ---      │\n",
       "│ str        ┆ str      ┆ _Season   ┆ ---       ┆   ┆ ---       ┆ n         ┆ terintern ┆ f64      │\n",
       "│            ┆          ┆ ---       ┆ f64       ┆   ┆ f64       ┆ ---       ┆ et_…      ┆          │\n",
       "│            ┆          ┆ str       ┆           ┆   ┆           ┆ str       ┆ ---       ┆          │\n",
       "│            ┆          ┆           ┆           ┆   ┆           ┆           ┆ f64       ┆          │\n",
       "╞════════════╪══════════╪═══════════╪═══════════╪═══╪═══════════╪═══════════╪═══════════╪══════════╡\n",
       "│ count      ┆ 3960     ┆ 3960      ┆ 3960.0    ┆ … ┆ 2606.0    ┆ 3540      ┆ 3301.0    ┆ 2736.0   │\n",
       "│ null_count ┆ 0        ┆ 0         ┆ 0.0       ┆ … ┆ 1354.0    ┆ 420       ┆ 659.0     ┆ 1224.0   │\n",
       "│ mean       ┆ null     ┆ null      ┆ 10.433586 ┆ … ┆ 57.763622 ┆ null      ┆ 1.060588  ┆ 0.580409 │\n",
       "│ std        ┆ null     ┆ null      ┆ 3.574648  ┆ … ┆ 13.196091 ┆ null      ┆ 1.094875  ┆ 0.771122 │\n",
       "│ min        ┆ 00008ff9 ┆ Fall      ┆ 5.0       ┆ … ┆ 38.0      ┆ Fall      ┆ 0.0       ┆ 0.0      │\n",
       "│ 25%        ┆ null     ┆ null      ┆ 8.0       ┆ … ┆ 47.0      ┆ null      ┆ 0.0       ┆ 0.0      │\n",
       "│ 50%        ┆ null     ┆ null      ┆ 10.0      ┆ … ┆ 55.0      ┆ null      ┆ 1.0       ┆ 0.0      │\n",
       "│ 75%        ┆ null     ┆ null      ┆ 13.0      ┆ … ┆ 64.0      ┆ null      ┆ 2.0       ┆ 1.0      │\n",
       "│ max        ┆ ffef538e ┆ Winter    ┆ 22.0      ┆ … ┆ 100.0     ┆ Winter    ┆ 3.0       ┆ 3.0      │\n",
       "└────────────┴──────────┴───────────┴───────────┴───┴───────────┴───────────┴───────────┴──────────┘"
      ]
     },
     "execution_count": 94,
     "metadata": {},
     "output_type": "execute_result"
    }
   ],
   "source": [
    "train.describe()"
   ]
  },
  {
   "cell_type": "code",
   "execution_count": 95,
   "id": "c87f7c26-d1cf-41a3-bca3-ca11f81fec63",
   "metadata": {},
   "outputs": [
    {
     "data": {
      "text/html": [
       "<div><style>\n",
       ".dataframe > thead > tr,\n",
       ".dataframe > tbody > tr {\n",
       "  text-align: right;\n",
       "  white-space: pre-wrap;\n",
       "}\n",
       "</style>\n",
       "<small>shape: (20, 59)</small><table border=\"1\" class=\"dataframe\"><thead><tr><th>id</th><th>Basic_Demos-Enroll_Season</th><th>Basic_Demos-Age</th><th>Basic_Demos-Sex</th><th>CGAS-Season</th><th>CGAS-CGAS_Score</th><th>Physical-Season</th><th>Physical-BMI</th><th>Physical-Height</th><th>Physical-Weight</th><th>Physical-Waist_Circumference</th><th>Physical-Diastolic_BP</th><th>Physical-HeartRate</th><th>Physical-Systolic_BP</th><th>Fitness_Endurance-Season</th><th>Fitness_Endurance-Max_Stage</th><th>Fitness_Endurance-Time_Mins</th><th>Fitness_Endurance-Time_Sec</th><th>FGC-Season</th><th>FGC-FGC_CU</th><th>FGC-FGC_CU_Zone</th><th>FGC-FGC_GSND</th><th>FGC-FGC_GSND_Zone</th><th>FGC-FGC_GSD</th><th>FGC-FGC_GSD_Zone</th><th>FGC-FGC_PU</th><th>FGC-FGC_PU_Zone</th><th>FGC-FGC_SRL</th><th>FGC-FGC_SRL_Zone</th><th>FGC-FGC_SRR</th><th>FGC-FGC_SRR_Zone</th><th>FGC-FGC_TL</th><th>FGC-FGC_TL_Zone</th><th>BIA-Season</th><th>BIA-BIA_Activity_Level_num</th><th>BIA-BIA_BMC</th><th>BIA-BIA_BMI</th><th>BIA-BIA_BMR</th><th>BIA-BIA_DEE</th><th>BIA-BIA_ECW</th><th>BIA-BIA_FFM</th><th>BIA-BIA_FFMI</th><th>BIA-BIA_FMI</th><th>BIA-BIA_Fat</th><th>BIA-BIA_Frame_num</th><th>BIA-BIA_ICW</th><th>BIA-BIA_LDM</th><th>BIA-BIA_LST</th><th>BIA-BIA_SMM</th><th>BIA-BIA_TBW</th><th>PAQ_A-Season</th><th>PAQ_A-PAQ_A_Total</th><th>PAQ_C-Season</th><th>PAQ_C-PAQ_C_Total</th><th>SDS-Season</th><th>SDS-SDS_Total_Raw</th><th>SDS-SDS_Total_T</th><th>PreInt_EduHx-Season</th><th>PreInt_EduHx-computerinternet_hoursday</th></tr><tr><td>str</td><td>str</td><td>i64</td><td>i64</td><td>str</td><td>i64</td><td>str</td><td>f64</td><td>f64</td><td>f64</td><td>f64</td><td>i64</td><td>i64</td><td>i64</td><td>str</td><td>i64</td><td>i64</td><td>i64</td><td>str</td><td>i64</td><td>i64</td><td>f64</td><td>i64</td><td>f64</td><td>i64</td><td>i64</td><td>i64</td><td>f64</td><td>i64</td><td>f64</td><td>i64</td><td>f64</td><td>i64</td><td>str</td><td>i64</td><td>f64</td><td>f64</td><td>f64</td><td>f64</td><td>f64</td><td>f64</td><td>f64</td><td>f64</td><td>f64</td><td>i64</td><td>f64</td><td>f64</td><td>f64</td><td>f64</td><td>f64</td><td>str</td><td>f64</td><td>str</td><td>f64</td><td>str</td><td>i64</td><td>i64</td><td>str</td><td>i64</td></tr></thead><tbody><tr><td>&quot;00008ff9&quot;</td><td>&quot;Fall&quot;</td><td>5</td><td>0</td><td>&quot;Winter&quot;</td><td>51</td><td>&quot;Fall&quot;</td><td>16.877316</td><td>46.0</td><td>50.8</td><td>null</td><td>null</td><td>null</td><td>null</td><td>null</td><td>null</td><td>null</td><td>null</td><td>&quot;Fall&quot;</td><td>0</td><td>0</td><td>null</td><td>null</td><td>null</td><td>null</td><td>0</td><td>0</td><td>7.0</td><td>0</td><td>6.0</td><td>0</td><td>6.0</td><td>1</td><td>&quot;Fall&quot;</td><td>2</td><td>2.66855</td><td>16.8792</td><td>932.498</td><td>1492.0</td><td>8.25598</td><td>41.5862</td><td>13.8177</td><td>3.06143</td><td>9.21377</td><td>1</td><td>24.4349</td><td>8.89536</td><td>38.9177</td><td>19.5413</td><td>32.6909</td><td>null</td><td>null</td><td>null</td><td>null</td><td>null</td><td>null</td><td>null</td><td>&quot;Fall&quot;</td><td>3</td></tr><tr><td>&quot;000fd460&quot;</td><td>&quot;Summer&quot;</td><td>9</td><td>0</td><td>null</td><td>null</td><td>&quot;Fall&quot;</td><td>14.03559</td><td>48.0</td><td>46.0</td><td>22.0</td><td>75</td><td>70</td><td>122</td><td>null</td><td>null</td><td>null</td><td>null</td><td>&quot;Fall&quot;</td><td>3</td><td>0</td><td>null</td><td>null</td><td>null</td><td>null</td><td>5</td><td>0</td><td>11.0</td><td>1</td><td>11.0</td><td>1</td><td>3.0</td><td>0</td><td>&quot;Winter&quot;</td><td>2</td><td>2.57949</td><td>14.0371</td><td>936.656</td><td>1498.65</td><td>6.01993</td><td>42.0291</td><td>12.8254</td><td>1.21172</td><td>3.97085</td><td>1</td><td>21.0352</td><td>14.974</td><td>39.4497</td><td>15.4107</td><td>27.0552</td><td>null</td><td>null</td><td>&quot;Fall&quot;</td><td>2.34</td><td>&quot;Fall&quot;</td><td>46</td><td>64</td><td>&quot;Summer&quot;</td><td>0</td></tr><tr><td>&quot;00105258&quot;</td><td>&quot;Summer&quot;</td><td>10</td><td>1</td><td>&quot;Fall&quot;</td><td>71</td><td>&quot;Fall&quot;</td><td>16.648696</td><td>56.5</td><td>75.6</td><td>null</td><td>65</td><td>94</td><td>117</td><td>&quot;Fall&quot;</td><td>5</td><td>7</td><td>33</td><td>&quot;Fall&quot;</td><td>20</td><td>1</td><td>10.2</td><td>1</td><td>14.7</td><td>2</td><td>7</td><td>1</td><td>10.0</td><td>1</td><td>10.0</td><td>1</td><td>5.0</td><td>0</td><td>null</td><td>null</td><td>null</td><td>null</td><td>null</td><td>null</td><td>null</td><td>null</td><td>null</td><td>null</td><td>null</td><td>null</td><td>null</td><td>null</td><td>null</td><td>null</td><td>null</td><td>null</td><td>null</td><td>&quot;Summer&quot;</td><td>2.17</td><td>&quot;Fall&quot;</td><td>38</td><td>54</td><td>&quot;Summer&quot;</td><td>2</td></tr><tr><td>&quot;00115b9f&quot;</td><td>&quot;Winter&quot;</td><td>9</td><td>0</td><td>&quot;Fall&quot;</td><td>71</td><td>&quot;Summer&quot;</td><td>18.292347</td><td>56.0</td><td>81.6</td><td>null</td><td>60</td><td>97</td><td>117</td><td>&quot;Summer&quot;</td><td>6</td><td>9</td><td>37</td><td>&quot;Summer&quot;</td><td>18</td><td>1</td><td>null</td><td>null</td><td>null</td><td>null</td><td>5</td><td>0</td><td>7.0</td><td>0</td><td>7.0</td><td>0</td><td>7.0</td><td>1</td><td>&quot;Summer&quot;</td><td>3</td><td>3.84191</td><td>18.2943</td><td>1131.43</td><td>1923.44</td><td>15.5925</td><td>62.7757</td><td>14.074</td><td>4.22033</td><td>18.8243</td><td>2</td><td>30.4041</td><td>16.779</td><td>58.9338</td><td>26.4798</td><td>45.9966</td><td>null</td><td>null</td><td>&quot;Winter&quot;</td><td>2.451</td><td>&quot;Summer&quot;</td><td>31</td><td>45</td><td>&quot;Winter&quot;</td><td>0</td></tr><tr><td>&quot;0016bb22&quot;</td><td>&quot;Spring&quot;</td><td>18</td><td>1</td><td>&quot;Summer&quot;</td><td>null</td><td>null</td><td>null</td><td>null</td><td>null</td><td>null</td><td>null</td><td>null</td><td>null</td><td>null</td><td>null</td><td>null</td><td>null</td><td>null</td><td>null</td><td>null</td><td>null</td><td>null</td><td>null</td><td>null</td><td>null</td><td>null</td><td>null</td><td>null</td><td>null</td><td>null</td><td>null</td><td>null</td><td>null</td><td>null</td><td>null</td><td>null</td><td>null</td><td>null</td><td>null</td><td>null</td><td>null</td><td>null</td><td>null</td><td>null</td><td>null</td><td>null</td><td>null</td><td>null</td><td>null</td><td>&quot;Summer&quot;</td><td>1.04</td><td>null</td><td>null</td><td>null</td><td>null</td><td>null</td><td>null</td><td>null</td></tr><tr><td>&hellip;</td><td>&hellip;</td><td>&hellip;</td><td>&hellip;</td><td>&hellip;</td><td>&hellip;</td><td>&hellip;</td><td>&hellip;</td><td>&hellip;</td><td>&hellip;</td><td>&hellip;</td><td>&hellip;</td><td>&hellip;</td><td>&hellip;</td><td>&hellip;</td><td>&hellip;</td><td>&hellip;</td><td>&hellip;</td><td>&hellip;</td><td>&hellip;</td><td>&hellip;</td><td>&hellip;</td><td>&hellip;</td><td>&hellip;</td><td>&hellip;</td><td>&hellip;</td><td>&hellip;</td><td>&hellip;</td><td>&hellip;</td><td>&hellip;</td><td>&hellip;</td><td>&hellip;</td><td>&hellip;</td><td>&hellip;</td><td>&hellip;</td><td>&hellip;</td><td>&hellip;</td><td>&hellip;</td><td>&hellip;</td><td>&hellip;</td><td>&hellip;</td><td>&hellip;</td><td>&hellip;</td><td>&hellip;</td><td>&hellip;</td><td>&hellip;</td><td>&hellip;</td><td>&hellip;</td><td>&hellip;</td><td>&hellip;</td><td>&hellip;</td><td>&hellip;</td><td>&hellip;</td><td>&hellip;</td><td>&hellip;</td><td>&hellip;</td><td>&hellip;</td><td>&hellip;</td><td>&hellip;</td></tr><tr><td>&quot;00c0cd71&quot;</td><td>&quot;Winter&quot;</td><td>7</td><td>0</td><td>&quot;Summer&quot;</td><td>51</td><td>&quot;Spring&quot;</td><td>29.315775</td><td>54.0</td><td>121.6</td><td>null</td><td>80</td><td>75</td><td>99</td><td>&quot;Spring&quot;</td><td>4</td><td>5</td><td>32</td><td>&quot;Spring&quot;</td><td>6</td><td>1</td><td>null</td><td>null</td><td>null</td><td>null</td><td>0</td><td>0</td><td>12.0</td><td>1</td><td>15.0</td><td>1</td><td>12.0</td><td>1</td><td>null</td><td>null</td><td>null</td><td>null</td><td>null</td><td>null</td><td>null</td><td>null</td><td>null</td><td>null</td><td>null</td><td>null</td><td>null</td><td>null</td><td>null</td><td>null</td><td>null</td><td>null</td><td>null</td><td>null</td><td>null</td><td>&quot;Spring&quot;</td><td>35</td><td>50</td><td>&quot;Winter&quot;</td><td>2</td></tr><tr><td>&quot;00d56d4b&quot;</td><td>&quot;Spring&quot;</td><td>5</td><td>1</td><td>&quot;Summer&quot;</td><td>80</td><td>&quot;Spring&quot;</td><td>17.284504</td><td>44.0</td><td>47.6</td><td>null</td><td>61</td><td>76</td><td>109</td><td>&quot;Spring&quot;</td><td>null</td><td>null</td><td>null</td><td>&quot;Spring&quot;</td><td>0</td><td>0</td><td>null</td><td>null</td><td>null</td><td>null</td><td>0</td><td>0</td><td>10.5</td><td>1</td><td>10.0</td><td>1</td><td>7.0</td><td>1</td><td>null</td><td>null</td><td>null</td><td>null</td><td>null</td><td>null</td><td>null</td><td>null</td><td>null</td><td>null</td><td>null</td><td>null</td><td>null</td><td>null</td><td>null</td><td>null</td><td>null</td><td>null</td><td>null</td><td>null</td><td>null</td><td>&quot;Spring&quot;</td><td>37</td><td>53</td><td>&quot;Spring&quot;</td><td>0</td></tr><tr><td>&quot;00d9913d&quot;</td><td>&quot;Fall&quot;</td><td>10</td><td>1</td><td>null</td><td>null</td><td>&quot;Fall&quot;</td><td>19.893157</td><td>55.0</td><td>85.6</td><td>30.0</td><td>null</td><td>81</td><td>null</td><td>null</td><td>null</td><td>null</td><td>null</td><td>&quot;Fall&quot;</td><td>5</td><td>0</td><td>null</td><td>null</td><td>null</td><td>null</td><td>0</td><td>0</td><td>0.0</td><td>0</td><td>0.0</td><td>0</td><td>9.0</td><td>1</td><td>null</td><td>null</td><td>null</td><td>null</td><td>null</td><td>null</td><td>null</td><td>null</td><td>null</td><td>null</td><td>null</td><td>null</td><td>null</td><td>null</td><td>null</td><td>null</td><td>null</td><td>null</td><td>null</td><td>null</td><td>null</td><td>null</td><td>null</td><td>null</td><td>&quot;Fall&quot;</td><td>1</td></tr><tr><td>&quot;00e6167c&quot;</td><td>&quot;Winter&quot;</td><td>6</td><td>0</td><td>&quot;Spring&quot;</td><td>60</td><td>&quot;Winter&quot;</td><td>30.094649</td><td>37.5</td><td>60.2</td><td>24.0</td><td>61</td><td>91</td><td>95</td><td>null</td><td>null</td><td>null</td><td>null</td><td>&quot;Winter&quot;</td><td>6</td><td>1</td><td>null</td><td>null</td><td>null</td><td>null</td><td>0</td><td>0</td><td>4.0</td><td>0</td><td>4.0</td><td>0</td><td>7.0</td><td>1</td><td>&quot;Winter&quot;</td><td>2</td><td>2.75035</td><td>17.2738</td><td>1003.07</td><td>1504.61</td><td>15.1456</td><td>49.1034</td><td>14.0898</td><td>3.18407</td><td>11.0966</td><td>1</td><td>23.6182</td><td>10.3396</td><td>46.3531</td><td>19.8886</td><td>38.7638</td><td>null</td><td>null</td><td>null</td><td>null</td><td>&quot;Winter&quot;</td><td>39</td><td>55</td><td>&quot;Winter&quot;</td><td>3</td></tr><tr><td>&quot;00ebc35d&quot;</td><td>&quot;Winter&quot;</td><td>10</td><td>0</td><td>null</td><td>null</td><td>null</td><td>null</td><td>null</td><td>null</td><td>null</td><td>null</td><td>null</td><td>null</td><td>null</td><td>null</td><td>null</td><td>null</td><td>&quot;Spring&quot;</td><td>null</td><td>null</td><td>null</td><td>null</td><td>null</td><td>null</td><td>null</td><td>null</td><td>null</td><td>null</td><td>null</td><td>null</td><td>null</td><td>null</td><td>null</td><td>null</td><td>null</td><td>null</td><td>null</td><td>null</td><td>null</td><td>null</td><td>null</td><td>null</td><td>null</td><td>null</td><td>null</td><td>null</td><td>null</td><td>null</td><td>null</td><td>null</td><td>null</td><td>null</td><td>null</td><td>null</td><td>null</td><td>null</td><td>&quot;Winter&quot;</td><td>2</td></tr></tbody></table></div>"
      ],
      "text/plain": [
       "shape: (20, 59)\n",
       "┌──────────┬───────────┬───────────┬───────────┬───┬───────────┬───────────┬───────────┬───────────┐\n",
       "│ id       ┆ Basic_Dem ┆ Basic_Dem ┆ Basic_Dem ┆ … ┆ SDS-SDS_T ┆ SDS-SDS_T ┆ PreInt_Ed ┆ PreInt_Ed │\n",
       "│ ---      ┆ os-Enroll ┆ os-Age    ┆ os-Sex    ┆   ┆ otal_Raw  ┆ otal_T    ┆ uHx-Seaso ┆ uHx-compu │\n",
       "│ str      ┆ _Season   ┆ ---       ┆ ---       ┆   ┆ ---       ┆ ---       ┆ n         ┆ terintern │\n",
       "│          ┆ ---       ┆ i64       ┆ i64       ┆   ┆ i64       ┆ i64       ┆ ---       ┆ et_…      │\n",
       "│          ┆ str       ┆           ┆           ┆   ┆           ┆           ┆ str       ┆ ---       │\n",
       "│          ┆           ┆           ┆           ┆   ┆           ┆           ┆           ┆ i64       │\n",
       "╞══════════╪═══════════╪═══════════╪═══════════╪═══╪═══════════╪═══════════╪═══════════╪═══════════╡\n",
       "│ 00008ff9 ┆ Fall      ┆ 5         ┆ 0         ┆ … ┆ null      ┆ null      ┆ Fall      ┆ 3         │\n",
       "│ 000fd460 ┆ Summer    ┆ 9         ┆ 0         ┆ … ┆ 46        ┆ 64        ┆ Summer    ┆ 0         │\n",
       "│ 00105258 ┆ Summer    ┆ 10        ┆ 1         ┆ … ┆ 38        ┆ 54        ┆ Summer    ┆ 2         │\n",
       "│ 00115b9f ┆ Winter    ┆ 9         ┆ 0         ┆ … ┆ 31        ┆ 45        ┆ Winter    ┆ 0         │\n",
       "│ 0016bb22 ┆ Spring    ┆ 18        ┆ 1         ┆ … ┆ null      ┆ null      ┆ null      ┆ null      │\n",
       "│ …        ┆ …         ┆ …         ┆ …         ┆ … ┆ …         ┆ …         ┆ …         ┆ …         │\n",
       "│ 00c0cd71 ┆ Winter    ┆ 7         ┆ 0         ┆ … ┆ 35        ┆ 50        ┆ Winter    ┆ 2         │\n",
       "│ 00d56d4b ┆ Spring    ┆ 5         ┆ 1         ┆ … ┆ 37        ┆ 53        ┆ Spring    ┆ 0         │\n",
       "│ 00d9913d ┆ Fall      ┆ 10        ┆ 1         ┆ … ┆ null      ┆ null      ┆ Fall      ┆ 1         │\n",
       "│ 00e6167c ┆ Winter    ┆ 6         ┆ 0         ┆ … ┆ 39        ┆ 55        ┆ Winter    ┆ 3         │\n",
       "│ 00ebc35d ┆ Winter    ┆ 10        ┆ 0         ┆ … ┆ null      ┆ null      ┆ Winter    ┆ 2         │\n",
       "└──────────┴───────────┴───────────┴───────────┴───┴───────────┴───────────┴───────────┴───────────┘"
      ]
     },
     "execution_count": 95,
     "metadata": {},
     "output_type": "execute_result"
    }
   ],
   "source": [
    "test"
   ]
  },
  {
   "cell_type": "markdown",
   "id": "68fc1af0-ea16-40d5-aaf3-5b0c09739b42",
   "metadata": {},
   "source": [
    "From the `test` we can see that the _PCIAT_ columns are not part of the features, being instead instrumental to build the label _sii_. Let's define them as _pre-label_ columns:"
   ]
  },
  {
   "cell_type": "code",
   "execution_count": 96,
   "id": "2e1447e6-3df4-4d21-b663-1d55d828232c",
   "metadata": {},
   "outputs": [],
   "source": [
    "pre_label = [\n",
    "    'PCIAT-Season',\n",
    "    'PCIAT-PCIAT_01',\n",
    "    'PCIAT-PCIAT_02',\n",
    "    'PCIAT-PCIAT_03',\n",
    "    'PCIAT-PCIAT_04',\n",
    "    'PCIAT-PCIAT_05',\n",
    "    'PCIAT-PCIAT_06',\n",
    "    'PCIAT-PCIAT_07',\n",
    "    'PCIAT-PCIAT_08',\n",
    "    'PCIAT-PCIAT_09',\n",
    "    'PCIAT-PCIAT_10',\n",
    "    'PCIAT-PCIAT_11',\n",
    "    'PCIAT-PCIAT_12',\n",
    "    'PCIAT-PCIAT_13',\n",
    "    'PCIAT-PCIAT_14',\n",
    "    'PCIAT-PCIAT_15',\n",
    "    'PCIAT-PCIAT_16',\n",
    "    'PCIAT-PCIAT_17',\n",
    "    'PCIAT-PCIAT_18',\n",
    "    'PCIAT-PCIAT_19',\n",
    "    'PCIAT-PCIAT_20',\n",
    "    'PCIAT-PCIAT_Total',\n",
    "]"
   ]
  },
  {
   "cell_type": "code",
   "execution_count": 97,
   "id": "19072eb4-1d04-4670-8d4c-83a49e9237c3",
   "metadata": {},
   "outputs": [],
   "source": [
    "features_plus_pre_label = train.columns[:-1]\n",
    "features = [feat for feat in features_plus_pre_label if feat not in pre_label]\n",
    "label = train.columns[-1:]\n",
    "\n",
    "X = train[features]\n",
    "y = train[label]"
   ]
  },
  {
   "cell_type": "markdown",
   "id": "bb20cc70-8041-4704-901a-b38f78cd3737",
   "metadata": {
    "id": "bb20cc70-8041-4704-901a-b38f78cd3737"
   },
   "source": [
    "We have the hypotesis that the column `PCIAT-PCIAT_Total` (`parent_child_questionnaire_total`) is composed as the sum of the scores of the columns `parent_child_questionnaire`. Let's check this:"
   ]
  },
  {
   "cell_type": "code",
   "execution_count": 98,
   "id": "526cfcf6-13c2-4704-a8e8-92fdd097bace",
   "metadata": {
    "id": "526cfcf6-13c2-4704-a8e8-92fdd097bace"
   },
   "outputs": [
    {
     "data": {
      "text/plain": [
       "True"
      ]
     },
     "execution_count": 98,
     "metadata": {},
     "output_type": "execute_result"
    }
   ],
   "source": [
    "parent_child_questionnaire = pre_label[1:-1]\n",
    "parent_child_questionnaire_total = pre_label[-1]\n",
    "\n",
    "parent_child_questionnaire_sum = (train\n",
    "                                  .select(\n",
    "                                      pl.col(parent_child_questionnaire)\n",
    "                                      .exclude('PCIAT-Season', 'PCIAT-PCIAT_Total'))\n",
    "                                 ).sum_horizontal()\n",
    "\n",
    "parent_child_questionnaire_total = train.select(pl.col(parent_child_questionnaire_total)).fill_null(strategy='zero').to_series()\n",
    "\n",
    "parent_child_questionnaire_total.equals(parent_child_questionnaire_sum)"
   ]
  },
  {
   "cell_type": "markdown",
   "id": "000a2c8b-e783-4ed6-a26d-9d8264bd2dc9",
   "metadata": {
    "id": "000a2c8b-e783-4ed6-a26d-9d8264bd2dc9",
    "jp-MarkdownHeadingCollapsed": true
   },
   "source": [
    "### Parquet files"
   ]
  },
  {
   "cell_type": "code",
   "execution_count": 99,
   "id": "a54301f8-1ffc-40f1-ac7f-42fcd3c77f5c",
   "metadata": {
    "id": "a54301f8-1ffc-40f1-ac7f-42fcd3c77f5c"
   },
   "outputs": [],
   "source": [
    "def get_pq(user_id, train=True):\n",
    "    if train:\n",
    "        data_type = 'train'\n",
    "    else:\n",
    "        data_type = 'test'\n",
    "\n",
    "    user_pq = data_path / f'series_{data_type}.parquet' / f'id={user_id}'\n",
    "    if user_pq.is_dir():\n",
    "        return str(user_pq)\n",
    "\n",
    "    return None\n",
    "\n",
    "def get_users_pq(df, train=True):\n",
    "    if train:\n",
    "        data_type = 'train'\n",
    "    else:\n",
    "        data_type = 'test'\n",
    "\n",
    "    users_pq = []\n",
    "\n",
    "    for user_id in df['id']:\n",
    "        users_pq.append(get_pq(user_id))\n",
    "\n",
    "    return users_pq"
   ]
  },
  {
   "cell_type": "code",
   "execution_count": 100,
   "id": "e196b547-7edb-49ce-a2fc-d42dbe7fbd32",
   "metadata": {
    "id": "e196b547-7edb-49ce-a2fc-d42dbe7fbd32"
   },
   "outputs": [],
   "source": [
    "users_pq = get_users_pq(X)\n",
    "\n",
    "assert len(users_pq) == train.height"
   ]
  },
  {
   "cell_type": "code",
   "execution_count": 101,
   "id": "f5957fde-39e5-4dea-a230-c8011c78fc9b",
   "metadata": {
    "id": "f5957fde-39e5-4dea-a230-c8011c78fc9b",
    "outputId": "1f5d6288-b5cb-4b2e-8569-d98053f37b52"
   },
   "outputs": [
    {
     "name": "stdout",
     "output_type": "stream",
     "text": [
      "996 data/problematic-internet-use/series_train.parquet/id=00115b9f\n"
     ]
    }
   ],
   "source": [
    "users_pq_not_none = [user for user in users_pq if user is not None]\n",
    "\n",
    "print(len(users_pq_not_none), users_pq_not_none[0])"
   ]
  },
  {
   "cell_type": "markdown",
   "id": "7122a3ba-919a-4e6c-884a-50f2aaa8bfeb",
   "metadata": {
    "id": "7122a3ba-919a-4e6c-884a-50f2aaa8bfeb"
   },
   "source": [
    "Checking that all the parquet directories have the same structure:"
   ]
  },
  {
   "cell_type": "code",
   "execution_count": 102,
   "id": "db31c340-c17e-4fe6-8e1b-ed8fafcdfee0",
   "metadata": {
    "id": "db31c340-c17e-4fe6-8e1b-ed8fafcdfee0"
   },
   "outputs": [],
   "source": [
    "# Asserting that the organization of parquet folders are the same, i.e.:\n",
    "# 'series_{train, test}.parquet/id={user_id}/part-0.parquet'\n",
    "\n",
    "import os\n",
    "\n",
    "subfiles = []\n",
    "for user_pq_path in users_pq_not_none:\n",
    "    for root, dirs, files in os.walk(user_pq_path):\n",
    "        subfiles.append(files)\n",
    "\n",
    "subfiles = [\n",
    "    file\n",
    "    for files in subfiles\n",
    "    for file in files\n",
    "]\n",
    "\n",
    "subfiles = list(set(subfiles))\n",
    "\n",
    "assert len(subfiles) == 1\n",
    "assert subfiles[0] == 'part-0.parquet'"
   ]
  },
  {
   "cell_type": "markdown",
   "id": "b9b961b0-4b05-4fdd-9d65-1f255447103f",
   "metadata": {
    "id": "b9b961b0-4b05-4fdd-9d65-1f255447103f"
   },
   "source": [
    "Since all the parquet's have the same file structure, let's update the parquet functions:"
   ]
  },
  {
   "cell_type": "code",
   "execution_count": 103,
   "id": "3fcedcd0-3f3e-4091-a75c-9a82429d40ff",
   "metadata": {
    "id": "3fcedcd0-3f3e-4091-a75c-9a82429d40ff"
   },
   "outputs": [],
   "source": [
    "# Since the parquet files have the same file structure, let's change the functions\n",
    "\n",
    "def get_pq(user_id, train=True):\n",
    "    if train:\n",
    "        data_type = 'train'\n",
    "    else:\n",
    "        data_type = 'test'\n",
    "\n",
    "    user_pq = data_path / f'series_{data_type}.parquet' / f'id={user_id}' / 'part-0.parquet'\n",
    "    if user_pq.is_dir() or user_pq.is_file():\n",
    "        return str(user_pq)\n",
    "\n",
    "    return None\n",
    "\n",
    "def get_users_pq(df, train=True):\n",
    "    if train:\n",
    "        data_type = 'train'\n",
    "    else:\n",
    "        data_type = 'test'\n",
    "\n",
    "    users_pq = []\n",
    "\n",
    "    for user_id in df['id']:\n",
    "        users_pq.append(get_pq(user_id))\n",
    "\n",
    "    return users_pq"
   ]
  },
  {
   "cell_type": "code",
   "execution_count": 104,
   "id": "06ca06a7-e0d9-4ed4-81b5-1d300ebbb135",
   "metadata": {
    "id": "06ca06a7-e0d9-4ed4-81b5-1d300ebbb135"
   },
   "outputs": [],
   "source": [
    "users_pq = get_users_pq(X)\n",
    "users_pq_not_none = [user for user in users_pq if user is not None]"
   ]
  },
  {
   "cell_type": "code",
   "execution_count": 105,
   "id": "6f659874-11bd-496e-a3ab-c5c6e0d2fa09",
   "metadata": {
    "id": "6f659874-11bd-496e-a3ab-c5c6e0d2fa09",
    "outputId": "5b0886e8-0970-4056-98d1-8665d2518e24"
   },
   "outputs": [
    {
     "name": "stdout",
     "output_type": "stream",
     "text": [
      "data/problematic-internet-use/series_train.parquet/id=5ed5f205/part-0.parquet\n"
     ]
    },
    {
     "data": {
      "text/html": [
       "<div><style>\n",
       ".dataframe > thead > tr,\n",
       ".dataframe > tbody > tr {\n",
       "  text-align: right;\n",
       "  white-space: pre-wrap;\n",
       "}\n",
       "</style>\n",
       "<small>shape: (405_960, 13)</small><table border=\"1\" class=\"dataframe\"><thead><tr><th>step</th><th>X</th><th>Y</th><th>Z</th><th>enmo</th><th>anglez</th><th>non-wear_flag</th><th>light</th><th>battery_voltage</th><th>time_of_day</th><th>weekday</th><th>quarter</th><th>relative_date_PCIAT</th></tr><tr><td>u32</td><td>f32</td><td>f32</td><td>f32</td><td>f32</td><td>f32</td><td>f32</td><td>f32</td><td>f32</td><td>i64</td><td>i8</td><td>i8</td><td>f32</td></tr></thead><tbody><tr><td>0</td><td>-0.232599</td><td>0.111868</td><td>0.893851</td><td>0.122369</td><td>66.963509</td><td>0.0</td><td>17.5</td><td>4182.0</td><td>35760000000000</td><td>3</td><td>4</td><td>14.0</td></tr><tr><td>1</td><td>-0.382282</td><td>-0.220257</td><td>0.829769</td><td>0.053021</td><td>59.711872</td><td>0.0</td><td>12.166667</td><td>4181.666504</td><td>35765000000000</td><td>3</td><td>4</td><td>14.0</td></tr><tr><td>2</td><td>-0.543679</td><td>-0.20965</td><td>0.086547</td><td>0.104273</td><td>3.666786</td><td>0.0</td><td>6.833333</td><td>4181.333496</td><td>35770000000000</td><td>3</td><td>4</td><td>14.0</td></tr><tr><td>3</td><td>0.4352</td><td>0.320768</td><td>-0.045261</td><td>0.089472</td><td>-6.731405</td><td>0.0</td><td>1.5</td><td>4181.0</td><td>35775000000000</td><td>3</td><td>4</td><td>14.0</td></tr><tr><td>4</td><td>0.039774</td><td>0.200128</td><td>0.236636</td><td>0.080524</td><td>20.649042</td><td>0.0</td><td>1.509804</td><td>4180.666504</td><td>35780000000000</td><td>3</td><td>4</td><td>14.0</td></tr><tr><td>&hellip;</td><td>&hellip;</td><td>&hellip;</td><td>&hellip;</td><td>&hellip;</td><td>&hellip;</td><td>&hellip;</td><td>&hellip;</td><td>&hellip;</td><td>&hellip;</td><td>&hellip;</td><td>&hellip;</td><td>&hellip;</td></tr><tr><td>405955</td><td>-0.000553</td><td>0.279471</td><td>0.958785</td><td>0.000549</td><td>73.790565</td><td>0.0</td><td>0.5</td><td>3098.833252</td><td>78335000000000</td><td>5</td><td>4</td><td>37.0</td></tr><tr><td>405956</td><td>-0.000877</td><td>0.279341</td><td>0.958566</td><td>0.000509</td><td>73.772469</td><td>0.0</td><td>0.5</td><td>3098.666748</td><td>78340000000000</td><td>5</td><td>4</td><td>37.0</td></tr><tr><td>405957</td><td>-0.000631</td><td>0.279315</td><td>0.958501</td><td>0.000477</td><td>73.781303</td><td>0.0</td><td>0.5</td><td>3098.5</td><td>78345000000000</td><td>5</td><td>4</td><td>37.0</td></tr><tr><td>405958</td><td>-0.000371</td><td>0.279614</td><td>0.958669</td><td>0.000504</td><td>73.777374</td><td>0.0</td><td>0.5</td><td>3098.333252</td><td>78350000000000</td><td>5</td><td>4</td><td>37.0</td></tr><tr><td>405959</td><td>-0.000747</td><td>0.279354</td><td>0.958307</td><td>0.0005</td><td>73.772255</td><td>0.0</td><td>0.5</td><td>3098.166748</td><td>78355000000000</td><td>5</td><td>4</td><td>37.0</td></tr></tbody></table></div>"
      ],
      "text/plain": [
       "shape: (405_960, 13)\n",
       "┌────────┬───────────┬───────────┬───────────┬───┬──────────────┬─────────┬─────────┬──────────────┐\n",
       "│ step   ┆ X         ┆ Y         ┆ Z         ┆ … ┆ time_of_day  ┆ weekday ┆ quarter ┆ relative_dat │\n",
       "│ ---    ┆ ---       ┆ ---       ┆ ---       ┆   ┆ ---          ┆ ---     ┆ ---     ┆ e_PCIAT      │\n",
       "│ u32    ┆ f32       ┆ f32       ┆ f32       ┆   ┆ i64          ┆ i8      ┆ i8      ┆ ---          │\n",
       "│        ┆           ┆           ┆           ┆   ┆              ┆         ┆         ┆ f32          │\n",
       "╞════════╪═══════════╪═══════════╪═══════════╪═══╪══════════════╪═════════╪═════════╪══════════════╡\n",
       "│ 0      ┆ -0.232599 ┆ 0.111868  ┆ 0.893851  ┆ … ┆ 357600000000 ┆ 3       ┆ 4       ┆ 14.0         │\n",
       "│        ┆           ┆           ┆           ┆   ┆ 00           ┆         ┆         ┆              │\n",
       "│ 1      ┆ -0.382282 ┆ -0.220257 ┆ 0.829769  ┆ … ┆ 357650000000 ┆ 3       ┆ 4       ┆ 14.0         │\n",
       "│        ┆           ┆           ┆           ┆   ┆ 00           ┆         ┆         ┆              │\n",
       "│ 2      ┆ -0.543679 ┆ -0.20965  ┆ 0.086547  ┆ … ┆ 357700000000 ┆ 3       ┆ 4       ┆ 14.0         │\n",
       "│        ┆           ┆           ┆           ┆   ┆ 00           ┆         ┆         ┆              │\n",
       "│ 3      ┆ 0.4352    ┆ 0.320768  ┆ -0.045261 ┆ … ┆ 357750000000 ┆ 3       ┆ 4       ┆ 14.0         │\n",
       "│        ┆           ┆           ┆           ┆   ┆ 00           ┆         ┆         ┆              │\n",
       "│ 4      ┆ 0.039774  ┆ 0.200128  ┆ 0.236636  ┆ … ┆ 357800000000 ┆ 3       ┆ 4       ┆ 14.0         │\n",
       "│        ┆           ┆           ┆           ┆   ┆ 00           ┆         ┆         ┆              │\n",
       "│ …      ┆ …         ┆ …         ┆ …         ┆ … ┆ …            ┆ …       ┆ …       ┆ …            │\n",
       "│ 405955 ┆ -0.000553 ┆ 0.279471  ┆ 0.958785  ┆ … ┆ 783350000000 ┆ 5       ┆ 4       ┆ 37.0         │\n",
       "│        ┆           ┆           ┆           ┆   ┆ 00           ┆         ┆         ┆              │\n",
       "│ 405956 ┆ -0.000877 ┆ 0.279341  ┆ 0.958566  ┆ … ┆ 783400000000 ┆ 5       ┆ 4       ┆ 37.0         │\n",
       "│        ┆           ┆           ┆           ┆   ┆ 00           ┆         ┆         ┆              │\n",
       "│ 405957 ┆ -0.000631 ┆ 0.279315  ┆ 0.958501  ┆ … ┆ 783450000000 ┆ 5       ┆ 4       ┆ 37.0         │\n",
       "│        ┆           ┆           ┆           ┆   ┆ 00           ┆         ┆         ┆              │\n",
       "│ 405958 ┆ -0.000371 ┆ 0.279614  ┆ 0.958669  ┆ … ┆ 783500000000 ┆ 5       ┆ 4       ┆ 37.0         │\n",
       "│        ┆           ┆           ┆           ┆   ┆ 00           ┆         ┆         ┆              │\n",
       "│ 405959 ┆ -0.000747 ┆ 0.279354  ┆ 0.958307  ┆ … ┆ 783550000000 ┆ 5       ┆ 4       ┆ 37.0         │\n",
       "│        ┆           ┆           ┆           ┆   ┆ 00           ┆         ┆         ┆              │\n",
       "└────────┴───────────┴───────────┴───────────┴───┴──────────────┴─────────┴─────────┴──────────────┘"
      ]
     },
     "execution_count": 105,
     "metadata": {},
     "output_type": "execute_result"
    }
   ],
   "source": [
    "# Exploring some parquet files\n",
    "\n",
    "import pyarrow.parquet as pq\n",
    "from random import randrange\n",
    "\n",
    "user_pq_index = randrange(len(users_pq_not_none))\n",
    "user_pq_path = users_pq_not_none[user_pq_index]\n",
    "print(user_pq_path)\n",
    "\n",
    "\n",
    "user = pl.read_parquet(user_pq_path)\n",
    "\n",
    "user"
   ]
  },
  {
   "cell_type": "code",
   "execution_count": 106,
   "id": "36249824-1fd3-4279-a82f-0bce93b900ae",
   "metadata": {
    "id": "36249824-1fd3-4279-a82f-0bce93b900ae"
   },
   "outputs": [],
   "source": [
    "users_pq_dim = []\n",
    "\n",
    "for user_pq_path in users_pq_not_none:\n",
    "    meta = pq.ParquetFile(user_pq_path).metadata\n",
    "    users_pq_dim.append((meta.num_rows, meta.num_columns))"
   ]
  },
  {
   "cell_type": "code",
   "execution_count": 107,
   "id": "5a9597ac-783b-4cdc-a23d-a2e426bd2e3d",
   "metadata": {
    "id": "5a9597ac-783b-4cdc-a23d-a2e426bd2e3d",
    "outputId": "e4d1d6f8-855b-4698-862a-0a52ca51e8fe"
   },
   "outputs": [
    {
     "data": {
      "text/html": [
       "<div><style>\n",
       ".dataframe > thead > tr,\n",
       ".dataframe > tbody > tr {\n",
       "  text-align: right;\n",
       "  white-space: pre-wrap;\n",
       "}\n",
       "</style>\n",
       "<small>shape: (9, 2)</small><table border=\"1\" class=\"dataframe\"><thead><tr><th>statistic</th><th>rows</th></tr><tr><td>str</td><td>f64</td></tr></thead><tbody><tr><td>&quot;count&quot;</td><td>996.0</td></tr><tr><td>&quot;null_count&quot;</td><td>0.0</td></tr><tr><td>&quot;mean&quot;</td><td>315832.478916</td></tr><tr><td>&quot;std&quot;</td><td>133011.574731</td></tr><tr><td>&quot;min&quot;</td><td>927.0</td></tr><tr><td>&quot;25%&quot;</td><td>254111.0</td></tr><tr><td>&quot;50%&quot;</td><td>383652.0</td></tr><tr><td>&quot;75%&quot;</td><td>402540.0</td></tr><tr><td>&quot;max&quot;</td><td>756212.0</td></tr></tbody></table></div>"
      ],
      "text/plain": [
       "shape: (9, 2)\n",
       "┌────────────┬───────────────┐\n",
       "│ statistic  ┆ rows          │\n",
       "│ ---        ┆ ---           │\n",
       "│ str        ┆ f64           │\n",
       "╞════════════╪═══════════════╡\n",
       "│ count      ┆ 996.0         │\n",
       "│ null_count ┆ 0.0           │\n",
       "│ mean       ┆ 315832.478916 │\n",
       "│ std        ┆ 133011.574731 │\n",
       "│ min        ┆ 927.0         │\n",
       "│ 25%        ┆ 254111.0      │\n",
       "│ 50%        ┆ 383652.0      │\n",
       "│ 75%        ┆ 402540.0      │\n",
       "│ max        ┆ 756212.0      │\n",
       "└────────────┴───────────────┘"
      ]
     },
     "execution_count": 107,
     "metadata": {},
     "output_type": "execute_result"
    }
   ],
   "source": [
    "users_pq_dim_rows = pl.DataFrame({ 'rows': [row for (row, column) in users_pq_dim]})\n",
    "\n",
    "users_pq_dim_rows.describe()"
   ]
  },
  {
   "cell_type": "markdown",
   "id": "99101086-1b84-4b2c-9113-2b02cfeae726",
   "metadata": {},
   "source": [
    "### Missing data"
   ]
  },
  {
   "cell_type": "code",
   "execution_count": 109,
   "id": "0b2662c8-3652-41d6-9632-661dc834d3ee",
   "metadata": {},
   "outputs": [
    {
     "data": {
      "text/html": [
       "<div><style>\n",
       ".dataframe > thead > tr,\n",
       ".dataframe > tbody > tr {\n",
       "  text-align: right;\n",
       "  white-space: pre-wrap;\n",
       "}\n",
       "</style>\n",
       "<small>shape: (3_960, 59)</small><table border=\"1\" class=\"dataframe\"><thead><tr><th>id</th><th>Basic_Demos-Enroll_Season</th><th>Basic_Demos-Age</th><th>Basic_Demos-Sex</th><th>CGAS-Season</th><th>CGAS-CGAS_Score</th><th>Physical-Season</th><th>Physical-BMI</th><th>Physical-Height</th><th>Physical-Weight</th><th>Physical-Waist_Circumference</th><th>Physical-Diastolic_BP</th><th>Physical-HeartRate</th><th>Physical-Systolic_BP</th><th>Fitness_Endurance-Season</th><th>Fitness_Endurance-Max_Stage</th><th>Fitness_Endurance-Time_Mins</th><th>Fitness_Endurance-Time_Sec</th><th>FGC-Season</th><th>FGC-FGC_CU</th><th>FGC-FGC_CU_Zone</th><th>FGC-FGC_GSND</th><th>FGC-FGC_GSND_Zone</th><th>FGC-FGC_GSD</th><th>FGC-FGC_GSD_Zone</th><th>FGC-FGC_PU</th><th>FGC-FGC_PU_Zone</th><th>FGC-FGC_SRL</th><th>FGC-FGC_SRL_Zone</th><th>FGC-FGC_SRR</th><th>FGC-FGC_SRR_Zone</th><th>FGC-FGC_TL</th><th>FGC-FGC_TL_Zone</th><th>BIA-Season</th><th>BIA-BIA_Activity_Level_num</th><th>BIA-BIA_BMC</th><th>BIA-BIA_BMI</th><th>BIA-BIA_BMR</th><th>BIA-BIA_DEE</th><th>BIA-BIA_ECW</th><th>BIA-BIA_FFM</th><th>BIA-BIA_FFMI</th><th>BIA-BIA_FMI</th><th>BIA-BIA_Fat</th><th>BIA-BIA_Frame_num</th><th>BIA-BIA_ICW</th><th>BIA-BIA_LDM</th><th>BIA-BIA_LST</th><th>BIA-BIA_SMM</th><th>BIA-BIA_TBW</th><th>PAQ_A-Season</th><th>PAQ_A-PAQ_A_Total</th><th>PAQ_C-Season</th><th>PAQ_C-PAQ_C_Total</th><th>SDS-Season</th><th>SDS-SDS_Total_Raw</th><th>SDS-SDS_Total_T</th><th>PreInt_EduHx-Season</th><th>PreInt_EduHx-computerinternet_hoursday</th></tr><tr><td>str</td><td>str</td><td>i64</td><td>i64</td><td>str</td><td>i64</td><td>str</td><td>f64</td><td>f64</td><td>f64</td><td>f64</td><td>i64</td><td>i64</td><td>i64</td><td>str</td><td>i64</td><td>i64</td><td>i64</td><td>str</td><td>i64</td><td>i64</td><td>f64</td><td>i64</td><td>f64</td><td>i64</td><td>i64</td><td>i64</td><td>f64</td><td>i64</td><td>f64</td><td>i64</td><td>f64</td><td>i64</td><td>str</td><td>i64</td><td>f64</td><td>f64</td><td>f64</td><td>f64</td><td>f64</td><td>f64</td><td>f64</td><td>f64</td><td>f64</td><td>i64</td><td>f64</td><td>f64</td><td>f64</td><td>f64</td><td>f64</td><td>str</td><td>f64</td><td>str</td><td>f64</td><td>str</td><td>i64</td><td>i64</td><td>str</td><td>i64</td></tr></thead><tbody><tr><td>&quot;00008ff9&quot;</td><td>&quot;Fall&quot;</td><td>5</td><td>0</td><td>&quot;Winter&quot;</td><td>51</td><td>&quot;Fall&quot;</td><td>16.877316</td><td>46.0</td><td>50.8</td><td>null</td><td>null</td><td>null</td><td>null</td><td>null</td><td>null</td><td>null</td><td>null</td><td>&quot;Fall&quot;</td><td>0</td><td>0</td><td>null</td><td>null</td><td>null</td><td>null</td><td>0</td><td>0</td><td>7.0</td><td>0</td><td>6.0</td><td>0</td><td>6.0</td><td>1</td><td>&quot;Fall&quot;</td><td>2</td><td>2.66855</td><td>16.8792</td><td>932.498</td><td>1492.0</td><td>8.25598</td><td>41.5862</td><td>13.8177</td><td>3.06143</td><td>9.21377</td><td>1</td><td>24.4349</td><td>8.89536</td><td>38.9177</td><td>19.5413</td><td>32.6909</td><td>null</td><td>null</td><td>null</td><td>null</td><td>null</td><td>null</td><td>null</td><td>&quot;Fall&quot;</td><td>3</td></tr><tr><td>&quot;000fd460&quot;</td><td>&quot;Summer&quot;</td><td>9</td><td>0</td><td>null</td><td>null</td><td>&quot;Fall&quot;</td><td>14.03559</td><td>48.0</td><td>46.0</td><td>22.0</td><td>75</td><td>70</td><td>122</td><td>null</td><td>null</td><td>null</td><td>null</td><td>&quot;Fall&quot;</td><td>3</td><td>0</td><td>null</td><td>null</td><td>null</td><td>null</td><td>5</td><td>0</td><td>11.0</td><td>1</td><td>11.0</td><td>1</td><td>3.0</td><td>0</td><td>&quot;Winter&quot;</td><td>2</td><td>2.57949</td><td>14.0371</td><td>936.656</td><td>1498.65</td><td>6.01993</td><td>42.0291</td><td>12.8254</td><td>1.21172</td><td>3.97085</td><td>1</td><td>21.0352</td><td>14.974</td><td>39.4497</td><td>15.4107</td><td>27.0552</td><td>null</td><td>null</td><td>&quot;Fall&quot;</td><td>2.34</td><td>&quot;Fall&quot;</td><td>46</td><td>64</td><td>&quot;Summer&quot;</td><td>0</td></tr><tr><td>&quot;00105258&quot;</td><td>&quot;Summer&quot;</td><td>10</td><td>1</td><td>&quot;Fall&quot;</td><td>71</td><td>&quot;Fall&quot;</td><td>16.648696</td><td>56.5</td><td>75.6</td><td>null</td><td>65</td><td>94</td><td>117</td><td>&quot;Fall&quot;</td><td>5</td><td>7</td><td>33</td><td>&quot;Fall&quot;</td><td>20</td><td>1</td><td>10.2</td><td>1</td><td>14.7</td><td>2</td><td>7</td><td>1</td><td>10.0</td><td>1</td><td>10.0</td><td>1</td><td>5.0</td><td>0</td><td>null</td><td>null</td><td>null</td><td>null</td><td>null</td><td>null</td><td>null</td><td>null</td><td>null</td><td>null</td><td>null</td><td>null</td><td>null</td><td>null</td><td>null</td><td>null</td><td>null</td><td>null</td><td>null</td><td>&quot;Summer&quot;</td><td>2.17</td><td>&quot;Fall&quot;</td><td>38</td><td>54</td><td>&quot;Summer&quot;</td><td>2</td></tr><tr><td>&quot;00115b9f&quot;</td><td>&quot;Winter&quot;</td><td>9</td><td>0</td><td>&quot;Fall&quot;</td><td>71</td><td>&quot;Summer&quot;</td><td>18.292347</td><td>56.0</td><td>81.6</td><td>null</td><td>60</td><td>97</td><td>117</td><td>&quot;Summer&quot;</td><td>6</td><td>9</td><td>37</td><td>&quot;Summer&quot;</td><td>18</td><td>1</td><td>null</td><td>null</td><td>null</td><td>null</td><td>5</td><td>0</td><td>7.0</td><td>0</td><td>7.0</td><td>0</td><td>7.0</td><td>1</td><td>&quot;Summer&quot;</td><td>3</td><td>3.84191</td><td>18.2943</td><td>1131.43</td><td>1923.44</td><td>15.5925</td><td>62.7757</td><td>14.074</td><td>4.22033</td><td>18.8243</td><td>2</td><td>30.4041</td><td>16.779</td><td>58.9338</td><td>26.4798</td><td>45.9966</td><td>null</td><td>null</td><td>&quot;Winter&quot;</td><td>2.451</td><td>&quot;Summer&quot;</td><td>31</td><td>45</td><td>&quot;Winter&quot;</td><td>0</td></tr><tr><td>&quot;0016bb22&quot;</td><td>&quot;Spring&quot;</td><td>18</td><td>1</td><td>&quot;Summer&quot;</td><td>null</td><td>null</td><td>null</td><td>null</td><td>null</td><td>null</td><td>null</td><td>null</td><td>null</td><td>null</td><td>null</td><td>null</td><td>null</td><td>null</td><td>null</td><td>null</td><td>null</td><td>null</td><td>null</td><td>null</td><td>null</td><td>null</td><td>null</td><td>null</td><td>null</td><td>null</td><td>null</td><td>null</td><td>null</td><td>null</td><td>null</td><td>null</td><td>null</td><td>null</td><td>null</td><td>null</td><td>null</td><td>null</td><td>null</td><td>null</td><td>null</td><td>null</td><td>null</td><td>null</td><td>null</td><td>&quot;Summer&quot;</td><td>1.04</td><td>null</td><td>null</td><td>null</td><td>null</td><td>null</td><td>null</td><td>null</td></tr><tr><td>&hellip;</td><td>&hellip;</td><td>&hellip;</td><td>&hellip;</td><td>&hellip;</td><td>&hellip;</td><td>&hellip;</td><td>&hellip;</td><td>&hellip;</td><td>&hellip;</td><td>&hellip;</td><td>&hellip;</td><td>&hellip;</td><td>&hellip;</td><td>&hellip;</td><td>&hellip;</td><td>&hellip;</td><td>&hellip;</td><td>&hellip;</td><td>&hellip;</td><td>&hellip;</td><td>&hellip;</td><td>&hellip;</td><td>&hellip;</td><td>&hellip;</td><td>&hellip;</td><td>&hellip;</td><td>&hellip;</td><td>&hellip;</td><td>&hellip;</td><td>&hellip;</td><td>&hellip;</td><td>&hellip;</td><td>&hellip;</td><td>&hellip;</td><td>&hellip;</td><td>&hellip;</td><td>&hellip;</td><td>&hellip;</td><td>&hellip;</td><td>&hellip;</td><td>&hellip;</td><td>&hellip;</td><td>&hellip;</td><td>&hellip;</td><td>&hellip;</td><td>&hellip;</td><td>&hellip;</td><td>&hellip;</td><td>&hellip;</td><td>&hellip;</td><td>&hellip;</td><td>&hellip;</td><td>&hellip;</td><td>&hellip;</td><td>&hellip;</td><td>&hellip;</td><td>&hellip;</td><td>&hellip;</td></tr><tr><td>&quot;ff8a2de4&quot;</td><td>&quot;Fall&quot;</td><td>13</td><td>0</td><td>&quot;Spring&quot;</td><td>60</td><td>&quot;Fall&quot;</td><td>16.36246</td><td>59.5</td><td>82.4</td><td>null</td><td>71</td><td>70</td><td>104</td><td>null</td><td>null</td><td>null</td><td>null</td><td>&quot;Fall&quot;</td><td>16</td><td>0</td><td>18.0</td><td>1</td><td>19.9</td><td>2</td><td>10</td><td>1</td><td>8.0</td><td>1</td><td>9.0</td><td>1</td><td>12.0</td><td>1</td><td>&quot;Fall&quot;</td><td>3</td><td>4.52277</td><td>16.3642</td><td>1206.88</td><td>2051.7</td><td>19.4611</td><td>70.8117</td><td>14.0629</td><td>2.30138</td><td>11.5883</td><td>1</td><td>33.3709</td><td>17.9797</td><td>66.2889</td><td>29.779</td><td>52.832</td><td>null</td><td>null</td><td>&quot;Winter&quot;</td><td>3.26</td><td>&quot;Winter&quot;</td><td>35</td><td>50</td><td>&quot;Fall&quot;</td><td>1</td></tr><tr><td>&quot;ffa9794a&quot;</td><td>&quot;Winter&quot;</td><td>10</td><td>0</td><td>null</td><td>null</td><td>&quot;Spring&quot;</td><td>18.764678</td><td>53.5</td><td>76.4</td><td>27.0</td><td>60</td><td>78</td><td>118</td><td>null</td><td>null</td><td>null</td><td>null</td><td>&quot;Spring&quot;</td><td>0</td><td>0</td><td>null</td><td>null</td><td>null</td><td>null</td><td>4</td><td>0</td><td>0.0</td><td>0</td><td>0.0</td><td>0</td><td>12.0</td><td>1</td><td>&quot;Spring&quot;</td><td>null</td><td>null</td><td>null</td><td>null</td><td>null</td><td>null</td><td>null</td><td>null</td><td>null</td><td>null</td><td>null</td><td>null</td><td>null</td><td>null</td><td>null</td><td>null</td><td>null</td><td>null</td><td>&quot;Winter&quot;</td><td>2.34</td><td>null</td><td>null</td><td>null</td><td>&quot;Winter&quot;</td><td>0</td></tr><tr><td>&quot;ffcd4dbd&quot;</td><td>&quot;Fall&quot;</td><td>11</td><td>0</td><td>&quot;Spring&quot;</td><td>68</td><td>&quot;Winter&quot;</td><td>21.4415</td><td>60.0</td><td>109.8</td><td>null</td><td>79</td><td>99</td><td>116</td><td>null</td><td>null</td><td>null</td><td>null</td><td>&quot;Winter&quot;</td><td>15</td><td>1</td><td>18.5</td><td>2</td><td>15.8</td><td>2</td><td>0</td><td>0</td><td>10.0</td><td>1</td><td>10.0</td><td>1</td><td>14.0</td><td>1</td><td>&quot;Winter&quot;</td><td>2</td><td>4.41305</td><td>21.4438</td><td>1253.74</td><td>2005.99</td><td>20.4825</td><td>75.8033</td><td>14.8043</td><td>6.63952</td><td>33.9967</td><td>2</td><td>33.9805</td><td>21.3403</td><td>71.3903</td><td>28.7792</td><td>54.463</td><td>null</td><td>null</td><td>&quot;Winter&quot;</td><td>2.729</td><td>&quot;Winter&quot;</td><td>56</td><td>77</td><td>&quot;Fall&quot;</td><td>0</td></tr><tr><td>&quot;ffed1dd5&quot;</td><td>&quot;Spring&quot;</td><td>13</td><td>0</td><td>&quot;Spring&quot;</td><td>70</td><td>&quot;Winter&quot;</td><td>12.235895</td><td>70.7</td><td>87.0</td><td>null</td><td>59</td><td>61</td><td>113</td><td>null</td><td>null</td><td>null</td><td>null</td><td>&quot;Spring&quot;</td><td>null</td><td>null</td><td>null</td><td>null</td><td>null</td><td>null</td><td>null</td><td>null</td><td>null</td><td>null</td><td>null</td><td>null</td><td>null</td><td>null</td><td>&quot;Summer&quot;</td><td>4</td><td>6.66168</td><td>12.2372</td><td>1414.34</td><td>2970.12</td><td>26.5323</td><td>92.9092</td><td>13.0684</td><td>-0.83117</td><td>-5.90917</td><td>2</td><td>41.3715</td><td>25.0054</td><td>86.2475</td><td>45.434</td><td>67.9038</td><td>null</td><td>null</td><td>&quot;Spring&quot;</td><td>3.3</td><td>&quot;Spring&quot;</td><td>33</td><td>47</td><td>&quot;Spring&quot;</td><td>1</td></tr><tr><td>&quot;ffef538e&quot;</td><td>&quot;Spring&quot;</td><td>11</td><td>0</td><td>null</td><td>null</td><td>&quot;Winter&quot;</td><td>null</td><td>null</td><td>null</td><td>null</td><td>null</td><td>null</td><td>null</td><td>null</td><td>null</td><td>null</td><td>null</td><td>&quot;Winter&quot;</td><td>null</td><td>null</td><td>null</td><td>null</td><td>null</td><td>null</td><td>null</td><td>null</td><td>null</td><td>null</td><td>null</td><td>null</td><td>null</td><td>null</td><td>null</td><td>null</td><td>null</td><td>null</td><td>null</td><td>null</td><td>null</td><td>null</td><td>null</td><td>null</td><td>null</td><td>null</td><td>null</td><td>null</td><td>null</td><td>null</td><td>null</td><td>null</td><td>null</td><td>null</td><td>null</td><td>null</td><td>null</td><td>null</td><td>&quot;Spring&quot;</td><td>1</td></tr></tbody></table></div>"
      ],
      "text/plain": [
       "shape: (3_960, 59)\n",
       "┌──────────┬───────────┬───────────┬───────────┬───┬───────────┬───────────┬───────────┬───────────┐\n",
       "│ id       ┆ Basic_Dem ┆ Basic_Dem ┆ Basic_Dem ┆ … ┆ SDS-SDS_T ┆ SDS-SDS_T ┆ PreInt_Ed ┆ PreInt_Ed │\n",
       "│ ---      ┆ os-Enroll ┆ os-Age    ┆ os-Sex    ┆   ┆ otal_Raw  ┆ otal_T    ┆ uHx-Seaso ┆ uHx-compu │\n",
       "│ str      ┆ _Season   ┆ ---       ┆ ---       ┆   ┆ ---       ┆ ---       ┆ n         ┆ terintern │\n",
       "│          ┆ ---       ┆ i64       ┆ i64       ┆   ┆ i64       ┆ i64       ┆ ---       ┆ et_…      │\n",
       "│          ┆ str       ┆           ┆           ┆   ┆           ┆           ┆ str       ┆ ---       │\n",
       "│          ┆           ┆           ┆           ┆   ┆           ┆           ┆           ┆ i64       │\n",
       "╞══════════╪═══════════╪═══════════╪═══════════╪═══╪═══════════╪═══════════╪═══════════╪═══════════╡\n",
       "│ 00008ff9 ┆ Fall      ┆ 5         ┆ 0         ┆ … ┆ null      ┆ null      ┆ Fall      ┆ 3         │\n",
       "│ 000fd460 ┆ Summer    ┆ 9         ┆ 0         ┆ … ┆ 46        ┆ 64        ┆ Summer    ┆ 0         │\n",
       "│ 00105258 ┆ Summer    ┆ 10        ┆ 1         ┆ … ┆ 38        ┆ 54        ┆ Summer    ┆ 2         │\n",
       "│ 00115b9f ┆ Winter    ┆ 9         ┆ 0         ┆ … ┆ 31        ┆ 45        ┆ Winter    ┆ 0         │\n",
       "│ 0016bb22 ┆ Spring    ┆ 18        ┆ 1         ┆ … ┆ null      ┆ null      ┆ null      ┆ null      │\n",
       "│ …        ┆ …         ┆ …         ┆ …         ┆ … ┆ …         ┆ …         ┆ …         ┆ …         │\n",
       "│ ff8a2de4 ┆ Fall      ┆ 13        ┆ 0         ┆ … ┆ 35        ┆ 50        ┆ Fall      ┆ 1         │\n",
       "│ ffa9794a ┆ Winter    ┆ 10        ┆ 0         ┆ … ┆ null      ┆ null      ┆ Winter    ┆ 0         │\n",
       "│ ffcd4dbd ┆ Fall      ┆ 11        ┆ 0         ┆ … ┆ 56        ┆ 77        ┆ Fall      ┆ 0         │\n",
       "│ ffed1dd5 ┆ Spring    ┆ 13        ┆ 0         ┆ … ┆ 33        ┆ 47        ┆ Spring    ┆ 1         │\n",
       "│ ffef538e ┆ Spring    ┆ 11        ┆ 0         ┆ … ┆ null      ┆ null      ┆ Spring    ┆ 1         │\n",
       "└──────────┴───────────┴───────────┴───────────┴───┴───────────┴───────────┴───────────┴───────────┘"
      ]
     },
     "execution_count": 109,
     "metadata": {},
     "output_type": "execute_result"
    }
   ],
   "source": [
    "X"
   ]
  },
  {
   "cell_type": "markdown",
   "id": "d9145016-3476-489d-bafa-d53f140d4d5d",
   "metadata": {},
   "source": [
    "Initially, let's ignore all the _str_ columns and _pre-label_ ones:"
   ]
  },
  {
   "cell_type": "code",
   "execution_count": 111,
   "id": "c124cee4-1398-4700-8c27-0f3bd379d293",
   "metadata": {},
   "outputs": [
    {
     "data": {
      "text/html": [
       "<div><style>\n",
       ".dataframe > thead > tr,\n",
       ".dataframe > tbody > tr {\n",
       "  text-align: right;\n",
       "  white-space: pre-wrap;\n",
       "}\n",
       "</style>\n",
       "<small>shape: (9, 49)</small><table border=\"1\" class=\"dataframe\"><thead><tr><th>statistic</th><th>Basic_Demos-Age</th><th>Basic_Demos-Sex</th><th>CGAS-CGAS_Score</th><th>Physical-BMI</th><th>Physical-Height</th><th>Physical-Weight</th><th>Physical-Waist_Circumference</th><th>Physical-Diastolic_BP</th><th>Physical-HeartRate</th><th>Physical-Systolic_BP</th><th>Fitness_Endurance-Max_Stage</th><th>Fitness_Endurance-Time_Mins</th><th>Fitness_Endurance-Time_Sec</th><th>FGC-FGC_CU</th><th>FGC-FGC_CU_Zone</th><th>FGC-FGC_GSND</th><th>FGC-FGC_GSND_Zone</th><th>FGC-FGC_GSD</th><th>FGC-FGC_GSD_Zone</th><th>FGC-FGC_PU</th><th>FGC-FGC_PU_Zone</th><th>FGC-FGC_SRL</th><th>FGC-FGC_SRL_Zone</th><th>FGC-FGC_SRR</th><th>FGC-FGC_SRR_Zone</th><th>FGC-FGC_TL</th><th>FGC-FGC_TL_Zone</th><th>BIA-BIA_Activity_Level_num</th><th>BIA-BIA_BMC</th><th>BIA-BIA_BMI</th><th>BIA-BIA_BMR</th><th>BIA-BIA_DEE</th><th>BIA-BIA_ECW</th><th>BIA-BIA_FFM</th><th>BIA-BIA_FFMI</th><th>BIA-BIA_FMI</th><th>BIA-BIA_Fat</th><th>BIA-BIA_Frame_num</th><th>BIA-BIA_ICW</th><th>BIA-BIA_LDM</th><th>BIA-BIA_LST</th><th>BIA-BIA_SMM</th><th>BIA-BIA_TBW</th><th>PAQ_A-PAQ_A_Total</th><th>PAQ_C-PAQ_C_Total</th><th>SDS-SDS_Total_Raw</th><th>SDS-SDS_Total_T</th><th>PreInt_EduHx-computerinternet_hoursday</th></tr><tr><td>str</td><td>f64</td><td>f64</td><td>f64</td><td>f64</td><td>f64</td><td>f64</td><td>f64</td><td>f64</td><td>f64</td><td>f64</td><td>f64</td><td>f64</td><td>f64</td><td>f64</td><td>f64</td><td>f64</td><td>f64</td><td>f64</td><td>f64</td><td>f64</td><td>f64</td><td>f64</td><td>f64</td><td>f64</td><td>f64</td><td>f64</td><td>f64</td><td>f64</td><td>f64</td><td>f64</td><td>f64</td><td>f64</td><td>f64</td><td>f64</td><td>f64</td><td>f64</td><td>f64</td><td>f64</td><td>f64</td><td>f64</td><td>f64</td><td>f64</td><td>f64</td><td>f64</td><td>f64</td><td>f64</td><td>f64</td><td>f64</td></tr></thead><tbody><tr><td>&quot;count&quot;</td><td>3960.0</td><td>3960.0</td><td>2421.0</td><td>3022.0</td><td>3027.0</td><td>3076.0</td><td>898.0</td><td>2954.0</td><td>2967.0</td><td>2954.0</td><td>743.0</td><td>740.0</td><td>740.0</td><td>2322.0</td><td>2282.0</td><td>1074.0</td><td>1062.0</td><td>1074.0</td><td>1063.0</td><td>2310.0</td><td>2271.0</td><td>2305.0</td><td>2267.0</td><td>2307.0</td><td>2269.0</td><td>2324.0</td><td>2285.0</td><td>1991.0</td><td>1991.0</td><td>1991.0</td><td>1991.0</td><td>1991.0</td><td>1991.0</td><td>1991.0</td><td>1991.0</td><td>1991.0</td><td>1991.0</td><td>1991.0</td><td>1991.0</td><td>1991.0</td><td>1991.0</td><td>1991.0</td><td>1991.0</td><td>475.0</td><td>1721.0</td><td>2609.0</td><td>2606.0</td><td>3301.0</td></tr><tr><td>&quot;null_count&quot;</td><td>0.0</td><td>0.0</td><td>1539.0</td><td>938.0</td><td>933.0</td><td>884.0</td><td>3062.0</td><td>1006.0</td><td>993.0</td><td>1006.0</td><td>3217.0</td><td>3220.0</td><td>3220.0</td><td>1638.0</td><td>1678.0</td><td>2886.0</td><td>2898.0</td><td>2886.0</td><td>2897.0</td><td>1650.0</td><td>1689.0</td><td>1655.0</td><td>1693.0</td><td>1653.0</td><td>1691.0</td><td>1636.0</td><td>1675.0</td><td>1969.0</td><td>1969.0</td><td>1969.0</td><td>1969.0</td><td>1969.0</td><td>1969.0</td><td>1969.0</td><td>1969.0</td><td>1969.0</td><td>1969.0</td><td>1969.0</td><td>1969.0</td><td>1969.0</td><td>1969.0</td><td>1969.0</td><td>1969.0</td><td>3485.0</td><td>2239.0</td><td>1351.0</td><td>1354.0</td><td>659.0</td></tr><tr><td>&quot;mean&quot;</td><td>10.433586</td><td>0.372727</td><td>65.454771</td><td>19.331929</td><td>55.946713</td><td>89.038615</td><td>27.278508</td><td>69.648951</td><td>81.597236</td><td>116.983074</td><td>4.989233</td><td>7.37027</td><td>27.581081</td><td>11.25969</td><td>0.476337</td><td>22.420438</td><td>1.829567</td><td>23.518622</td><td>1.904045</td><td>5.579654</td><td>0.330251</td><td>8.694924</td><td>0.61888</td><td>8.805635</td><td>0.620097</td><td>9.252775</td><td>0.785558</td><td>2.651431</td><td>6.719826</td><td>19.367048</td><td>1237.018187</td><td>2064.693747</td><td>20.825346</td><td>74.021708</td><td>15.030554</td><td>4.336495</td><td>16.85502</td><td>1.745354</td><td>33.17338</td><td>20.02299</td><td>67.301883</td><td>34.389466</td><td>53.998726</td><td>2.178853</td><td>2.58955</td><td>41.088923</td><td>57.763622</td><td>1.060588</td></tr><tr><td>&quot;std&quot;</td><td>3.574648</td><td>0.483591</td><td>22.341862</td><td>5.113934</td><td>7.473764</td><td>44.56904</td><td>5.567287</td><td>13.611226</td><td>13.665196</td><td>17.061225</td><td>2.014072</td><td>3.189662</td><td>17.707751</td><td>11.807781</td><td>0.499549</td><td>10.833995</td><td>0.612585</td><td>11.148951</td><td>0.612344</td><td>7.390161</td><td>0.470407</td><td>3.429301</td><td>0.485769</td><td>3.422167</td><td>0.485469</td><td>2.988863</td><td>0.410525</td><td>1.028267</td><td>92.586325</td><td>5.047848</td><td>1872.383246</td><td>2836.246272</td><td>73.266287</td><td>199.433753</td><td>5.792505</td><td>6.356402</td><td>199.372119</td><td>0.680635</td><td>56.272346</td><td>70.21561</td><td>108.705918</td><td>84.050607</td><td>129.362539</td><td>0.849476</td><td>0.783937</td><td>10.427433</td><td>13.196091</td><td>1.094875</td></tr><tr><td>&quot;min&quot;</td><td>5.0</td><td>0.0</td><td>25.0</td><td>0.0</td><td>33.0</td><td>0.0</td><td>18.0</td><td>0.0</td><td>27.0</td><td>0.0</td><td>0.0</td><td>0.0</td><td>0.0</td><td>0.0</td><td>0.0</td><td>0.0</td><td>1.0</td><td>0.0</td><td>1.0</td><td>0.0</td><td>0.0</td><td>0.0</td><td>0.0</td><td>0.0</td><td>0.0</td><td>0.0</td><td>0.0</td><td>1.0</td><td>-7.78961</td><td>0.0482667</td><td>813.397</td><td>1073.45</td><td>1.78945</td><td>28.9004</td><td>7.86485</td><td>-194.163</td><td>-8745.08</td><td>1.0</td><td>14.489</td><td>4.63581</td><td>23.6201</td><td>4.65573</td><td>20.5892</td><td>0.66</td><td>0.58</td><td>17.0</td><td>38.0</td><td>0.0</td></tr><tr><td>&quot;25%&quot;</td><td>8.0</td><td>0.0</td><td>59.0</td><td>15.86931</td><td>50.0</td><td>57.2</td><td>23.0</td><td>61.0</td><td>72.0</td><td>107.0</td><td>4.0</td><td>6.0</td><td>13.0</td><td>3.0</td><td>0.0</td><td>15.1</td><td>1.0</td><td>16.2</td><td>2.0</td><td>0.0</td><td>0.0</td><td>7.0</td><td>0.0</td><td>7.0</td><td>0.0</td><td>7.0</td><td>1.0</td><td>2.0</td><td>2.96731</td><td>15.9139</td><td>1004.76</td><td>1605.93</td><td>11.1098</td><td>49.2833</td><td>13.4092</td><td>2.31244</td><td>8.60589</td><td>1.0</td><td>24.4636</td><td>12.99</td><td>45.2042</td><td>21.1424</td><td>35.8871</td><td>1.49</td><td>2.02</td><td>33.0</td><td>47.0</td><td>0.0</td></tr><tr><td>&quot;50%&quot;</td><td>10.0</td><td>0.0</td><td>65.0</td><td>17.938739</td><td>55.0</td><td>77.0</td><td>26.0</td><td>68.0</td><td>81.0</td><td>114.0</td><td>5.0</td><td>7.0</td><td>28.0</td><td>9.0</td><td>0.0</td><td>20.1</td><td>2.0</td><td>21.2</td><td>2.0</td><td>3.0</td><td>0.0</td><td>9.0</td><td>1.0</td><td>9.0</td><td>1.0</td><td>10.0</td><td>1.0</td><td>3.0</td><td>3.92272</td><td>17.9665</td><td>1115.38</td><td>1863.98</td><td>15.928</td><td>61.0662</td><td>14.0925</td><td>3.69863</td><td>16.1746</td><td>2.0</td><td>28.8558</td><td>16.4388</td><td>56.9964</td><td>27.4151</td><td>44.987</td><td>2.01</td><td>2.54</td><td>39.0</td><td>55.0</td><td>1.0</td></tr><tr><td>&quot;75%&quot;</td><td>13.0</td><td>1.0</td><td>75.0</td><td>21.575719</td><td>62.0</td><td>113.8</td><td>30.0</td><td>76.0</td><td>91.0</td><td>125.0</td><td>6.0</td><td>9.0</td><td>43.0</td><td>16.0</td><td>1.0</td><td>26.6</td><td>2.0</td><td>28.2</td><td>2.0</td><td>9.0</td><td>1.0</td><td>11.0</td><td>1.0</td><td>11.0</td><td>1.0</td><td>12.0</td><td>1.0</td><td>3.0</td><td>5.46123</td><td>21.4624</td><td>1310.75</td><td>2218.2</td><td>25.1855</td><td>81.8753</td><td>15.4332</td><td>5.98894</td><td>30.286</td><td>2.0</td><td>35.4838</td><td>22.182</td><td>77.1309</td><td>38.188</td><td>60.3215</td><td>2.78</td><td>3.16</td><td>46.0</td><td>64.0</td><td>2.0</td></tr><tr><td>&quot;max&quot;</td><td>22.0</td><td>1.0</td><td>999.0</td><td>59.132048</td><td>78.5</td><td>315.0</td><td>50.0</td><td>179.0</td><td>138.0</td><td>203.0</td><td>28.0</td><td>20.0</td><td>59.0</td><td>115.0</td><td>1.0</td><td>124.0</td><td>3.0</td><td>123.8</td><td>3.0</td><td>51.0</td><td>1.0</td><td>21.7</td><td>1.0</td><td>21.0</td><td>1.0</td><td>22.0</td><td>1.0</td><td>5.0</td><td>4115.36</td><td>53.9243</td><td>83152.2</td><td>124728.0</td><td>3233.0</td><td>8799.08</td><td>217.771</td><td>28.2515</td><td>153.82</td><td>3.0</td><td>2457.91</td><td>3108.17</td><td>4683.71</td><td>3607.69</td><td>5690.91</td><td>4.71</td><td>4.79</td><td>96.0</td><td>100.0</td><td>3.0</td></tr></tbody></table></div>"
      ],
      "text/plain": [
       "shape: (9, 49)\n",
       "┌───────────┬───────────┬───────────┬───────────┬───┬───────────┬───────────┬───────────┬──────────┐\n",
       "│ statistic ┆ Basic_Dem ┆ Basic_Dem ┆ CGAS-CGAS ┆ … ┆ PAQ_C-PAQ ┆ SDS-SDS_T ┆ SDS-SDS_T ┆ PreInt_E │\n",
       "│ ---       ┆ os-Age    ┆ os-Sex    ┆ _Score    ┆   ┆ _C_Total  ┆ otal_Raw  ┆ otal_T    ┆ duHx-com │\n",
       "│ str       ┆ ---       ┆ ---       ┆ ---       ┆   ┆ ---       ┆ ---       ┆ ---       ┆ puterint │\n",
       "│           ┆ f64       ┆ f64       ┆ f64       ┆   ┆ f64       ┆ f64       ┆ f64       ┆ ernet_…  │\n",
       "│           ┆           ┆           ┆           ┆   ┆           ┆           ┆           ┆ ---      │\n",
       "│           ┆           ┆           ┆           ┆   ┆           ┆           ┆           ┆ f64      │\n",
       "╞═══════════╪═══════════╪═══════════╪═══════════╪═══╪═══════════╪═══════════╪═══════════╪══════════╡\n",
       "│ count     ┆ 3960.0    ┆ 3960.0    ┆ 2421.0    ┆ … ┆ 1721.0    ┆ 2609.0    ┆ 2606.0    ┆ 3301.0   │\n",
       "│ null_coun ┆ 0.0       ┆ 0.0       ┆ 1539.0    ┆ … ┆ 2239.0    ┆ 1351.0    ┆ 1354.0    ┆ 659.0    │\n",
       "│ t         ┆           ┆           ┆           ┆   ┆           ┆           ┆           ┆          │\n",
       "│ mean      ┆ 10.433586 ┆ 0.372727  ┆ 65.454771 ┆ … ┆ 2.58955   ┆ 41.088923 ┆ 57.763622 ┆ 1.060588 │\n",
       "│ std       ┆ 3.574648  ┆ 0.483591  ┆ 22.341862 ┆ … ┆ 0.783937  ┆ 10.427433 ┆ 13.196091 ┆ 1.094875 │\n",
       "│ min       ┆ 5.0       ┆ 0.0       ┆ 25.0      ┆ … ┆ 0.58      ┆ 17.0      ┆ 38.0      ┆ 0.0      │\n",
       "│ 25%       ┆ 8.0       ┆ 0.0       ┆ 59.0      ┆ … ┆ 2.02      ┆ 33.0      ┆ 47.0      ┆ 0.0      │\n",
       "│ 50%       ┆ 10.0      ┆ 0.0       ┆ 65.0      ┆ … ┆ 2.54      ┆ 39.0      ┆ 55.0      ┆ 1.0      │\n",
       "│ 75%       ┆ 13.0      ┆ 1.0       ┆ 75.0      ┆ … ┆ 3.16      ┆ 46.0      ┆ 64.0      ┆ 2.0      │\n",
       "│ max       ┆ 22.0      ┆ 1.0       ┆ 999.0     ┆ … ┆ 4.79      ┆ 96.0      ┆ 100.0     ┆ 3.0      │\n",
       "└───────────┴───────────┴───────────┴───────────┴───┴───────────┴───────────┴───────────┴──────────┘"
      ]
     },
     "execution_count": 111,
     "metadata": {},
     "output_type": "execute_result"
    }
   ],
   "source": [
    "from polars import selectors as cs\n",
    "\n",
    "X_numeric = X.select(~cs.string())\n",
    "features_numeric = X_numeric.columns\n",
    "\n",
    "X_numeric.describe()"
   ]
  },
  {
   "cell_type": "code",
   "execution_count": 112,
   "id": "87be9ce0-6b7f-4711-b3ca-6fd58e71389d",
   "metadata": {},
   "outputs": [
    {
     "data": {
      "text/html": [
       "<div><style>\n",
       ".dataframe > thead > tr,\n",
       ".dataframe > tbody > tr {\n",
       "  text-align: right;\n",
       "  white-space: pre-wrap;\n",
       "}\n",
       "</style>\n",
       "<small>shape: (1, 49)</small><table border=\"1\" class=\"dataframe\"><thead><tr><th>statistic</th><th>Basic_Demos-Age</th><th>Basic_Demos-Sex</th><th>CGAS-CGAS_Score</th><th>Physical-BMI</th><th>Physical-Height</th><th>Physical-Weight</th><th>Physical-Waist_Circumference</th><th>Physical-Diastolic_BP</th><th>Physical-HeartRate</th><th>Physical-Systolic_BP</th><th>Fitness_Endurance-Max_Stage</th><th>Fitness_Endurance-Time_Mins</th><th>Fitness_Endurance-Time_Sec</th><th>FGC-FGC_CU</th><th>FGC-FGC_CU_Zone</th><th>FGC-FGC_GSND</th><th>FGC-FGC_GSND_Zone</th><th>FGC-FGC_GSD</th><th>FGC-FGC_GSD_Zone</th><th>FGC-FGC_PU</th><th>FGC-FGC_PU_Zone</th><th>FGC-FGC_SRL</th><th>FGC-FGC_SRL_Zone</th><th>FGC-FGC_SRR</th><th>FGC-FGC_SRR_Zone</th><th>FGC-FGC_TL</th><th>FGC-FGC_TL_Zone</th><th>BIA-BIA_Activity_Level_num</th><th>BIA-BIA_BMC</th><th>BIA-BIA_BMI</th><th>BIA-BIA_BMR</th><th>BIA-BIA_DEE</th><th>BIA-BIA_ECW</th><th>BIA-BIA_FFM</th><th>BIA-BIA_FFMI</th><th>BIA-BIA_FMI</th><th>BIA-BIA_Fat</th><th>BIA-BIA_Frame_num</th><th>BIA-BIA_ICW</th><th>BIA-BIA_LDM</th><th>BIA-BIA_LST</th><th>BIA-BIA_SMM</th><th>BIA-BIA_TBW</th><th>PAQ_A-PAQ_A_Total</th><th>PAQ_C-PAQ_C_Total</th><th>SDS-SDS_Total_Raw</th><th>SDS-SDS_Total_T</th><th>PreInt_EduHx-computerinternet_hoursday</th></tr><tr><td>str</td><td>f64</td><td>f64</td><td>f64</td><td>f64</td><td>f64</td><td>f64</td><td>f64</td><td>f64</td><td>f64</td><td>f64</td><td>f64</td><td>f64</td><td>f64</td><td>f64</td><td>f64</td><td>f64</td><td>f64</td><td>f64</td><td>f64</td><td>f64</td><td>f64</td><td>f64</td><td>f64</td><td>f64</td><td>f64</td><td>f64</td><td>f64</td><td>f64</td><td>f64</td><td>f64</td><td>f64</td><td>f64</td><td>f64</td><td>f64</td><td>f64</td><td>f64</td><td>f64</td><td>f64</td><td>f64</td><td>f64</td><td>f64</td><td>f64</td><td>f64</td><td>f64</td><td>f64</td><td>f64</td><td>f64</td><td>f64</td></tr></thead><tbody><tr><td>&quot;null_percentage&quot;</td><td>0.0</td><td>0.0</td><td>38.86</td><td>23.69</td><td>23.56</td><td>22.32</td><td>77.32</td><td>25.4</td><td>25.08</td><td>25.4</td><td>81.24</td><td>81.31</td><td>81.31</td><td>41.36</td><td>42.37</td><td>72.88</td><td>73.18</td><td>72.88</td><td>73.16</td><td>41.67</td><td>42.65</td><td>41.79</td><td>42.75</td><td>41.74</td><td>42.7</td><td>41.31</td><td>42.3</td><td>49.72</td><td>49.72</td><td>49.72</td><td>49.72</td><td>49.72</td><td>49.72</td><td>49.72</td><td>49.72</td><td>49.72</td><td>49.72</td><td>49.72</td><td>49.72</td><td>49.72</td><td>49.72</td><td>49.72</td><td>49.72</td><td>88.01</td><td>56.54</td><td>34.12</td><td>34.19</td><td>16.64</td></tr></tbody></table></div>"
      ],
      "text/plain": [
       "shape: (1, 49)\n",
       "┌───────────┬───────────┬───────────┬───────────┬───┬───────────┬───────────┬───────────┬──────────┐\n",
       "│ statistic ┆ Basic_Dem ┆ Basic_Dem ┆ CGAS-CGAS ┆ … ┆ PAQ_C-PAQ ┆ SDS-SDS_T ┆ SDS-SDS_T ┆ PreInt_E │\n",
       "│ ---       ┆ os-Age    ┆ os-Sex    ┆ _Score    ┆   ┆ _C_Total  ┆ otal_Raw  ┆ otal_T    ┆ duHx-com │\n",
       "│ str       ┆ ---       ┆ ---       ┆ ---       ┆   ┆ ---       ┆ ---       ┆ ---       ┆ puterint │\n",
       "│           ┆ f64       ┆ f64       ┆ f64       ┆   ┆ f64       ┆ f64       ┆ f64       ┆ ernet_…  │\n",
       "│           ┆           ┆           ┆           ┆   ┆           ┆           ┆           ┆ ---      │\n",
       "│           ┆           ┆           ┆           ┆   ┆           ┆           ┆           ┆ f64      │\n",
       "╞═══════════╪═══════════╪═══════════╪═══════════╪═══╪═══════════╪═══════════╪═══════════╪══════════╡\n",
       "│ null_perc ┆ 0.0       ┆ 0.0       ┆ 38.86     ┆ … ┆ 56.54     ┆ 34.12     ┆ 34.19     ┆ 16.64    │\n",
       "│ entage    ┆           ┆           ┆           ┆   ┆           ┆           ┆           ┆          │\n",
       "└───────────┴───────────┴───────────┴───────────┴───┴───────────┴───────────┴───────────┴──────────┘"
      ]
     },
     "execution_count": 112,
     "metadata": {},
     "output_type": "execute_result"
    }
   ],
   "source": [
    "_, *not_null = X_numeric.describe().row(by_predicate=(pl.col(\"statistic\") == \"count\"))\n",
    "_, *null = X_numeric.describe().row(by_predicate=(pl.col(\"statistic\") == \"null_count\"))\n",
    "\n",
    "null_percentage = ['null_percentage', *((100 * np.array(null) / (np.array(null) + np.array(not_null))).round(decimals=2))]\n",
    "null_percentage_X_numeric = pl.DataFrame({key: value for key, value in zip(X_numeric.describe().columns, null_percentage)})\n",
    "\n",
    "null_percentage_X_numeric"
   ]
  },
  {
   "cell_type": "markdown",
   "id": "a407bd78-ab22-42b0-8ffb-86fcdfc0baff",
   "metadata": {},
   "source": [
    "Let's check the null percentage across the labeled data:"
   ]
  },
  {
   "cell_type": "code",
   "execution_count": 113,
   "id": "b9f3d506-9553-4e39-b688-43a8e9c1001e",
   "metadata": {},
   "outputs": [],
   "source": [
    "data_numeric = pl.concat([X_numeric, y], how='horizontal')\n",
    "data_numeric_labeled = data_numeric.lazy().filter(pl.col(label).is_not_null()).collect()\n",
    "\n",
    "X_numeric_labeled = data_numeric_labeled[features_numeric]\n",
    "y_labeled = data_numeric_labeled[label]"
   ]
  },
  {
   "cell_type": "code",
   "execution_count": 114,
   "id": "3970059d-1fb0-41e5-8462-0e3b08495b8b",
   "metadata": {},
   "outputs": [
    {
     "data": {
      "text/html": [
       "<div><style>\n",
       ".dataframe > thead > tr,\n",
       ".dataframe > tbody > tr {\n",
       "  text-align: right;\n",
       "  white-space: pre-wrap;\n",
       "}\n",
       "</style>\n",
       "<small>shape: (9, 49)</small><table border=\"1\" class=\"dataframe\"><thead><tr><th>statistic</th><th>Basic_Demos-Age</th><th>Basic_Demos-Sex</th><th>CGAS-CGAS_Score</th><th>Physical-BMI</th><th>Physical-Height</th><th>Physical-Weight</th><th>Physical-Waist_Circumference</th><th>Physical-Diastolic_BP</th><th>Physical-HeartRate</th><th>Physical-Systolic_BP</th><th>Fitness_Endurance-Max_Stage</th><th>Fitness_Endurance-Time_Mins</th><th>Fitness_Endurance-Time_Sec</th><th>FGC-FGC_CU</th><th>FGC-FGC_CU_Zone</th><th>FGC-FGC_GSND</th><th>FGC-FGC_GSND_Zone</th><th>FGC-FGC_GSD</th><th>FGC-FGC_GSD_Zone</th><th>FGC-FGC_PU</th><th>FGC-FGC_PU_Zone</th><th>FGC-FGC_SRL</th><th>FGC-FGC_SRL_Zone</th><th>FGC-FGC_SRR</th><th>FGC-FGC_SRR_Zone</th><th>FGC-FGC_TL</th><th>FGC-FGC_TL_Zone</th><th>BIA-BIA_Activity_Level_num</th><th>BIA-BIA_BMC</th><th>BIA-BIA_BMI</th><th>BIA-BIA_BMR</th><th>BIA-BIA_DEE</th><th>BIA-BIA_ECW</th><th>BIA-BIA_FFM</th><th>BIA-BIA_FFMI</th><th>BIA-BIA_FMI</th><th>BIA-BIA_Fat</th><th>BIA-BIA_Frame_num</th><th>BIA-BIA_ICW</th><th>BIA-BIA_LDM</th><th>BIA-BIA_LST</th><th>BIA-BIA_SMM</th><th>BIA-BIA_TBW</th><th>PAQ_A-PAQ_A_Total</th><th>PAQ_C-PAQ_C_Total</th><th>SDS-SDS_Total_Raw</th><th>SDS-SDS_Total_T</th><th>PreInt_EduHx-computerinternet_hoursday</th></tr><tr><td>str</td><td>f64</td><td>f64</td><td>f64</td><td>f64</td><td>f64</td><td>f64</td><td>f64</td><td>f64</td><td>f64</td><td>f64</td><td>f64</td><td>f64</td><td>f64</td><td>f64</td><td>f64</td><td>f64</td><td>f64</td><td>f64</td><td>f64</td><td>f64</td><td>f64</td><td>f64</td><td>f64</td><td>f64</td><td>f64</td><td>f64</td><td>f64</td><td>f64</td><td>f64</td><td>f64</td><td>f64</td><td>f64</td><td>f64</td><td>f64</td><td>f64</td><td>f64</td><td>f64</td><td>f64</td><td>f64</td><td>f64</td><td>f64</td><td>f64</td><td>f64</td><td>f64</td><td>f64</td><td>f64</td><td>f64</td><td>f64</td></tr></thead><tbody><tr><td>&quot;count&quot;</td><td>2736.0</td><td>2736.0</td><td>2342.0</td><td>2527.0</td><td>2530.0</td><td>2572.0</td><td>483.0</td><td>2478.0</td><td>2486.0</td><td>2478.0</td><td>731.0</td><td>728.0</td><td>728.0</td><td>1919.0</td><td>1884.0</td><td>872.0</td><td>864.0</td><td>871.0</td><td>864.0</td><td>1909.0</td><td>1875.0</td><td>1911.0</td><td>1877.0</td><td>1913.0</td><td>1879.0</td><td>1919.0</td><td>1885.0</td><td>1813.0</td><td>1813.0</td><td>1813.0</td><td>1813.0</td><td>1813.0</td><td>1813.0</td><td>1813.0</td><td>1813.0</td><td>1813.0</td><td>1813.0</td><td>1813.0</td><td>1813.0</td><td>1813.0</td><td>1813.0</td><td>1813.0</td><td>1813.0</td><td>363.0</td><td>1440.0</td><td>2527.0</td><td>2525.0</td><td>2654.0</td></tr><tr><td>&quot;null_count&quot;</td><td>0.0</td><td>0.0</td><td>394.0</td><td>209.0</td><td>206.0</td><td>164.0</td><td>2253.0</td><td>258.0</td><td>250.0</td><td>258.0</td><td>2005.0</td><td>2008.0</td><td>2008.0</td><td>817.0</td><td>852.0</td><td>1864.0</td><td>1872.0</td><td>1865.0</td><td>1872.0</td><td>827.0</td><td>861.0</td><td>825.0</td><td>859.0</td><td>823.0</td><td>857.0</td><td>817.0</td><td>851.0</td><td>923.0</td><td>923.0</td><td>923.0</td><td>923.0</td><td>923.0</td><td>923.0</td><td>923.0</td><td>923.0</td><td>923.0</td><td>923.0</td><td>923.0</td><td>923.0</td><td>923.0</td><td>923.0</td><td>923.0</td><td>923.0</td><td>2373.0</td><td>1296.0</td><td>209.0</td><td>211.0</td><td>82.0</td></tr><tr><td>&quot;mean&quot;</td><td>10.23867</td><td>0.364401</td><td>65.159266</td><td>19.125667</td><td>55.897051</td><td>87.839592</td><td>26.625259</td><td>69.755044</td><td>81.823411</td><td>117.127926</td><td>5.001368</td><td>7.394231</td><td>27.656593</td><td>11.912976</td><td>0.524947</td><td>22.07797</td><td>1.820602</td><td>23.083639</td><td>1.887731</td><td>5.782609</td><td>0.3472</td><td>8.767975</td><td>0.636654</td><td>8.877888</td><td>0.63438</td><td>9.119567</td><td>0.772944</td><td>2.671263</td><td>6.954484</td><td>19.232347</td><td>1236.604226</td><td>2069.411478</td><td>20.781963</td><td>73.977613</td><td>14.992021</td><td>4.240327</td><td>15.827994</td><td>1.733591</td><td>33.134537</td><td>20.061121</td><td>67.02313</td><td>34.372294</td><td>53.9165</td><td>2.185758</td><td>2.590608</td><td>40.977839</td><td>57.647525</td><td>1.015072</td></tr><tr><td>&quot;std&quot;</td><td>3.427982</td><td>0.48135</td><td>11.81105</td><td>4.909305</td><td>7.394938</td><td>43.353079</td><td>5.230213</td><td>13.790203</td><td>13.769816</td><td>17.221707</td><td>2.016711</td><td>3.180463</td><td>17.75642</td><td>11.979877</td><td>0.49951</td><td>10.484763</td><td>0.613854</td><td>10.517376</td><td>0.616601</td><td>7.441061</td><td>0.476207</td><td>3.289944</td><td>0.481091</td><td>3.320215</td><td>0.481732</td><td>2.954478</td><td>0.41904</td><td>1.030997</td><td>97.022087</td><td>4.9219</td><td>1960.147933</td><td>2966.4538</td><td>76.697505</td><td>208.781862</td><td>6.012465</td><td>6.538342</td><td>208.771419</td><td>0.671201</td><td>58.852697</td><td>73.538391</td><td>113.554916</td><td>87.917006</td><td>135.377293</td><td>0.815263</td><td>0.78661</td><td>10.231384</td><td>13.042815</td><td>1.080861</td></tr><tr><td>&quot;min&quot;</td><td>5.0</td><td>0.0</td><td>25.0</td><td>0.0</td><td>36.0</td><td>0.0</td><td>19.0</td><td>11.0</td><td>27.0</td><td>49.0</td><td>0.0</td><td>0.0</td><td>0.0</td><td>0.0</td><td>0.0</td><td>0.0</td><td>1.0</td><td>0.0</td><td>1.0</td><td>0.0</td><td>0.0</td><td>0.0</td><td>0.0</td><td>0.0</td><td>0.0</td><td>0.0</td><td>0.0</td><td>1.0</td><td>-7.78961</td><td>0.0482667</td><td>813.397</td><td>1073.45</td><td>1.78945</td><td>28.9004</td><td>7.86485</td><td>-194.163</td><td>-8745.08</td><td>1.0</td><td>17.845</td><td>4.63581</td><td>23.6201</td><td>11.3825</td><td>20.5892</td><td>0.66</td><td>0.58</td><td>17.0</td><td>38.0</td><td>0.0</td></tr><tr><td>&quot;25%&quot;</td><td>8.0</td><td>0.0</td><td>59.0</td><td>15.780022</td><td>50.0</td><td>57.2</td><td>23.0</td><td>61.0</td><td>73.0</td><td>107.0</td><td>4.0</td><td>6.0</td><td>13.0</td><td>4.0</td><td>0.0</td><td>15.1</td><td>1.0</td><td>16.1</td><td>1.0</td><td>0.0</td><td>0.0</td><td>7.0</td><td>0.0</td><td>7.0</td><td>0.0</td><td>7.0</td><td>1.0</td><td>2.0</td><td>2.9768</td><td>15.8576</td><td>1004.24</td><td>1606.28</td><td>11.0634</td><td>49.228</td><td>13.381</td><td>2.27349</td><td>8.42555</td><td>1.0</td><td>24.4088</td><td>12.9227</td><td>45.058</td><td>21.1244</td><td>35.7709</td><td>1.52</td><td>2.02</td><td>33.0</td><td>47.0</td><td>0.0</td></tr><tr><td>&quot;50%&quot;</td><td>10.0</td><td>0.0</td><td>65.0</td><td>17.81901</td><td>55.0</td><td>75.8</td><td>26.0</td><td>68.0</td><td>81.0</td><td>114.0</td><td>5.0</td><td>7.0</td><td>28.0</td><td>10.0</td><td>1.0</td><td>19.4</td><td>2.0</td><td>20.8</td><td>2.0</td><td>3.0</td><td>0.0</td><td>9.0</td><td>1.0</td><td>9.0</td><td>1.0</td><td>9.0</td><td>1.0</td><td>3.0</td><td>3.93749</td><td>17.8506</td><td>1113.04</td><td>1862.15</td><td>15.7303</td><td>60.8162</td><td>14.0629</td><td>3.63948</td><td>15.7727</td><td>2.0</td><td>28.7659</td><td>16.2828</td><td>56.4291</td><td>27.1935</td><td>44.7213</td><td>2.08</td><td>2.55</td><td>39.0</td><td>55.0</td><td>1.0</td></tr><tr><td>&quot;75%&quot;</td><td>12.0</td><td>1.0</td><td>75.0</td><td>21.173921</td><td>61.75</td><td>111.4</td><td>29.0</td><td>76.0</td><td>91.0</td><td>125.0</td><td>6.0</td><td>9.0</td><td>43.0</td><td>16.0</td><td>1.0</td><td>26.3</td><td>2.0</td><td>27.9</td><td>2.0</td><td>9.0</td><td>1.0</td><td>11.0</td><td>1.0</td><td>11.0</td><td>1.0</td><td>12.0</td><td>1.0</td><td>3.0</td><td>5.4625</td><td>21.206</td><td>1301.67</td><td>2213.17</td><td>24.6064</td><td>80.908</td><td>15.3716</td><td>5.88148</td><td>29.6452</td><td>2.0</td><td>35.1297</td><td>21.8522</td><td>75.8113</td><td>37.5047</td><td>59.6193</td><td>2.78</td><td>3.16</td><td>46.0</td><td>64.0</td><td>2.0</td></tr><tr><td>&quot;max&quot;</td><td>22.0</td><td>1.0</td><td>95.0</td><td>46.102914</td><td>78.5</td><td>315.0</td><td>50.0</td><td>179.0</td><td>138.0</td><td>203.0</td><td>28.0</td><td>20.0</td><td>59.0</td><td>115.0</td><td>1.0</td><td>124.0</td><td>3.0</td><td>123.8</td><td>3.0</td><td>51.0</td><td>1.0</td><td>21.7</td><td>1.0</td><td>21.0</td><td>1.0</td><td>21.0</td><td>1.0</td><td>5.0</td><td>4115.36</td><td>48.3754</td><td>83152.2</td><td>124728.0</td><td>3233.0</td><td>8799.08</td><td>217.771</td><td>28.2515</td><td>129.226</td><td>3.0</td><td>2457.91</td><td>3108.17</td><td>4683.71</td><td>3607.69</td><td>5690.91</td><td>4.54</td><td>4.79</td><td>96.0</td><td>100.0</td><td>3.0</td></tr></tbody></table></div>"
      ],
      "text/plain": [
       "shape: (9, 49)\n",
       "┌───────────┬───────────┬───────────┬───────────┬───┬───────────┬───────────┬───────────┬──────────┐\n",
       "│ statistic ┆ Basic_Dem ┆ Basic_Dem ┆ CGAS-CGAS ┆ … ┆ PAQ_C-PAQ ┆ SDS-SDS_T ┆ SDS-SDS_T ┆ PreInt_E │\n",
       "│ ---       ┆ os-Age    ┆ os-Sex    ┆ _Score    ┆   ┆ _C_Total  ┆ otal_Raw  ┆ otal_T    ┆ duHx-com │\n",
       "│ str       ┆ ---       ┆ ---       ┆ ---       ┆   ┆ ---       ┆ ---       ┆ ---       ┆ puterint │\n",
       "│           ┆ f64       ┆ f64       ┆ f64       ┆   ┆ f64       ┆ f64       ┆ f64       ┆ ernet_…  │\n",
       "│           ┆           ┆           ┆           ┆   ┆           ┆           ┆           ┆ ---      │\n",
       "│           ┆           ┆           ┆           ┆   ┆           ┆           ┆           ┆ f64      │\n",
       "╞═══════════╪═══════════╪═══════════╪═══════════╪═══╪═══════════╪═══════════╪═══════════╪══════════╡\n",
       "│ count     ┆ 2736.0    ┆ 2736.0    ┆ 2342.0    ┆ … ┆ 1440.0    ┆ 2527.0    ┆ 2525.0    ┆ 2654.0   │\n",
       "│ null_coun ┆ 0.0       ┆ 0.0       ┆ 394.0     ┆ … ┆ 1296.0    ┆ 209.0     ┆ 211.0     ┆ 82.0     │\n",
       "│ t         ┆           ┆           ┆           ┆   ┆           ┆           ┆           ┆          │\n",
       "│ mean      ┆ 10.23867  ┆ 0.364401  ┆ 65.159266 ┆ … ┆ 2.590608  ┆ 40.977839 ┆ 57.647525 ┆ 1.015072 │\n",
       "│ std       ┆ 3.427982  ┆ 0.48135   ┆ 11.81105  ┆ … ┆ 0.78661   ┆ 10.231384 ┆ 13.042815 ┆ 1.080861 │\n",
       "│ min       ┆ 5.0       ┆ 0.0       ┆ 25.0      ┆ … ┆ 0.58      ┆ 17.0      ┆ 38.0      ┆ 0.0      │\n",
       "│ 25%       ┆ 8.0       ┆ 0.0       ┆ 59.0      ┆ … ┆ 2.02      ┆ 33.0      ┆ 47.0      ┆ 0.0      │\n",
       "│ 50%       ┆ 10.0      ┆ 0.0       ┆ 65.0      ┆ … ┆ 2.55      ┆ 39.0      ┆ 55.0      ┆ 1.0      │\n",
       "│ 75%       ┆ 12.0      ┆ 1.0       ┆ 75.0      ┆ … ┆ 3.16      ┆ 46.0      ┆ 64.0      ┆ 2.0      │\n",
       "│ max       ┆ 22.0      ┆ 1.0       ┆ 95.0      ┆ … ┆ 4.79      ┆ 96.0      ┆ 100.0     ┆ 3.0      │\n",
       "└───────────┴───────────┴───────────┴───────────┴───┴───────────┴───────────┴───────────┴──────────┘"
      ]
     },
     "execution_count": 114,
     "metadata": {},
     "output_type": "execute_result"
    }
   ],
   "source": [
    "X_numeric_labeled.describe()"
   ]
  },
  {
   "cell_type": "code",
   "execution_count": 115,
   "id": "94a0a5c7-a806-45e7-bb89-accde6350a4c",
   "metadata": {},
   "outputs": [],
   "source": [
    "_, *not_null = X_numeric_labeled.describe().row(by_predicate=(pl.col(\"statistic\") == \"count\"))\n",
    "_, *null = X_numeric_labeled.describe().row(by_predicate=(pl.col(\"statistic\") == \"null_count\"))\n",
    "\n",
    "null_percentage = ['null_percentage', *((100 * np.array(null) / (np.array(null) + np.array(not_null))).round(decimals=2))]\n",
    "null_percentage_X_numeric_labeled = pl.DataFrame({key: value for key, value in zip(X_numeric.describe().columns, null_percentage)})"
   ]
  },
  {
   "cell_type": "code",
   "execution_count": 116,
   "id": "d2a86f6f-f20b-4bba-b68c-b03e4e66e657",
   "metadata": {},
   "outputs": [
    {
     "data": {
      "text/html": [
       "<div><style>\n",
       ".dataframe > thead > tr,\n",
       ".dataframe > tbody > tr {\n",
       "  text-align: right;\n",
       "  white-space: pre-wrap;\n",
       "}\n",
       "</style>\n",
       "<small>shape: (1, 49)</small><table border=\"1\" class=\"dataframe\"><thead><tr><th>statistic</th><th>Basic_Demos-Age</th><th>Basic_Demos-Sex</th><th>CGAS-CGAS_Score</th><th>Physical-BMI</th><th>Physical-Height</th><th>Physical-Weight</th><th>Physical-Waist_Circumference</th><th>Physical-Diastolic_BP</th><th>Physical-HeartRate</th><th>Physical-Systolic_BP</th><th>Fitness_Endurance-Max_Stage</th><th>Fitness_Endurance-Time_Mins</th><th>Fitness_Endurance-Time_Sec</th><th>FGC-FGC_CU</th><th>FGC-FGC_CU_Zone</th><th>FGC-FGC_GSND</th><th>FGC-FGC_GSND_Zone</th><th>FGC-FGC_GSD</th><th>FGC-FGC_GSD_Zone</th><th>FGC-FGC_PU</th><th>FGC-FGC_PU_Zone</th><th>FGC-FGC_SRL</th><th>FGC-FGC_SRL_Zone</th><th>FGC-FGC_SRR</th><th>FGC-FGC_SRR_Zone</th><th>FGC-FGC_TL</th><th>FGC-FGC_TL_Zone</th><th>BIA-BIA_Activity_Level_num</th><th>BIA-BIA_BMC</th><th>BIA-BIA_BMI</th><th>BIA-BIA_BMR</th><th>BIA-BIA_DEE</th><th>BIA-BIA_ECW</th><th>BIA-BIA_FFM</th><th>BIA-BIA_FFMI</th><th>BIA-BIA_FMI</th><th>BIA-BIA_Fat</th><th>BIA-BIA_Frame_num</th><th>BIA-BIA_ICW</th><th>BIA-BIA_LDM</th><th>BIA-BIA_LST</th><th>BIA-BIA_SMM</th><th>BIA-BIA_TBW</th><th>PAQ_A-PAQ_A_Total</th><th>PAQ_C-PAQ_C_Total</th><th>SDS-SDS_Total_Raw</th><th>SDS-SDS_Total_T</th><th>PreInt_EduHx-computerinternet_hoursday</th></tr><tr><td>str</td><td>f64</td><td>f64</td><td>f64</td><td>f64</td><td>f64</td><td>f64</td><td>f64</td><td>f64</td><td>f64</td><td>f64</td><td>f64</td><td>f64</td><td>f64</td><td>f64</td><td>f64</td><td>f64</td><td>f64</td><td>f64</td><td>f64</td><td>f64</td><td>f64</td><td>f64</td><td>f64</td><td>f64</td><td>f64</td><td>f64</td><td>f64</td><td>f64</td><td>f64</td><td>f64</td><td>f64</td><td>f64</td><td>f64</td><td>f64</td><td>f64</td><td>f64</td><td>f64</td><td>f64</td><td>f64</td><td>f64</td><td>f64</td><td>f64</td><td>f64</td><td>f64</td><td>f64</td><td>f64</td><td>f64</td><td>f64</td></tr></thead><tbody><tr><td>&quot;null_percentage&quot;</td><td>0.0</td><td>0.0</td><td>38.86</td><td>23.69</td><td>23.56</td><td>22.32</td><td>77.32</td><td>25.4</td><td>25.08</td><td>25.4</td><td>81.24</td><td>81.31</td><td>81.31</td><td>41.36</td><td>42.37</td><td>72.88</td><td>73.18</td><td>72.88</td><td>73.16</td><td>41.67</td><td>42.65</td><td>41.79</td><td>42.75</td><td>41.74</td><td>42.7</td><td>41.31</td><td>42.3</td><td>49.72</td><td>49.72</td><td>49.72</td><td>49.72</td><td>49.72</td><td>49.72</td><td>49.72</td><td>49.72</td><td>49.72</td><td>49.72</td><td>49.72</td><td>49.72</td><td>49.72</td><td>49.72</td><td>49.72</td><td>49.72</td><td>88.01</td><td>56.54</td><td>34.12</td><td>34.19</td><td>16.64</td></tr></tbody></table></div>"
      ],
      "text/plain": [
       "shape: (1, 49)\n",
       "┌───────────┬───────────┬───────────┬───────────┬───┬───────────┬───────────┬───────────┬──────────┐\n",
       "│ statistic ┆ Basic_Dem ┆ Basic_Dem ┆ CGAS-CGAS ┆ … ┆ PAQ_C-PAQ ┆ SDS-SDS_T ┆ SDS-SDS_T ┆ PreInt_E │\n",
       "│ ---       ┆ os-Age    ┆ os-Sex    ┆ _Score    ┆   ┆ _C_Total  ┆ otal_Raw  ┆ otal_T    ┆ duHx-com │\n",
       "│ str       ┆ ---       ┆ ---       ┆ ---       ┆   ┆ ---       ┆ ---       ┆ ---       ┆ puterint │\n",
       "│           ┆ f64       ┆ f64       ┆ f64       ┆   ┆ f64       ┆ f64       ┆ f64       ┆ ernet_…  │\n",
       "│           ┆           ┆           ┆           ┆   ┆           ┆           ┆           ┆ ---      │\n",
       "│           ┆           ┆           ┆           ┆   ┆           ┆           ┆           ┆ f64      │\n",
       "╞═══════════╪═══════════╪═══════════╪═══════════╪═══╪═══════════╪═══════════╪═══════════╪══════════╡\n",
       "│ null_perc ┆ 0.0       ┆ 0.0       ┆ 38.86     ┆ … ┆ 56.54     ┆ 34.12     ┆ 34.19     ┆ 16.64    │\n",
       "│ entage    ┆           ┆           ┆           ┆   ┆           ┆           ┆           ┆          │\n",
       "└───────────┴───────────┴───────────┴───────────┴───┴───────────┴───────────┴───────────┴──────────┘"
      ]
     },
     "execution_count": 116,
     "metadata": {},
     "output_type": "execute_result"
    }
   ],
   "source": [
    "null_percentage_X_numeric"
   ]
  },
  {
   "cell_type": "code",
   "execution_count": 117,
   "id": "8326e166-3b34-4e9a-a1d6-f42c1622d695",
   "metadata": {},
   "outputs": [
    {
     "data": {
      "text/html": [
       "<div><style>\n",
       ".dataframe > thead > tr,\n",
       ".dataframe > tbody > tr {\n",
       "  text-align: right;\n",
       "  white-space: pre-wrap;\n",
       "}\n",
       "</style>\n",
       "<small>shape: (1, 49)</small><table border=\"1\" class=\"dataframe\"><thead><tr><th>statistic</th><th>Basic_Demos-Age</th><th>Basic_Demos-Sex</th><th>CGAS-CGAS_Score</th><th>Physical-BMI</th><th>Physical-Height</th><th>Physical-Weight</th><th>Physical-Waist_Circumference</th><th>Physical-Diastolic_BP</th><th>Physical-HeartRate</th><th>Physical-Systolic_BP</th><th>Fitness_Endurance-Max_Stage</th><th>Fitness_Endurance-Time_Mins</th><th>Fitness_Endurance-Time_Sec</th><th>FGC-FGC_CU</th><th>FGC-FGC_CU_Zone</th><th>FGC-FGC_GSND</th><th>FGC-FGC_GSND_Zone</th><th>FGC-FGC_GSD</th><th>FGC-FGC_GSD_Zone</th><th>FGC-FGC_PU</th><th>FGC-FGC_PU_Zone</th><th>FGC-FGC_SRL</th><th>FGC-FGC_SRL_Zone</th><th>FGC-FGC_SRR</th><th>FGC-FGC_SRR_Zone</th><th>FGC-FGC_TL</th><th>FGC-FGC_TL_Zone</th><th>BIA-BIA_Activity_Level_num</th><th>BIA-BIA_BMC</th><th>BIA-BIA_BMI</th><th>BIA-BIA_BMR</th><th>BIA-BIA_DEE</th><th>BIA-BIA_ECW</th><th>BIA-BIA_FFM</th><th>BIA-BIA_FFMI</th><th>BIA-BIA_FMI</th><th>BIA-BIA_Fat</th><th>BIA-BIA_Frame_num</th><th>BIA-BIA_ICW</th><th>BIA-BIA_LDM</th><th>BIA-BIA_LST</th><th>BIA-BIA_SMM</th><th>BIA-BIA_TBW</th><th>PAQ_A-PAQ_A_Total</th><th>PAQ_C-PAQ_C_Total</th><th>SDS-SDS_Total_Raw</th><th>SDS-SDS_Total_T</th><th>PreInt_EduHx-computerinternet_hoursday</th></tr><tr><td>str</td><td>f64</td><td>f64</td><td>f64</td><td>f64</td><td>f64</td><td>f64</td><td>f64</td><td>f64</td><td>f64</td><td>f64</td><td>f64</td><td>f64</td><td>f64</td><td>f64</td><td>f64</td><td>f64</td><td>f64</td><td>f64</td><td>f64</td><td>f64</td><td>f64</td><td>f64</td><td>f64</td><td>f64</td><td>f64</td><td>f64</td><td>f64</td><td>f64</td><td>f64</td><td>f64</td><td>f64</td><td>f64</td><td>f64</td><td>f64</td><td>f64</td><td>f64</td><td>f64</td><td>f64</td><td>f64</td><td>f64</td><td>f64</td><td>f64</td><td>f64</td><td>f64</td><td>f64</td><td>f64</td><td>f64</td><td>f64</td></tr></thead><tbody><tr><td>&quot;null_percentage&quot;</td><td>0.0</td><td>0.0</td><td>14.4</td><td>7.64</td><td>7.53</td><td>5.99</td><td>82.35</td><td>9.43</td><td>9.14</td><td>9.43</td><td>73.28</td><td>73.39</td><td>73.39</td><td>29.86</td><td>31.14</td><td>68.13</td><td>68.42</td><td>68.17</td><td>68.42</td><td>30.23</td><td>31.47</td><td>30.15</td><td>31.4</td><td>30.08</td><td>31.32</td><td>29.86</td><td>31.1</td><td>33.74</td><td>33.74</td><td>33.74</td><td>33.74</td><td>33.74</td><td>33.74</td><td>33.74</td><td>33.74</td><td>33.74</td><td>33.74</td><td>33.74</td><td>33.74</td><td>33.74</td><td>33.74</td><td>33.74</td><td>33.74</td><td>86.73</td><td>47.37</td><td>7.64</td><td>7.71</td><td>3.0</td></tr></tbody></table></div>"
      ],
      "text/plain": [
       "shape: (1, 49)\n",
       "┌───────────┬───────────┬───────────┬───────────┬───┬───────────┬───────────┬───────────┬──────────┐\n",
       "│ statistic ┆ Basic_Dem ┆ Basic_Dem ┆ CGAS-CGAS ┆ … ┆ PAQ_C-PAQ ┆ SDS-SDS_T ┆ SDS-SDS_T ┆ PreInt_E │\n",
       "│ ---       ┆ os-Age    ┆ os-Sex    ┆ _Score    ┆   ┆ _C_Total  ┆ otal_Raw  ┆ otal_T    ┆ duHx-com │\n",
       "│ str       ┆ ---       ┆ ---       ┆ ---       ┆   ┆ ---       ┆ ---       ┆ ---       ┆ puterint │\n",
       "│           ┆ f64       ┆ f64       ┆ f64       ┆   ┆ f64       ┆ f64       ┆ f64       ┆ ernet_…  │\n",
       "│           ┆           ┆           ┆           ┆   ┆           ┆           ┆           ┆ ---      │\n",
       "│           ┆           ┆           ┆           ┆   ┆           ┆           ┆           ┆ f64      │\n",
       "╞═══════════╪═══════════╪═══════════╪═══════════╪═══╪═══════════╪═══════════╪═══════════╪══════════╡\n",
       "│ null_perc ┆ 0.0       ┆ 0.0       ┆ 14.4      ┆ … ┆ 47.37     ┆ 7.64      ┆ 7.71      ┆ 3.0      │\n",
       "│ entage    ┆           ┆           ┆           ┆   ┆           ┆           ┆           ┆          │\n",
       "└───────────┴───────────┴───────────┴───────────┴───┴───────────┴───────────┴───────────┴──────────┘"
      ]
     },
     "execution_count": 117,
     "metadata": {},
     "output_type": "execute_result"
    }
   ],
   "source": [
    "null_percentage_X_numeric_labeled"
   ]
  },
  {
   "cell_type": "markdown",
   "id": "86baaf46-75c9-4262-82ea-08edd16ec5b6",
   "metadata": {},
   "source": [
    "### Checking if we can reconstruct some labels from partial pre-labels"
   ]
  },
  {
   "cell_type": "code",
   "execution_count": 136,
   "id": "6d244ac7-e2f3-4526-bc8a-75cc97fc7900",
   "metadata": {},
   "outputs": [],
   "source": [
    "train_all_null = train.filter(pl.all_horizontal(pl.col(pre_label).is_null()))\n",
    "train_not_all_null = train.filter(~pl.all_horizontal(pl.col(pre_label).is_null()))"
   ]
  },
  {
   "cell_type": "code",
   "execution_count": 144,
   "id": "aa145a4c-6010-4589-ab5e-0fdbcc832aa4",
   "metadata": {},
   "outputs": [
    {
     "data": {
      "text/plain": [
       "(shape: (9, 23)\n",
       " ┌───────────┬───────────┬───────────┬───────────┬───┬───────────┬───────────┬───────────┬──────────┐\n",
       " │ statistic ┆ PCIAT-Sea ┆ PCIAT-PCI ┆ PCIAT-PCI ┆ … ┆ PCIAT-PCI ┆ PCIAT-PCI ┆ PCIAT-PCI ┆ PCIAT-PC │\n",
       " │ ---       ┆ son       ┆ AT_01     ┆ AT_02     ┆   ┆ AT_18     ┆ AT_19     ┆ AT_20     ┆ IAT_Tota │\n",
       " │ str       ┆ ---       ┆ ---       ┆ ---       ┆   ┆ ---       ┆ ---       ┆ ---       ┆ l        │\n",
       " │           ┆ str       ┆ f64       ┆ f64       ┆   ┆ f64       ┆ f64       ┆ f64       ┆ ---      │\n",
       " │           ┆           ┆           ┆           ┆   ┆           ┆           ┆           ┆ f64      │\n",
       " ╞═══════════╪═══════════╪═══════════╪═══════════╪═══╪═══════════╪═══════════╪═══════════╪══════════╡\n",
       " │ count     ┆ 2736      ┆ 2733.0    ┆ 2734.0    ┆ … ┆ 2728.0    ┆ 2730.0    ┆ 2733.0    ┆ 2736.0   │\n",
       " │ null_coun ┆ 0         ┆ 3.0       ┆ 2.0       ┆ … ┆ 8.0       ┆ 6.0       ┆ 3.0       ┆ 0.0      │\n",
       " │ t         ┆           ┆           ┆           ┆   ┆           ┆           ┆           ┆          │\n",
       " │ mean      ┆ null      ┆ 2.370655  ┆ 2.177762  ┆ … ┆ 1.613636  ┆ 1.158974  ┆ 0.943652  ┆ 27.89619 │\n",
       " │           ┆           ┆           ┆           ┆   ┆           ┆           ┆           ┆ 9        │\n",
       " │ std       ┆ null      ┆ 1.673312  ┆ 1.697117  ┆ … ┆ 1.529178  ┆ 1.343661  ┆ 1.18546   ┆ 20.33885 │\n",
       " │           ┆           ┆           ┆           ┆   ┆           ┆           ┆           ┆ 3        │\n",
       " │ min       ┆ Fall      ┆ 0.0       ┆ 0.0       ┆ … ┆ 0.0       ┆ 0.0       ┆ 0.0       ┆ 0.0      │\n",
       " │ 25%       ┆ null      ┆ 1.0       ┆ 1.0       ┆ … ┆ 0.0       ┆ 0.0       ┆ 0.0       ┆ 12.0     │\n",
       " │ 50%       ┆ null      ┆ 2.0       ┆ 2.0       ┆ … ┆ 1.0       ┆ 1.0       ┆ 1.0       ┆ 26.0     │\n",
       " │ 75%       ┆ null      ┆ 4.0       ┆ 4.0       ┆ … ┆ 2.0       ┆ 2.0       ┆ 1.0       ┆ 41.0     │\n",
       " │ max       ┆ Winter    ┆ 5.0       ┆ 5.0       ┆ … ┆ 5.0       ┆ 5.0       ┆ 5.0       ┆ 93.0     │\n",
       " └───────────┴───────────┴───────────┴───────────┴───┴───────────┴───────────┴───────────┴──────────┘,\n",
       " (2736, 82))"
      ]
     },
     "execution_count": 144,
     "metadata": {},
     "output_type": "execute_result"
    }
   ],
   "source": [
    "train_not_all_null.select(pl.col(pre_label)).describe(), train_not_all_null.shape"
   ]
  },
  {
   "cell_type": "code",
   "execution_count": 159,
   "id": "55816215-1e20-49cd-a833-1a0eb564422a",
   "metadata": {},
   "outputs": [
    {
     "data": {
      "text/plain": [
       "(shape: (2_736, 83)\n",
       " ┌──────────┬────────────┬────────────┬────────────┬───┬────────────┬────────────┬─────┬────────────┐\n",
       " │ id       ┆ Basic_Demo ┆ Basic_Demo ┆ Basic_Demo ┆ … ┆ PreInt_Edu ┆ PreInt_Edu ┆ sii ┆ null_count │\n",
       " │ ---      ┆ s-Enroll_S ┆ s-Age      ┆ s-Sex      ┆   ┆ Hx-Season  ┆ Hx-compute ┆ --- ┆ _questionn │\n",
       " │ str      ┆ eason      ┆ ---        ┆ ---        ┆   ┆ ---        ┆ rinternet_ ┆ i64 ┆ aire       │\n",
       " │          ┆ ---        ┆ i64        ┆ i64        ┆   ┆ str        ┆ …          ┆     ┆ ---        │\n",
       " │          ┆ str        ┆            ┆            ┆   ┆            ┆ ---        ┆     ┆ u32        │\n",
       " │          ┆            ┆            ┆            ┆   ┆            ┆ i64        ┆     ┆            │\n",
       " ╞══════════╪════════════╪════════════╪════════════╪═══╪════════════╪════════════╪═════╪════════════╡\n",
       " │ 00008ff9 ┆ Fall       ┆ 5          ┆ 0          ┆ … ┆ Fall       ┆ 3          ┆ 2   ┆ 0          │\n",
       " │ 000fd460 ┆ Summer     ┆ 9          ┆ 0          ┆ … ┆ Summer     ┆ 0          ┆ 0   ┆ 0          │\n",
       " │ 00105258 ┆ Summer     ┆ 10         ┆ 1          ┆ … ┆ Summer     ┆ 2          ┆ 0   ┆ 0          │\n",
       " │ 00115b9f ┆ Winter     ┆ 9          ┆ 0          ┆ … ┆ Winter     ┆ 0          ┆ 1   ┆ 0          │\n",
       " │ 001f3379 ┆ Spring     ┆ 13         ┆ 1          ┆ … ┆ Spring     ┆ 0          ┆ 1   ┆ 0          │\n",
       " │ …        ┆ …          ┆ …          ┆ …          ┆ … ┆ …          ┆ …          ┆ …   ┆ …          │\n",
       " │ f1c3cb6b ┆ Winter     ┆ 9          ┆ 1          ┆ … ┆ Winter     ┆ 3          ┆ 1   ┆ 2          │\n",
       " │ 7958e61b ┆ Spring     ┆ 11         ┆ 0          ┆ … ┆ Spring     ┆ 2          ┆ 1   ┆ 3          │\n",
       " │ 1551c806 ┆ Fall       ┆ 18         ┆ 1          ┆ … ┆ Fall       ┆ 2          ┆ 1   ┆ 5          │\n",
       " │ 6b9a25e6 ┆ Spring     ┆ 6          ┆ 0          ┆ … ┆ Spring     ┆ 0          ┆ 0   ┆ 10         │\n",
       " │ 053d7d31 ┆ Spring     ┆ 15         ┆ 1          ┆ … ┆ Spring     ┆ 2          ┆ 0   ┆ 20         │\n",
       " └──────────┴────────────┴────────────┴────────────┴───┴────────────┴────────────┴─────┴────────────┘,\n",
       " shape: (1, 1)\n",
       " ┌─────┐\n",
       " │ sii │\n",
       " │ --- │\n",
       " │ u32 │\n",
       " ╞═════╡\n",
       " │ 0   │\n",
       " └─────┘)"
      ]
     },
     "execution_count": 159,
     "metadata": {},
     "output_type": "execute_result"
    }
   ],
   "source": [
    "train_with_questionnaire_info = (\n",
    "    train_not_all_null.with_columns(\n",
    "        pl.sum_horizontal(pl.col(pre_label).is_null()).alias('null_count_questionnaire'),\n",
    "    )\n",
    ")\n",
    "\n",
    "train_with_questionnaire_info.sort(\"null_count_questionnaire\"), train_with_questionnaire_info.select(pl.col('sii')).null_count()"
   ]
  },
  {
   "cell_type": "code",
   "execution_count": 140,
   "id": "82c364a9-1d56-4793-a4bd-bc3305f9ceeb",
   "metadata": {},
   "outputs": [
    {
     "data": {
      "text/html": [
       "<div><style>\n",
       ".dataframe > thead > tr,\n",
       ".dataframe > tbody > tr {\n",
       "  text-align: right;\n",
       "  white-space: pre-wrap;\n",
       "}\n",
       "</style>\n",
       "<small>shape: (2, 2)</small><table border=\"1\" class=\"dataframe\"><thead><tr><th>statistic</th><th>value</th></tr><tr><td>str</td><td>f64</td></tr></thead><tbody><tr><td>&quot;count&quot;</td><td>0.0</td></tr><tr><td>&quot;null_count&quot;</td><td>1224.0</td></tr></tbody></table></div>"
      ],
      "text/plain": [
       "shape: (2, 2)\n",
       "┌────────────┬────────┐\n",
       "│ statistic  ┆ value  │\n",
       "│ ---        ┆ ---    │\n",
       "│ str        ┆ f64    │\n",
       "╞════════════╪════════╡\n",
       "│ count      ┆ 0.0    │\n",
       "│ null_count ┆ 1224.0 │\n",
       "└────────────┴────────┘"
      ]
     },
     "execution_count": 140,
     "metadata": {},
     "output_type": "execute_result"
    }
   ],
   "source": [
    "train_all_null['sii'].describe()"
   ]
  },
  {
   "cell_type": "markdown",
   "id": "2deebc3f-d627-4c41-a151-f0139ed55dc3",
   "metadata": {},
   "source": [
    "So we can conclude that the rows that are not all null in the range of _pre-label_ always have a _sii_ score (the label) calculated."
   ]
  }
 ],
 "metadata": {
  "colab": {
   "include_colab_link": true,
   "provenance": []
  },
  "kernelspec": {
   "display_name": "Python 3 (ipykernel)",
   "language": "python",
   "name": "python3"
  },
  "language_info": {
   "codemirror_mode": {
    "name": "ipython",
    "version": 3
   },
   "file_extension": ".py",
   "mimetype": "text/x-python",
   "name": "python",
   "nbconvert_exporter": "python",
   "pygments_lexer": "ipython3",
   "version": "3.11.10"
  },
  "widgets": {
   "application/vnd.jupyter.widget-state+json": {
    "0da9f5ab0dfb45f8bc4182b154ea1cca": {
     "model_module": "@jupyter-widgets/controls",
     "model_module_version": "1.5.0",
     "model_name": "TextModel",
     "state": {
      "_dom_classes": [],
      "_model_module": "@jupyter-widgets/controls",
      "_model_module_version": "1.5.0",
      "_model_name": "TextModel",
      "_view_count": null,
      "_view_module": "@jupyter-widgets/controls",
      "_view_module_version": "1.5.0",
      "_view_name": "TextView",
      "continuous_update": true,
      "description": "Username:",
      "description_tooltip": null,
      "disabled": false,
      "layout": "IPY_MODEL_2a31c7ae4ba145da9766f752d1ac8e4c",
      "placeholder": "​",
      "style": "IPY_MODEL_f60d560928e04faa86bf49534dca9dd3",
      "value": "felipebaltor"
     }
    },
    "12b48cb703b74c9c9f95e7fa77903ce5": {
     "model_module": "@jupyter-widgets/base",
     "model_module_version": "1.2.0",
     "model_name": "LayoutModel",
     "state": {
      "_model_module": "@jupyter-widgets/base",
      "_model_module_version": "1.2.0",
      "_model_name": "LayoutModel",
      "_view_count": null,
      "_view_module": "@jupyter-widgets/base",
      "_view_module_version": "1.2.0",
      "_view_name": "LayoutView",
      "align_content": null,
      "align_items": null,
      "align_self": null,
      "border": null,
      "bottom": null,
      "display": null,
      "flex": null,
      "flex_flow": null,
      "grid_area": null,
      "grid_auto_columns": null,
      "grid_auto_flow": null,
      "grid_auto_rows": null,
      "grid_column": null,
      "grid_gap": null,
      "grid_row": null,
      "grid_template_areas": null,
      "grid_template_columns": null,
      "grid_template_rows": null,
      "height": null,
      "justify_content": null,
      "justify_items": null,
      "left": null,
      "margin": null,
      "max_height": null,
      "max_width": null,
      "min_height": null,
      "min_width": null,
      "object_fit": null,
      "object_position": null,
      "order": null,
      "overflow": null,
      "overflow_x": null,
      "overflow_y": null,
      "padding": null,
      "right": null,
      "top": null,
      "visibility": null,
      "width": null
     }
    },
    "1a7466c735474496a5003fd20d929b7e": {
     "model_module": "@jupyter-widgets/base",
     "model_module_version": "1.2.0",
     "model_name": "LayoutModel",
     "state": {
      "_model_module": "@jupyter-widgets/base",
      "_model_module_version": "1.2.0",
      "_model_name": "LayoutModel",
      "_view_count": null,
      "_view_module": "@jupyter-widgets/base",
      "_view_module_version": "1.2.0",
      "_view_name": "LayoutView",
      "align_content": null,
      "align_items": null,
      "align_self": null,
      "border": null,
      "bottom": null,
      "display": null,
      "flex": null,
      "flex_flow": null,
      "grid_area": null,
      "grid_auto_columns": null,
      "grid_auto_flow": null,
      "grid_auto_rows": null,
      "grid_column": null,
      "grid_gap": null,
      "grid_row": null,
      "grid_template_areas": null,
      "grid_template_columns": null,
      "grid_template_rows": null,
      "height": null,
      "justify_content": null,
      "justify_items": null,
      "left": null,
      "margin": null,
      "max_height": null,
      "max_width": null,
      "min_height": null,
      "min_width": null,
      "object_fit": null,
      "object_position": null,
      "order": null,
      "overflow": null,
      "overflow_x": null,
      "overflow_y": null,
      "padding": null,
      "right": null,
      "top": null,
      "visibility": null,
      "width": null
     }
    },
    "29af2c6f18b84c0cad2c762ad0f76d88": {
     "model_module": "@jupyter-widgets/controls",
     "model_module_version": "1.5.0",
     "model_name": "ButtonStyleModel",
     "state": {
      "_model_module": "@jupyter-widgets/controls",
      "_model_module_version": "1.5.0",
      "_model_name": "ButtonStyleModel",
      "_view_count": null,
      "_view_module": "@jupyter-widgets/base",
      "_view_module_version": "1.2.0",
      "_view_name": "StyleView",
      "button_color": null,
      "font_weight": ""
     }
    },
    "2a31c7ae4ba145da9766f752d1ac8e4c": {
     "model_module": "@jupyter-widgets/base",
     "model_module_version": "1.2.0",
     "model_name": "LayoutModel",
     "state": {
      "_model_module": "@jupyter-widgets/base",
      "_model_module_version": "1.2.0",
      "_model_name": "LayoutModel",
      "_view_count": null,
      "_view_module": "@jupyter-widgets/base",
      "_view_module_version": "1.2.0",
      "_view_name": "LayoutView",
      "align_content": null,
      "align_items": null,
      "align_self": null,
      "border": null,
      "bottom": null,
      "display": null,
      "flex": null,
      "flex_flow": null,
      "grid_area": null,
      "grid_auto_columns": null,
      "grid_auto_flow": null,
      "grid_auto_rows": null,
      "grid_column": null,
      "grid_gap": null,
      "grid_row": null,
      "grid_template_areas": null,
      "grid_template_columns": null,
      "grid_template_rows": null,
      "height": null,
      "justify_content": null,
      "justify_items": null,
      "left": null,
      "margin": null,
      "max_height": null,
      "max_width": null,
      "min_height": null,
      "min_width": null,
      "object_fit": null,
      "object_position": null,
      "order": null,
      "overflow": null,
      "overflow_x": null,
      "overflow_y": null,
      "padding": null,
      "right": null,
      "top": null,
      "visibility": null,
      "width": null
     }
    },
    "33097ce610164cce82ac8fab45218b3b": {
     "model_module": "@jupyter-widgets/base",
     "model_module_version": "1.2.0",
     "model_name": "LayoutModel",
     "state": {
      "_model_module": "@jupyter-widgets/base",
      "_model_module_version": "1.2.0",
      "_model_name": "LayoutModel",
      "_view_count": null,
      "_view_module": "@jupyter-widgets/base",
      "_view_module_version": "1.2.0",
      "_view_name": "LayoutView",
      "align_content": null,
      "align_items": "center",
      "align_self": null,
      "border": null,
      "bottom": null,
      "display": "flex",
      "flex": null,
      "flex_flow": "column",
      "grid_area": null,
      "grid_auto_columns": null,
      "grid_auto_flow": null,
      "grid_auto_rows": null,
      "grid_column": null,
      "grid_gap": null,
      "grid_row": null,
      "grid_template_areas": null,
      "grid_template_columns": null,
      "grid_template_rows": null,
      "height": null,
      "justify_content": null,
      "justify_items": null,
      "left": null,
      "margin": null,
      "max_height": null,
      "max_width": null,
      "min_height": null,
      "min_width": null,
      "object_fit": null,
      "object_position": null,
      "order": null,
      "overflow": null,
      "overflow_x": null,
      "overflow_y": null,
      "padding": null,
      "right": null,
      "top": null,
      "visibility": null,
      "width": "50%"
     }
    },
    "3323918d0e754542bd5fd7917698521e": {
     "model_module": "@jupyter-widgets/controls",
     "model_module_version": "1.5.0",
     "model_name": "HTMLModel",
     "state": {
      "_dom_classes": [],
      "_model_module": "@jupyter-widgets/controls",
      "_model_module_version": "1.5.0",
      "_model_name": "HTMLModel",
      "_view_count": null,
      "_view_module": "@jupyter-widgets/controls",
      "_view_module_version": "1.5.0",
      "_view_name": "HTMLView",
      "description": "",
      "description_tooltip": null,
      "layout": "IPY_MODEL_12b48cb703b74c9c9f95e7fa77903ce5",
      "placeholder": "​",
      "style": "IPY_MODEL_a2fb7714fe9e48db90a2bc34df3cca09",
      "value": "\n<b>Thank You</b></center>"
     }
    },
    "3da95e32de4b48b5b41f53cd4dcdd9eb": {
     "model_module": "@jupyter-widgets/controls",
     "model_module_version": "1.5.0",
     "model_name": "VBoxModel",
     "state": {
      "_dom_classes": [],
      "_model_module": "@jupyter-widgets/controls",
      "_model_module_version": "1.5.0",
      "_model_name": "VBoxModel",
      "_view_count": null,
      "_view_module": "@jupyter-widgets/controls",
      "_view_module_version": "1.5.0",
      "_view_name": "VBoxView",
      "box_style": "",
      "children": [
       "IPY_MODEL_e9c34bce12564b2f9ee1675fdbb86dc8"
      ],
      "layout": "IPY_MODEL_33097ce610164cce82ac8fab45218b3b"
     }
    },
    "44506634701f4a2abd55c087d1b5a537": {
     "model_module": "@jupyter-widgets/base",
     "model_module_version": "1.2.0",
     "model_name": "LayoutModel",
     "state": {
      "_model_module": "@jupyter-widgets/base",
      "_model_module_version": "1.2.0",
      "_model_name": "LayoutModel",
      "_view_count": null,
      "_view_module": "@jupyter-widgets/base",
      "_view_module_version": "1.2.0",
      "_view_name": "LayoutView",
      "align_content": null,
      "align_items": null,
      "align_self": null,
      "border": null,
      "bottom": null,
      "display": null,
      "flex": null,
      "flex_flow": null,
      "grid_area": null,
      "grid_auto_columns": null,
      "grid_auto_flow": null,
      "grid_auto_rows": null,
      "grid_column": null,
      "grid_gap": null,
      "grid_row": null,
      "grid_template_areas": null,
      "grid_template_columns": null,
      "grid_template_rows": null,
      "height": null,
      "justify_content": null,
      "justify_items": null,
      "left": null,
      "margin": null,
      "max_height": null,
      "max_width": null,
      "min_height": null,
      "min_width": null,
      "object_fit": null,
      "object_position": null,
      "order": null,
      "overflow": null,
      "overflow_x": null,
      "overflow_y": null,
      "padding": null,
      "right": null,
      "top": null,
      "visibility": null,
      "width": null
     }
    },
    "57e9170a273d4afb9ef73a1948ed716b": {
     "model_module": "@jupyter-widgets/controls",
     "model_module_version": "1.5.0",
     "model_name": "DescriptionStyleModel",
     "state": {
      "_model_module": "@jupyter-widgets/controls",
      "_model_module_version": "1.5.0",
      "_model_name": "DescriptionStyleModel",
      "_view_count": null,
      "_view_module": "@jupyter-widgets/base",
      "_view_module_version": "1.2.0",
      "_view_name": "StyleView",
      "description_width": ""
     }
    },
    "619802117e5a4354bedcaf4786ca9055": {
     "model_module": "@jupyter-widgets/base",
     "model_module_version": "1.2.0",
     "model_name": "LayoutModel",
     "state": {
      "_model_module": "@jupyter-widgets/base",
      "_model_module_version": "1.2.0",
      "_model_name": "LayoutModel",
      "_view_count": null,
      "_view_module": "@jupyter-widgets/base",
      "_view_module_version": "1.2.0",
      "_view_name": "LayoutView",
      "align_content": null,
      "align_items": null,
      "align_self": null,
      "border": null,
      "bottom": null,
      "display": null,
      "flex": null,
      "flex_flow": null,
      "grid_area": null,
      "grid_auto_columns": null,
      "grid_auto_flow": null,
      "grid_auto_rows": null,
      "grid_column": null,
      "grid_gap": null,
      "grid_row": null,
      "grid_template_areas": null,
      "grid_template_columns": null,
      "grid_template_rows": null,
      "height": null,
      "justify_content": null,
      "justify_items": null,
      "left": null,
      "margin": null,
      "max_height": null,
      "max_width": null,
      "min_height": null,
      "min_width": null,
      "object_fit": null,
      "object_position": null,
      "order": null,
      "overflow": null,
      "overflow_x": null,
      "overflow_y": null,
      "padding": null,
      "right": null,
      "top": null,
      "visibility": null,
      "width": null
     }
    },
    "7fa7802b658841e1856456675f4a8b99": {
     "model_module": "@jupyter-widgets/controls",
     "model_module_version": "1.5.0",
     "model_name": "DescriptionStyleModel",
     "state": {
      "_model_module": "@jupyter-widgets/controls",
      "_model_module_version": "1.5.0",
      "_model_name": "DescriptionStyleModel",
      "_view_count": null,
      "_view_module": "@jupyter-widgets/base",
      "_view_module_version": "1.2.0",
      "_view_name": "StyleView",
      "description_width": ""
     }
    },
    "9b8866067f5343bda85b63abdc23ae3d": {
     "model_module": "@jupyter-widgets/controls",
     "model_module_version": "1.5.0",
     "model_name": "LabelModel",
     "state": {
      "_dom_classes": [],
      "_model_module": "@jupyter-widgets/controls",
      "_model_module_version": "1.5.0",
      "_model_name": "LabelModel",
      "_view_count": null,
      "_view_module": "@jupyter-widgets/controls",
      "_view_module_version": "1.5.0",
      "_view_name": "LabelView",
      "description": "",
      "description_tooltip": null,
      "layout": "IPY_MODEL_d840a217fa7a401dacb57b7c666fd318",
      "placeholder": "​",
      "style": "IPY_MODEL_f229275f50e64628837e2987782718fe",
      "value": "Connecting..."
     }
    },
    "a2fb7714fe9e48db90a2bc34df3cca09": {
     "model_module": "@jupyter-widgets/controls",
     "model_module_version": "1.5.0",
     "model_name": "DescriptionStyleModel",
     "state": {
      "_model_module": "@jupyter-widgets/controls",
      "_model_module_version": "1.5.0",
      "_model_name": "DescriptionStyleModel",
      "_view_count": null,
      "_view_module": "@jupyter-widgets/base",
      "_view_module_version": "1.2.0",
      "_view_name": "StyleView",
      "description_width": ""
     }
    },
    "be9576b56bda4d8da5bb9751d6c4f038": {
     "model_module": "@jupyter-widgets/controls",
     "model_module_version": "1.5.0",
     "model_name": "PasswordModel",
     "state": {
      "_dom_classes": [],
      "_model_module": "@jupyter-widgets/controls",
      "_model_module_version": "1.5.0",
      "_model_name": "PasswordModel",
      "_view_count": null,
      "_view_module": "@jupyter-widgets/controls",
      "_view_module_version": "1.5.0",
      "_view_name": "PasswordView",
      "continuous_update": true,
      "description": "Token:",
      "description_tooltip": null,
      "disabled": false,
      "layout": "IPY_MODEL_44506634701f4a2abd55c087d1b5a537",
      "placeholder": "​",
      "style": "IPY_MODEL_f2e4b0a64adc4c43982bd18f5f924825",
      "value": ""
     }
    },
    "bfaa6ee2af2745658ed01c553165be4a": {
     "model_module": "@jupyter-widgets/controls",
     "model_module_version": "1.5.0",
     "model_name": "ButtonModel",
     "state": {
      "_dom_classes": [],
      "_model_module": "@jupyter-widgets/controls",
      "_model_module_version": "1.5.0",
      "_model_name": "ButtonModel",
      "_view_count": null,
      "_view_module": "@jupyter-widgets/controls",
      "_view_module_version": "1.5.0",
      "_view_name": "ButtonView",
      "button_style": "",
      "description": "Login",
      "disabled": false,
      "icon": "",
      "layout": "IPY_MODEL_c90e748028cb453dbefdc69124ad28d3",
      "style": "IPY_MODEL_29af2c6f18b84c0cad2c762ad0f76d88",
      "tooltip": ""
     }
    },
    "c90e748028cb453dbefdc69124ad28d3": {
     "model_module": "@jupyter-widgets/base",
     "model_module_version": "1.2.0",
     "model_name": "LayoutModel",
     "state": {
      "_model_module": "@jupyter-widgets/base",
      "_model_module_version": "1.2.0",
      "_model_name": "LayoutModel",
      "_view_count": null,
      "_view_module": "@jupyter-widgets/base",
      "_view_module_version": "1.2.0",
      "_view_name": "LayoutView",
      "align_content": null,
      "align_items": null,
      "align_self": null,
      "border": null,
      "bottom": null,
      "display": null,
      "flex": null,
      "flex_flow": null,
      "grid_area": null,
      "grid_auto_columns": null,
      "grid_auto_flow": null,
      "grid_auto_rows": null,
      "grid_column": null,
      "grid_gap": null,
      "grid_row": null,
      "grid_template_areas": null,
      "grid_template_columns": null,
      "grid_template_rows": null,
      "height": null,
      "justify_content": null,
      "justify_items": null,
      "left": null,
      "margin": null,
      "max_height": null,
      "max_width": null,
      "min_height": null,
      "min_width": null,
      "object_fit": null,
      "object_position": null,
      "order": null,
      "overflow": null,
      "overflow_x": null,
      "overflow_y": null,
      "padding": null,
      "right": null,
      "top": null,
      "visibility": null,
      "width": null
     }
    },
    "d840a217fa7a401dacb57b7c666fd318": {
     "model_module": "@jupyter-widgets/base",
     "model_module_version": "1.2.0",
     "model_name": "LayoutModel",
     "state": {
      "_model_module": "@jupyter-widgets/base",
      "_model_module_version": "1.2.0",
      "_model_name": "LayoutModel",
      "_view_count": null,
      "_view_module": "@jupyter-widgets/base",
      "_view_module_version": "1.2.0",
      "_view_name": "LayoutView",
      "align_content": null,
      "align_items": null,
      "align_self": null,
      "border": null,
      "bottom": null,
      "display": null,
      "flex": null,
      "flex_flow": null,
      "grid_area": null,
      "grid_auto_columns": null,
      "grid_auto_flow": null,
      "grid_auto_rows": null,
      "grid_column": null,
      "grid_gap": null,
      "grid_row": null,
      "grid_template_areas": null,
      "grid_template_columns": null,
      "grid_template_rows": null,
      "height": null,
      "justify_content": null,
      "justify_items": null,
      "left": null,
      "margin": null,
      "max_height": null,
      "max_width": null,
      "min_height": null,
      "min_width": null,
      "object_fit": null,
      "object_position": null,
      "order": null,
      "overflow": null,
      "overflow_x": null,
      "overflow_y": null,
      "padding": null,
      "right": null,
      "top": null,
      "visibility": null,
      "width": null
     }
    },
    "e9c34bce12564b2f9ee1675fdbb86dc8": {
     "model_module": "@jupyter-widgets/controls",
     "model_module_version": "1.5.0",
     "model_name": "LabelModel",
     "state": {
      "_dom_classes": [],
      "_model_module": "@jupyter-widgets/controls",
      "_model_module_version": "1.5.0",
      "_model_name": "LabelModel",
      "_view_count": null,
      "_view_module": "@jupyter-widgets/controls",
      "_view_module_version": "1.5.0",
      "_view_name": "LabelView",
      "description": "",
      "description_tooltip": null,
      "layout": "IPY_MODEL_1a7466c735474496a5003fd20d929b7e",
      "placeholder": "​",
      "style": "IPY_MODEL_7fa7802b658841e1856456675f4a8b99",
      "value": "Kaggle credentials successfully validated."
     }
    },
    "e9fc3923430d404b8cedb51627fb34d4": {
     "model_module": "@jupyter-widgets/controls",
     "model_module_version": "1.5.0",
     "model_name": "HTMLModel",
     "state": {
      "_dom_classes": [],
      "_model_module": "@jupyter-widgets/controls",
      "_model_module_version": "1.5.0",
      "_model_name": "HTMLModel",
      "_view_count": null,
      "_view_module": "@jupyter-widgets/controls",
      "_view_module_version": "1.5.0",
      "_view_name": "HTMLView",
      "description": "",
      "description_tooltip": null,
      "layout": "IPY_MODEL_619802117e5a4354bedcaf4786ca9055",
      "placeholder": "​",
      "style": "IPY_MODEL_57e9170a273d4afb9ef73a1948ed716b",
      "value": "<center> <img\nsrc=https://www.kaggle.com/static/images/site-logo.png\nalt='Kaggle'> <br> Create an API token from <a\nhref=\"https://www.kaggle.com/settings/account\" target=\"_blank\">your Kaggle\nsettings page</a> and paste it below along with your Kaggle username. <br> </center>"
     }
    },
    "f229275f50e64628837e2987782718fe": {
     "model_module": "@jupyter-widgets/controls",
     "model_module_version": "1.5.0",
     "model_name": "DescriptionStyleModel",
     "state": {
      "_model_module": "@jupyter-widgets/controls",
      "_model_module_version": "1.5.0",
      "_model_name": "DescriptionStyleModel",
      "_view_count": null,
      "_view_module": "@jupyter-widgets/base",
      "_view_module_version": "1.2.0",
      "_view_name": "StyleView",
      "description_width": ""
     }
    },
    "f2e4b0a64adc4c43982bd18f5f924825": {
     "model_module": "@jupyter-widgets/controls",
     "model_module_version": "1.5.0",
     "model_name": "DescriptionStyleModel",
     "state": {
      "_model_module": "@jupyter-widgets/controls",
      "_model_module_version": "1.5.0",
      "_model_name": "DescriptionStyleModel",
      "_view_count": null,
      "_view_module": "@jupyter-widgets/base",
      "_view_module_version": "1.2.0",
      "_view_name": "StyleView",
      "description_width": ""
     }
    },
    "f60d560928e04faa86bf49534dca9dd3": {
     "model_module": "@jupyter-widgets/controls",
     "model_module_version": "1.5.0",
     "model_name": "DescriptionStyleModel",
     "state": {
      "_model_module": "@jupyter-widgets/controls",
      "_model_module_version": "1.5.0",
      "_model_name": "DescriptionStyleModel",
      "_view_count": null,
      "_view_module": "@jupyter-widgets/base",
      "_view_module_version": "1.2.0",
      "_view_name": "StyleView",
      "description_width": ""
     }
    }
   }
  }
 },
 "nbformat": 4,
 "nbformat_minor": 5
}
