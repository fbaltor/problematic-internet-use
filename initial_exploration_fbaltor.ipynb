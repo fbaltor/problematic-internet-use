{
 "cells": [
  {
   "cell_type": "markdown",
   "id": "786accd3",
   "metadata": {
    "colab_type": "text",
    "id": "view-in-github"
   },
   "source": [
    "<a href=\"https://colab.research.google.com/github/fbaltor/problematic-internet-use/blob/main/problematic-internet-use.ipynb\" target=\"_parent\"><img src=\"https://colab.research.google.com/assets/colab-badge.svg\" alt=\"Open In Colab\"/></a>"
   ]
  },
  {
   "cell_type": "markdown",
   "id": "7e02f9d0-8861-444f-b896-2cdf1194f911",
   "metadata": {
    "id": "7e02f9d0-8861-444f-b896-2cdf1194f911"
   },
   "source": [
    "# Exploratory data analysis"
   ]
  },
  {
   "cell_type": "code",
   "execution_count": 50,
   "id": "42e10c97-8339-4563-ae33-388affce1f2f",
   "metadata": {
    "colab": {
     "base_uri": "https://localhost:8080/"
    },
    "id": "42e10c97-8339-4563-ae33-388affce1f2f",
    "outputId": "1f5dc354-a97f-49df-abfa-2a5be35cab28"
   },
   "outputs": [
    {
     "name": "stdin",
     "output_type": "stream",
     "text": [
      "Once deleted, variables cannot be recovered. Proceed (y/[n])?  y\n"
     ]
    }
   ],
   "source": [
    "%reset"
   ]
  },
  {
   "cell_type": "markdown",
   "id": "2b3ed879-162d-4950-94ef-44aa75742e96",
   "metadata": {
    "id": "2b3ed879-162d-4950-94ef-44aa75742e96"
   },
   "source": [
    "Basic imports:"
   ]
  },
  {
   "cell_type": "code",
   "execution_count": 51,
   "id": "f477b5f0-402b-4012-a984-e5761de32c03",
   "metadata": {
    "id": "f477b5f0-402b-4012-a984-e5761de32c03"
   },
   "outputs": [],
   "source": [
    "import os\n",
    "import polars as pl\n",
    "import pandas as pd\n",
    "import numpy as np\n",
    "import matplotlib.pyplot as plt\n",
    "from pathlib import Path\n",
    "import kagglehub"
   ]
  },
  {
   "cell_type": "markdown",
   "id": "448eb769-d5fa-4508-ab17-5175b0411da4",
   "metadata": {
    "id": "448eb769-d5fa-4508-ab17-5175b0411da4"
   },
   "source": [
    "Downloading the data with _kagglehub_:"
   ]
  },
  {
   "cell_type": "code",
   "execution_count": 52,
   "id": "8e5db461-68ae-484b-acc1-b6eaf9c5288d",
   "metadata": {
    "colab": {
     "base_uri": "https://localhost:8080/"
    },
    "id": "8e5db461-68ae-484b-acc1-b6eaf9c5288d",
    "outputId": "25e577fe-6002-4dea-e080-018d08501fec"
   },
   "outputs": [
    {
     "data": {
      "text/plain": [
       "PosixPath('/home/fbaltor/.cache/kagglehub/competitions/child-mind-institute-problematic-internet-use')"
      ]
     },
     "execution_count": 52,
     "metadata": {},
     "output_type": "execute_result"
    }
   ],
   "source": [
    "data_path = kagglehub.competition_download('child-mind-institute-problematic-internet-use')\n",
    "data_path = Path(data_path)\n",
    "\n",
    "data_path"
   ]
  },
  {
   "cell_type": "markdown",
   "id": "a58e4630-71b7-4037-9200-b9e499f03bcb",
   "metadata": {
    "id": "a58e4630-71b7-4037-9200-b9e499f03bcb"
   },
   "source": [
    "Checking files downloaded:"
   ]
  },
  {
   "cell_type": "code",
   "execution_count": 53,
   "id": "516f69b1-41b1-4b69-9f22-80329cd0748b",
   "metadata": {
    "colab": {
     "base_uri": "https://localhost:8080/"
    },
    "id": "516f69b1-41b1-4b69-9f22-80329cd0748b",
    "outputId": "9b67fcdb-4f13-4a6e-c8d5-9484b39e6406"
   },
   "outputs": [
    {
     "name": "stdout",
     "output_type": "stream",
     "text": [
      "sample_submission.csv is a FILE\n",
      "series_train.parquet is a DIRECTORY\n",
      "train.csv is a FILE\n",
      "data_dictionary.csv is a FILE\n",
      "series_test.parquet is a DIRECTORY\n",
      "test.csv is a FILE\n"
     ]
    }
   ],
   "source": [
    "for file in data_path.glob(\"*\"):\n",
    "    print(f'{file.name} is a {\"FILE\" if file.is_file() else \"DIRECTORY\"}')"
   ]
  },
  {
   "cell_type": "markdown",
   "id": "50cf79ce-6185-439b-b405-b7a5a4f444f0",
   "metadata": {
    "id": "50cf79ce-6185-439b-b405-b7a5a4f444f0"
   },
   "source": [
    "Loading the train datasets and the data dictionary:"
   ]
  },
  {
   "cell_type": "code",
   "execution_count": 54,
   "id": "342e7e9b-33a3-41c9-ab21-f18569362828",
   "metadata": {
    "id": "342e7e9b-33a3-41c9-ab21-f18569362828"
   },
   "outputs": [],
   "source": [
    "data_dictionary = pl.read_csv(data_path / 'data_dictionary.csv')\n",
    "train = pl.read_csv(data_path / 'train.csv')"
   ]
  },
  {
   "cell_type": "code",
   "execution_count": 55,
   "id": "a195cdf2-4dc5-495c-9b05-38d71989945e",
   "metadata": {
    "colab": {
     "base_uri": "https://localhost:8080/",
     "height": 480
    },
    "id": "a195cdf2-4dc5-495c-9b05-38d71989945e",
    "outputId": "2d05b2c2-8308-4da8-bb17-e14036e38562"
   },
   "outputs": [
    {
     "data": {
      "text/html": [
       "<div><style>\n",
       ".dataframe > thead > tr,\n",
       ".dataframe > tbody > tr {\n",
       "  text-align: right;\n",
       "  white-space: pre-wrap;\n",
       "}\n",
       "</style>\n",
       "<small>shape: (3_960, 82)</small><table border=\"1\" class=\"dataframe\"><thead><tr><th>id</th><th>Basic_Demos-Enroll_Season</th><th>Basic_Demos-Age</th><th>Basic_Demos-Sex</th><th>CGAS-Season</th><th>CGAS-CGAS_Score</th><th>Physical-Season</th><th>Physical-BMI</th><th>Physical-Height</th><th>Physical-Weight</th><th>Physical-Waist_Circumference</th><th>Physical-Diastolic_BP</th><th>Physical-HeartRate</th><th>Physical-Systolic_BP</th><th>Fitness_Endurance-Season</th><th>Fitness_Endurance-Max_Stage</th><th>Fitness_Endurance-Time_Mins</th><th>Fitness_Endurance-Time_Sec</th><th>FGC-Season</th><th>FGC-FGC_CU</th><th>FGC-FGC_CU_Zone</th><th>FGC-FGC_GSND</th><th>FGC-FGC_GSND_Zone</th><th>FGC-FGC_GSD</th><th>FGC-FGC_GSD_Zone</th><th>FGC-FGC_PU</th><th>FGC-FGC_PU_Zone</th><th>FGC-FGC_SRL</th><th>FGC-FGC_SRL_Zone</th><th>FGC-FGC_SRR</th><th>FGC-FGC_SRR_Zone</th><th>FGC-FGC_TL</th><th>FGC-FGC_TL_Zone</th><th>BIA-Season</th><th>BIA-BIA_Activity_Level_num</th><th>BIA-BIA_BMC</th><th>BIA-BIA_BMI</th><th>&hellip;</th><th>BIA-BIA_ICW</th><th>BIA-BIA_LDM</th><th>BIA-BIA_LST</th><th>BIA-BIA_SMM</th><th>BIA-BIA_TBW</th><th>PAQ_A-Season</th><th>PAQ_A-PAQ_A_Total</th><th>PAQ_C-Season</th><th>PAQ_C-PAQ_C_Total</th><th>PCIAT-Season</th><th>PCIAT-PCIAT_01</th><th>PCIAT-PCIAT_02</th><th>PCIAT-PCIAT_03</th><th>PCIAT-PCIAT_04</th><th>PCIAT-PCIAT_05</th><th>PCIAT-PCIAT_06</th><th>PCIAT-PCIAT_07</th><th>PCIAT-PCIAT_08</th><th>PCIAT-PCIAT_09</th><th>PCIAT-PCIAT_10</th><th>PCIAT-PCIAT_11</th><th>PCIAT-PCIAT_12</th><th>PCIAT-PCIAT_13</th><th>PCIAT-PCIAT_14</th><th>PCIAT-PCIAT_15</th><th>PCIAT-PCIAT_16</th><th>PCIAT-PCIAT_17</th><th>PCIAT-PCIAT_18</th><th>PCIAT-PCIAT_19</th><th>PCIAT-PCIAT_20</th><th>PCIAT-PCIAT_Total</th><th>SDS-Season</th><th>SDS-SDS_Total_Raw</th><th>SDS-SDS_Total_T</th><th>PreInt_EduHx-Season</th><th>PreInt_EduHx-computerinternet_hoursday</th><th>sii</th></tr><tr><td>str</td><td>str</td><td>i64</td><td>i64</td><td>str</td><td>i64</td><td>str</td><td>f64</td><td>f64</td><td>f64</td><td>f64</td><td>i64</td><td>i64</td><td>i64</td><td>str</td><td>i64</td><td>i64</td><td>i64</td><td>str</td><td>i64</td><td>i64</td><td>f64</td><td>i64</td><td>f64</td><td>i64</td><td>i64</td><td>i64</td><td>f64</td><td>i64</td><td>f64</td><td>i64</td><td>f64</td><td>i64</td><td>str</td><td>i64</td><td>f64</td><td>f64</td><td>&hellip;</td><td>f64</td><td>f64</td><td>f64</td><td>f64</td><td>f64</td><td>str</td><td>f64</td><td>str</td><td>f64</td><td>str</td><td>i64</td><td>i64</td><td>i64</td><td>i64</td><td>i64</td><td>i64</td><td>i64</td><td>i64</td><td>i64</td><td>i64</td><td>i64</td><td>i64</td><td>i64</td><td>i64</td><td>i64</td><td>i64</td><td>i64</td><td>i64</td><td>i64</td><td>i64</td><td>i64</td><td>str</td><td>i64</td><td>i64</td><td>str</td><td>i64</td><td>i64</td></tr></thead><tbody><tr><td>&quot;00008ff9&quot;</td><td>&quot;Fall&quot;</td><td>5</td><td>0</td><td>&quot;Winter&quot;</td><td>51</td><td>&quot;Fall&quot;</td><td>16.877316</td><td>46.0</td><td>50.8</td><td>null</td><td>null</td><td>null</td><td>null</td><td>null</td><td>null</td><td>null</td><td>null</td><td>&quot;Fall&quot;</td><td>0</td><td>0</td><td>null</td><td>null</td><td>null</td><td>null</td><td>0</td><td>0</td><td>7.0</td><td>0</td><td>6.0</td><td>0</td><td>6.0</td><td>1</td><td>&quot;Fall&quot;</td><td>2</td><td>2.66855</td><td>16.8792</td><td>&hellip;</td><td>24.4349</td><td>8.89536</td><td>38.9177</td><td>19.5413</td><td>32.6909</td><td>null</td><td>null</td><td>null</td><td>null</td><td>&quot;Fall&quot;</td><td>5</td><td>4</td><td>4</td><td>0</td><td>4</td><td>0</td><td>0</td><td>4</td><td>0</td><td>0</td><td>4</td><td>0</td><td>4</td><td>4</td><td>4</td><td>4</td><td>4</td><td>4</td><td>2</td><td>4</td><td>55</td><td>null</td><td>null</td><td>null</td><td>&quot;Fall&quot;</td><td>3</td><td>2</td></tr><tr><td>&quot;000fd460&quot;</td><td>&quot;Summer&quot;</td><td>9</td><td>0</td><td>null</td><td>null</td><td>&quot;Fall&quot;</td><td>14.03559</td><td>48.0</td><td>46.0</td><td>22.0</td><td>75</td><td>70</td><td>122</td><td>null</td><td>null</td><td>null</td><td>null</td><td>&quot;Fall&quot;</td><td>3</td><td>0</td><td>null</td><td>null</td><td>null</td><td>null</td><td>5</td><td>0</td><td>11.0</td><td>1</td><td>11.0</td><td>1</td><td>3.0</td><td>0</td><td>&quot;Winter&quot;</td><td>2</td><td>2.57949</td><td>14.0371</td><td>&hellip;</td><td>21.0352</td><td>14.974</td><td>39.4497</td><td>15.4107</td><td>27.0552</td><td>null</td><td>null</td><td>&quot;Fall&quot;</td><td>2.34</td><td>&quot;Fall&quot;</td><td>0</td><td>0</td><td>0</td><td>0</td><td>0</td><td>0</td><td>0</td><td>0</td><td>0</td><td>0</td><td>0</td><td>0</td><td>0</td><td>0</td><td>0</td><td>0</td><td>0</td><td>0</td><td>0</td><td>0</td><td>0</td><td>&quot;Fall&quot;</td><td>46</td><td>64</td><td>&quot;Summer&quot;</td><td>0</td><td>0</td></tr><tr><td>&quot;00105258&quot;</td><td>&quot;Summer&quot;</td><td>10</td><td>1</td><td>&quot;Fall&quot;</td><td>71</td><td>&quot;Fall&quot;</td><td>16.648696</td><td>56.5</td><td>75.6</td><td>null</td><td>65</td><td>94</td><td>117</td><td>&quot;Fall&quot;</td><td>5</td><td>7</td><td>33</td><td>&quot;Fall&quot;</td><td>20</td><td>1</td><td>10.2</td><td>1</td><td>14.7</td><td>2</td><td>7</td><td>1</td><td>10.0</td><td>1</td><td>10.0</td><td>1</td><td>5.0</td><td>0</td><td>null</td><td>null</td><td>null</td><td>null</td><td>&hellip;</td><td>null</td><td>null</td><td>null</td><td>null</td><td>null</td><td>null</td><td>null</td><td>&quot;Summer&quot;</td><td>2.17</td><td>&quot;Fall&quot;</td><td>5</td><td>2</td><td>2</td><td>1</td><td>2</td><td>1</td><td>1</td><td>2</td><td>1</td><td>1</td><td>1</td><td>0</td><td>1</td><td>1</td><td>1</td><td>0</td><td>2</td><td>2</td><td>1</td><td>1</td><td>28</td><td>&quot;Fall&quot;</td><td>38</td><td>54</td><td>&quot;Summer&quot;</td><td>2</td><td>0</td></tr><tr><td>&quot;00115b9f&quot;</td><td>&quot;Winter&quot;</td><td>9</td><td>0</td><td>&quot;Fall&quot;</td><td>71</td><td>&quot;Summer&quot;</td><td>18.292347</td><td>56.0</td><td>81.6</td><td>null</td><td>60</td><td>97</td><td>117</td><td>&quot;Summer&quot;</td><td>6</td><td>9</td><td>37</td><td>&quot;Summer&quot;</td><td>18</td><td>1</td><td>null</td><td>null</td><td>null</td><td>null</td><td>5</td><td>0</td><td>7.0</td><td>0</td><td>7.0</td><td>0</td><td>7.0</td><td>1</td><td>&quot;Summer&quot;</td><td>3</td><td>3.84191</td><td>18.2943</td><td>&hellip;</td><td>30.4041</td><td>16.779</td><td>58.9338</td><td>26.4798</td><td>45.9966</td><td>null</td><td>null</td><td>&quot;Winter&quot;</td><td>2.451</td><td>&quot;Summer&quot;</td><td>4</td><td>2</td><td>4</td><td>0</td><td>5</td><td>1</td><td>0</td><td>3</td><td>2</td><td>2</td><td>3</td><td>0</td><td>3</td><td>0</td><td>0</td><td>3</td><td>4</td><td>3</td><td>4</td><td>1</td><td>44</td><td>&quot;Summer&quot;</td><td>31</td><td>45</td><td>&quot;Winter&quot;</td><td>0</td><td>1</td></tr><tr><td>&quot;0016bb22&quot;</td><td>&quot;Spring&quot;</td><td>18</td><td>1</td><td>&quot;Summer&quot;</td><td>null</td><td>null</td><td>null</td><td>null</td><td>null</td><td>null</td><td>null</td><td>null</td><td>null</td><td>null</td><td>null</td><td>null</td><td>null</td><td>null</td><td>null</td><td>null</td><td>null</td><td>null</td><td>null</td><td>null</td><td>null</td><td>null</td><td>null</td><td>null</td><td>null</td><td>null</td><td>null</td><td>null</td><td>null</td><td>null</td><td>null</td><td>null</td><td>&hellip;</td><td>null</td><td>null</td><td>null</td><td>null</td><td>null</td><td>&quot;Summer&quot;</td><td>1.04</td><td>null</td><td>null</td><td>null</td><td>null</td><td>null</td><td>null</td><td>null</td><td>null</td><td>null</td><td>null</td><td>null</td><td>null</td><td>null</td><td>null</td><td>null</td><td>null</td><td>null</td><td>null</td><td>null</td><td>null</td><td>null</td><td>null</td><td>null</td><td>null</td><td>null</td><td>null</td><td>null</td><td>null</td><td>null</td><td>null</td></tr><tr><td>&hellip;</td><td>&hellip;</td><td>&hellip;</td><td>&hellip;</td><td>&hellip;</td><td>&hellip;</td><td>&hellip;</td><td>&hellip;</td><td>&hellip;</td><td>&hellip;</td><td>&hellip;</td><td>&hellip;</td><td>&hellip;</td><td>&hellip;</td><td>&hellip;</td><td>&hellip;</td><td>&hellip;</td><td>&hellip;</td><td>&hellip;</td><td>&hellip;</td><td>&hellip;</td><td>&hellip;</td><td>&hellip;</td><td>&hellip;</td><td>&hellip;</td><td>&hellip;</td><td>&hellip;</td><td>&hellip;</td><td>&hellip;</td><td>&hellip;</td><td>&hellip;</td><td>&hellip;</td><td>&hellip;</td><td>&hellip;</td><td>&hellip;</td><td>&hellip;</td><td>&hellip;</td><td>&hellip;</td><td>&hellip;</td><td>&hellip;</td><td>&hellip;</td><td>&hellip;</td><td>&hellip;</td><td>&hellip;</td><td>&hellip;</td><td>&hellip;</td><td>&hellip;</td><td>&hellip;</td><td>&hellip;</td><td>&hellip;</td><td>&hellip;</td><td>&hellip;</td><td>&hellip;</td><td>&hellip;</td><td>&hellip;</td><td>&hellip;</td><td>&hellip;</td><td>&hellip;</td><td>&hellip;</td><td>&hellip;</td><td>&hellip;</td><td>&hellip;</td><td>&hellip;</td><td>&hellip;</td><td>&hellip;</td><td>&hellip;</td><td>&hellip;</td><td>&hellip;</td><td>&hellip;</td><td>&hellip;</td><td>&hellip;</td><td>&hellip;</td><td>&hellip;</td><td>&hellip;</td><td>&hellip;</td></tr><tr><td>&quot;ff8a2de4&quot;</td><td>&quot;Fall&quot;</td><td>13</td><td>0</td><td>&quot;Spring&quot;</td><td>60</td><td>&quot;Fall&quot;</td><td>16.36246</td><td>59.5</td><td>82.4</td><td>null</td><td>71</td><td>70</td><td>104</td><td>null</td><td>null</td><td>null</td><td>null</td><td>&quot;Fall&quot;</td><td>16</td><td>0</td><td>18.0</td><td>1</td><td>19.9</td><td>2</td><td>10</td><td>1</td><td>8.0</td><td>1</td><td>9.0</td><td>1</td><td>12.0</td><td>1</td><td>&quot;Fall&quot;</td><td>3</td><td>4.52277</td><td>16.3642</td><td>&hellip;</td><td>33.3709</td><td>17.9797</td><td>66.2889</td><td>29.779</td><td>52.832</td><td>null</td><td>null</td><td>&quot;Winter&quot;</td><td>3.26</td><td>&quot;Winter&quot;</td><td>3</td><td>3</td><td>3</td><td>2</td><td>3</td><td>2</td><td>2</td><td>2</td><td>2</td><td>1</td><td>2</td><td>0</td><td>2</td><td>0</td><td>1</td><td>0</td><td>2</td><td>1</td><td>1</td><td>0</td><td>32</td><td>&quot;Winter&quot;</td><td>35</td><td>50</td><td>&quot;Fall&quot;</td><td>1</td><td>1</td></tr><tr><td>&quot;ffa9794a&quot;</td><td>&quot;Winter&quot;</td><td>10</td><td>0</td><td>null</td><td>null</td><td>&quot;Spring&quot;</td><td>18.764678</td><td>53.5</td><td>76.4</td><td>27.0</td><td>60</td><td>78</td><td>118</td><td>null</td><td>null</td><td>null</td><td>null</td><td>&quot;Spring&quot;</td><td>0</td><td>0</td><td>null</td><td>null</td><td>null</td><td>null</td><td>4</td><td>0</td><td>0.0</td><td>0</td><td>0.0</td><td>0</td><td>12.0</td><td>1</td><td>&quot;Spring&quot;</td><td>null</td><td>null</td><td>null</td><td>&hellip;</td><td>null</td><td>null</td><td>null</td><td>null</td><td>null</td><td>null</td><td>null</td><td>&quot;Winter&quot;</td><td>2.34</td><td>null</td><td>null</td><td>null</td><td>null</td><td>null</td><td>null</td><td>null</td><td>null</td><td>null</td><td>null</td><td>null</td><td>null</td><td>null</td><td>null</td><td>null</td><td>null</td><td>null</td><td>null</td><td>null</td><td>null</td><td>null</td><td>null</td><td>null</td><td>null</td><td>null</td><td>&quot;Winter&quot;</td><td>0</td><td>null</td></tr><tr><td>&quot;ffcd4dbd&quot;</td><td>&quot;Fall&quot;</td><td>11</td><td>0</td><td>&quot;Spring&quot;</td><td>68</td><td>&quot;Winter&quot;</td><td>21.4415</td><td>60.0</td><td>109.8</td><td>null</td><td>79</td><td>99</td><td>116</td><td>null</td><td>null</td><td>null</td><td>null</td><td>&quot;Winter&quot;</td><td>15</td><td>1</td><td>18.5</td><td>2</td><td>15.8</td><td>2</td><td>0</td><td>0</td><td>10.0</td><td>1</td><td>10.0</td><td>1</td><td>14.0</td><td>1</td><td>&quot;Winter&quot;</td><td>2</td><td>4.41305</td><td>21.4438</td><td>&hellip;</td><td>33.9805</td><td>21.3403</td><td>71.3903</td><td>28.7792</td><td>54.463</td><td>null</td><td>null</td><td>&quot;Winter&quot;</td><td>2.729</td><td>&quot;Winter&quot;</td><td>5</td><td>5</td><td>3</td><td>0</td><td>5</td><td>1</td><td>0</td><td>2</td><td>0</td><td>2</td><td>1</td><td>0</td><td>1</td><td>3</td><td>0</td><td>0</td><td>1</td><td>1</td><td>0</td><td>1</td><td>31</td><td>&quot;Winter&quot;</td><td>56</td><td>77</td><td>&quot;Fall&quot;</td><td>0</td><td>1</td></tr><tr><td>&quot;ffed1dd5&quot;</td><td>&quot;Spring&quot;</td><td>13</td><td>0</td><td>&quot;Spring&quot;</td><td>70</td><td>&quot;Winter&quot;</td><td>12.235895</td><td>70.7</td><td>87.0</td><td>null</td><td>59</td><td>61</td><td>113</td><td>null</td><td>null</td><td>null</td><td>null</td><td>&quot;Spring&quot;</td><td>null</td><td>null</td><td>null</td><td>null</td><td>null</td><td>null</td><td>null</td><td>null</td><td>null</td><td>null</td><td>null</td><td>null</td><td>null</td><td>null</td><td>&quot;Summer&quot;</td><td>4</td><td>6.66168</td><td>12.2372</td><td>&hellip;</td><td>41.3715</td><td>25.0054</td><td>86.2475</td><td>45.434</td><td>67.9038</td><td>null</td><td>null</td><td>&quot;Spring&quot;</td><td>3.3</td><td>&quot;Spring&quot;</td><td>2</td><td>1</td><td>1</td><td>1</td><td>0</td><td>0</td><td>0</td><td>1</td><td>1</td><td>1</td><td>2</td><td>0</td><td>1</td><td>1</td><td>2</td><td>1</td><td>1</td><td>1</td><td>1</td><td>1</td><td>19</td><td>&quot;Spring&quot;</td><td>33</td><td>47</td><td>&quot;Spring&quot;</td><td>1</td><td>0</td></tr><tr><td>&quot;ffef538e&quot;</td><td>&quot;Spring&quot;</td><td>11</td><td>0</td><td>null</td><td>null</td><td>&quot;Winter&quot;</td><td>null</td><td>null</td><td>null</td><td>null</td><td>null</td><td>null</td><td>null</td><td>null</td><td>null</td><td>null</td><td>null</td><td>&quot;Winter&quot;</td><td>null</td><td>null</td><td>null</td><td>null</td><td>null</td><td>null</td><td>null</td><td>null</td><td>null</td><td>null</td><td>null</td><td>null</td><td>null</td><td>null</td><td>null</td><td>null</td><td>null</td><td>null</td><td>&hellip;</td><td>null</td><td>null</td><td>null</td><td>null</td><td>null</td><td>null</td><td>null</td><td>null</td><td>null</td><td>null</td><td>null</td><td>null</td><td>null</td><td>null</td><td>null</td><td>null</td><td>null</td><td>null</td><td>null</td><td>null</td><td>null</td><td>null</td><td>null</td><td>null</td><td>null</td><td>null</td><td>null</td><td>null</td><td>null</td><td>null</td><td>null</td><td>null</td><td>null</td><td>null</td><td>&quot;Spring&quot;</td><td>1</td><td>null</td></tr></tbody></table></div>"
      ],
      "text/plain": [
       "shape: (3_960, 82)\n",
       "┌──────────┬────────────┬────────────┬────────────┬───┬────────────┬────────────┬───────────┬──────┐\n",
       "│ id       ┆ Basic_Demo ┆ Basic_Demo ┆ Basic_Demo ┆ … ┆ SDS-SDS_To ┆ PreInt_Edu ┆ PreInt_Ed ┆ sii  │\n",
       "│ ---      ┆ s-Enroll_S ┆ s-Age      ┆ s-Sex      ┆   ┆ tal_T      ┆ Hx-Season  ┆ uHx-compu ┆ ---  │\n",
       "│ str      ┆ eason      ┆ ---        ┆ ---        ┆   ┆ ---        ┆ ---        ┆ terintern ┆ i64  │\n",
       "│          ┆ ---        ┆ i64        ┆ i64        ┆   ┆ i64        ┆ str        ┆ et_…      ┆      │\n",
       "│          ┆ str        ┆            ┆            ┆   ┆            ┆            ┆ ---       ┆      │\n",
       "│          ┆            ┆            ┆            ┆   ┆            ┆            ┆ i64       ┆      │\n",
       "╞══════════╪════════════╪════════════╪════════════╪═══╪════════════╪════════════╪═══════════╪══════╡\n",
       "│ 00008ff9 ┆ Fall       ┆ 5          ┆ 0          ┆ … ┆ null       ┆ Fall       ┆ 3         ┆ 2    │\n",
       "│ 000fd460 ┆ Summer     ┆ 9          ┆ 0          ┆ … ┆ 64         ┆ Summer     ┆ 0         ┆ 0    │\n",
       "│ 00105258 ┆ Summer     ┆ 10         ┆ 1          ┆ … ┆ 54         ┆ Summer     ┆ 2         ┆ 0    │\n",
       "│ 00115b9f ┆ Winter     ┆ 9          ┆ 0          ┆ … ┆ 45         ┆ Winter     ┆ 0         ┆ 1    │\n",
       "│ 0016bb22 ┆ Spring     ┆ 18         ┆ 1          ┆ … ┆ null       ┆ null       ┆ null      ┆ null │\n",
       "│ …        ┆ …          ┆ …          ┆ …          ┆ … ┆ …          ┆ …          ┆ …         ┆ …    │\n",
       "│ ff8a2de4 ┆ Fall       ┆ 13         ┆ 0          ┆ … ┆ 50         ┆ Fall       ┆ 1         ┆ 1    │\n",
       "│ ffa9794a ┆ Winter     ┆ 10         ┆ 0          ┆ … ┆ null       ┆ Winter     ┆ 0         ┆ null │\n",
       "│ ffcd4dbd ┆ Fall       ┆ 11         ┆ 0          ┆ … ┆ 77         ┆ Fall       ┆ 0         ┆ 1    │\n",
       "│ ffed1dd5 ┆ Spring     ┆ 13         ┆ 0          ┆ … ┆ 47         ┆ Spring     ┆ 1         ┆ 0    │\n",
       "│ ffef538e ┆ Spring     ┆ 11         ┆ 0          ┆ … ┆ null       ┆ Spring     ┆ 1         ┆ null │\n",
       "└──────────┴────────────┴────────────┴────────────┴───┴────────────┴────────────┴───────────┴──────┘"
      ]
     },
     "execution_count": 55,
     "metadata": {},
     "output_type": "execute_result"
    }
   ],
   "source": [
    "train"
   ]
  },
  {
   "cell_type": "code",
   "execution_count": 56,
   "id": "6373769b-bdee-486a-baed-8d4f9c9d97f3",
   "metadata": {
    "colab": {
     "base_uri": "https://localhost:8080/",
     "height": 417
    },
    "id": "6373769b-bdee-486a-baed-8d4f9c9d97f3",
    "outputId": "b6dd865c-1952-4193-c7dc-c28fd3cbac79"
   },
   "outputs": [
    {
     "data": {
      "text/html": [
       "<div><style>\n",
       ".dataframe > thead > tr,\n",
       ".dataframe > tbody > tr {\n",
       "  text-align: right;\n",
       "  white-space: pre-wrap;\n",
       "}\n",
       "</style>\n",
       "<small>shape: (9, 83)</small><table border=\"1\" class=\"dataframe\"><thead><tr><th>statistic</th><th>id</th><th>Basic_Demos-Enroll_Season</th><th>Basic_Demos-Age</th><th>Basic_Demos-Sex</th><th>CGAS-Season</th><th>CGAS-CGAS_Score</th><th>Physical-Season</th><th>Physical-BMI</th><th>Physical-Height</th><th>Physical-Weight</th><th>Physical-Waist_Circumference</th><th>Physical-Diastolic_BP</th><th>Physical-HeartRate</th><th>Physical-Systolic_BP</th><th>Fitness_Endurance-Season</th><th>Fitness_Endurance-Max_Stage</th><th>Fitness_Endurance-Time_Mins</th><th>Fitness_Endurance-Time_Sec</th><th>FGC-Season</th><th>FGC-FGC_CU</th><th>FGC-FGC_CU_Zone</th><th>FGC-FGC_GSND</th><th>FGC-FGC_GSND_Zone</th><th>FGC-FGC_GSD</th><th>FGC-FGC_GSD_Zone</th><th>FGC-FGC_PU</th><th>FGC-FGC_PU_Zone</th><th>FGC-FGC_SRL</th><th>FGC-FGC_SRL_Zone</th><th>FGC-FGC_SRR</th><th>FGC-FGC_SRR_Zone</th><th>FGC-FGC_TL</th><th>FGC-FGC_TL_Zone</th><th>BIA-Season</th><th>BIA-BIA_Activity_Level_num</th><th>BIA-BIA_BMC</th><th>&hellip;</th><th>BIA-BIA_ICW</th><th>BIA-BIA_LDM</th><th>BIA-BIA_LST</th><th>BIA-BIA_SMM</th><th>BIA-BIA_TBW</th><th>PAQ_A-Season</th><th>PAQ_A-PAQ_A_Total</th><th>PAQ_C-Season</th><th>PAQ_C-PAQ_C_Total</th><th>PCIAT-Season</th><th>PCIAT-PCIAT_01</th><th>PCIAT-PCIAT_02</th><th>PCIAT-PCIAT_03</th><th>PCIAT-PCIAT_04</th><th>PCIAT-PCIAT_05</th><th>PCIAT-PCIAT_06</th><th>PCIAT-PCIAT_07</th><th>PCIAT-PCIAT_08</th><th>PCIAT-PCIAT_09</th><th>PCIAT-PCIAT_10</th><th>PCIAT-PCIAT_11</th><th>PCIAT-PCIAT_12</th><th>PCIAT-PCIAT_13</th><th>PCIAT-PCIAT_14</th><th>PCIAT-PCIAT_15</th><th>PCIAT-PCIAT_16</th><th>PCIAT-PCIAT_17</th><th>PCIAT-PCIAT_18</th><th>PCIAT-PCIAT_19</th><th>PCIAT-PCIAT_20</th><th>PCIAT-PCIAT_Total</th><th>SDS-Season</th><th>SDS-SDS_Total_Raw</th><th>SDS-SDS_Total_T</th><th>PreInt_EduHx-Season</th><th>PreInt_EduHx-computerinternet_hoursday</th><th>sii</th></tr><tr><td>str</td><td>str</td><td>str</td><td>f64</td><td>f64</td><td>str</td><td>f64</td><td>str</td><td>f64</td><td>f64</td><td>f64</td><td>f64</td><td>f64</td><td>f64</td><td>f64</td><td>str</td><td>f64</td><td>f64</td><td>f64</td><td>str</td><td>f64</td><td>f64</td><td>f64</td><td>f64</td><td>f64</td><td>f64</td><td>f64</td><td>f64</td><td>f64</td><td>f64</td><td>f64</td><td>f64</td><td>f64</td><td>f64</td><td>str</td><td>f64</td><td>f64</td><td>&hellip;</td><td>f64</td><td>f64</td><td>f64</td><td>f64</td><td>f64</td><td>str</td><td>f64</td><td>str</td><td>f64</td><td>str</td><td>f64</td><td>f64</td><td>f64</td><td>f64</td><td>f64</td><td>f64</td><td>f64</td><td>f64</td><td>f64</td><td>f64</td><td>f64</td><td>f64</td><td>f64</td><td>f64</td><td>f64</td><td>f64</td><td>f64</td><td>f64</td><td>f64</td><td>f64</td><td>f64</td><td>str</td><td>f64</td><td>f64</td><td>str</td><td>f64</td><td>f64</td></tr></thead><tbody><tr><td>&quot;count&quot;</td><td>&quot;3960&quot;</td><td>&quot;3960&quot;</td><td>3960.0</td><td>3960.0</td><td>&quot;2555&quot;</td><td>2421.0</td><td>&quot;3310&quot;</td><td>3022.0</td><td>3027.0</td><td>3076.0</td><td>898.0</td><td>2954.0</td><td>2967.0</td><td>2954.0</td><td>&quot;1308&quot;</td><td>743.0</td><td>740.0</td><td>740.0</td><td>&quot;3346&quot;</td><td>2322.0</td><td>2282.0</td><td>1074.0</td><td>1062.0</td><td>1074.0</td><td>1063.0</td><td>2310.0</td><td>2271.0</td><td>2305.0</td><td>2267.0</td><td>2307.0</td><td>2269.0</td><td>2324.0</td><td>2285.0</td><td>&quot;2145&quot;</td><td>1991.0</td><td>1991.0</td><td>&hellip;</td><td>1991.0</td><td>1991.0</td><td>1991.0</td><td>1991.0</td><td>1991.0</td><td>&quot;475&quot;</td><td>475.0</td><td>&quot;1721&quot;</td><td>1721.0</td><td>&quot;2736&quot;</td><td>2733.0</td><td>2734.0</td><td>2731.0</td><td>2731.0</td><td>2729.0</td><td>2732.0</td><td>2729.0</td><td>2730.0</td><td>2730.0</td><td>2733.0</td><td>2734.0</td><td>2731.0</td><td>2729.0</td><td>2732.0</td><td>2730.0</td><td>2728.0</td><td>2725.0</td><td>2728.0</td><td>2730.0</td><td>2733.0</td><td>2736.0</td><td>&quot;2618&quot;</td><td>2609.0</td><td>2606.0</td><td>&quot;3540&quot;</td><td>3301.0</td><td>2736.0</td></tr><tr><td>&quot;null_count&quot;</td><td>&quot;0&quot;</td><td>&quot;0&quot;</td><td>0.0</td><td>0.0</td><td>&quot;1405&quot;</td><td>1539.0</td><td>&quot;650&quot;</td><td>938.0</td><td>933.0</td><td>884.0</td><td>3062.0</td><td>1006.0</td><td>993.0</td><td>1006.0</td><td>&quot;2652&quot;</td><td>3217.0</td><td>3220.0</td><td>3220.0</td><td>&quot;614&quot;</td><td>1638.0</td><td>1678.0</td><td>2886.0</td><td>2898.0</td><td>2886.0</td><td>2897.0</td><td>1650.0</td><td>1689.0</td><td>1655.0</td><td>1693.0</td><td>1653.0</td><td>1691.0</td><td>1636.0</td><td>1675.0</td><td>&quot;1815&quot;</td><td>1969.0</td><td>1969.0</td><td>&hellip;</td><td>1969.0</td><td>1969.0</td><td>1969.0</td><td>1969.0</td><td>1969.0</td><td>&quot;3485&quot;</td><td>3485.0</td><td>&quot;2239&quot;</td><td>2239.0</td><td>&quot;1224&quot;</td><td>1227.0</td><td>1226.0</td><td>1229.0</td><td>1229.0</td><td>1231.0</td><td>1228.0</td><td>1231.0</td><td>1230.0</td><td>1230.0</td><td>1227.0</td><td>1226.0</td><td>1229.0</td><td>1231.0</td><td>1228.0</td><td>1230.0</td><td>1232.0</td><td>1235.0</td><td>1232.0</td><td>1230.0</td><td>1227.0</td><td>1224.0</td><td>&quot;1342&quot;</td><td>1351.0</td><td>1354.0</td><td>&quot;420&quot;</td><td>659.0</td><td>1224.0</td></tr><tr><td>&quot;mean&quot;</td><td>null</td><td>null</td><td>10.433586</td><td>0.372727</td><td>null</td><td>65.454771</td><td>null</td><td>19.331929</td><td>55.946713</td><td>89.038615</td><td>27.278508</td><td>69.648951</td><td>81.597236</td><td>116.983074</td><td>null</td><td>4.989233</td><td>7.37027</td><td>27.581081</td><td>null</td><td>11.25969</td><td>0.476337</td><td>22.420438</td><td>1.829567</td><td>23.518622</td><td>1.904045</td><td>5.579654</td><td>0.330251</td><td>8.694924</td><td>0.61888</td><td>8.805635</td><td>0.620097</td><td>9.252775</td><td>0.785558</td><td>null</td><td>2.651431</td><td>6.719826</td><td>&hellip;</td><td>33.17338</td><td>20.02299</td><td>67.301883</td><td>34.389466</td><td>53.998726</td><td>null</td><td>2.178853</td><td>null</td><td>2.58955</td><td>null</td><td>2.370655</td><td>2.177762</td><td>2.399854</td><td>0.839253</td><td>2.297545</td><td>1.06369</td><td>0.586295</td><td>1.24652</td><td>1.062637</td><td>1.304793</td><td>1.685443</td><td>0.244599</td><td>1.340051</td><td>1.035505</td><td>1.499634</td><td>1.452346</td><td>1.62789</td><td>1.613636</td><td>1.158974</td><td>0.943652</td><td>27.896199</td><td>null</td><td>41.088923</td><td>57.763622</td><td>null</td><td>1.060588</td><td>0.580409</td></tr><tr><td>&quot;std&quot;</td><td>null</td><td>null</td><td>3.574648</td><td>0.483591</td><td>null</td><td>22.341862</td><td>null</td><td>5.113934</td><td>7.473764</td><td>44.56904</td><td>5.567287</td><td>13.611226</td><td>13.665196</td><td>17.061225</td><td>null</td><td>2.014072</td><td>3.189662</td><td>17.707751</td><td>null</td><td>11.807781</td><td>0.499549</td><td>10.833995</td><td>0.612585</td><td>11.148951</td><td>0.612344</td><td>7.390161</td><td>0.470407</td><td>3.429301</td><td>0.485769</td><td>3.422167</td><td>0.485469</td><td>2.988863</td><td>0.410525</td><td>null</td><td>1.028267</td><td>92.586325</td><td>&hellip;</td><td>56.272346</td><td>70.21561</td><td>108.705918</td><td>84.050607</td><td>129.362539</td><td>null</td><td>0.849476</td><td>null</td><td>0.783937</td><td>null</td><td>1.673312</td><td>1.697117</td><td>1.588807</td><td>1.195601</td><td>1.705218</td><td>1.268282</td><td>1.049355</td><td>1.342582</td><td>1.258797</td><td>1.331715</td><td>1.543074</td><td>0.522956</td><td>1.411156</td><td>1.301712</td><td>1.492929</td><td>1.4956</td><td>1.445622</td><td>1.529178</td><td>1.343661</td><td>1.18546</td><td>20.338853</td><td>null</td><td>10.427433</td><td>13.196091</td><td>null</td><td>1.094875</td><td>0.771122</td></tr><tr><td>&quot;min&quot;</td><td>&quot;00008ff9&quot;</td><td>&quot;Fall&quot;</td><td>5.0</td><td>0.0</td><td>&quot;Fall&quot;</td><td>25.0</td><td>&quot;Fall&quot;</td><td>0.0</td><td>33.0</td><td>0.0</td><td>18.0</td><td>0.0</td><td>27.0</td><td>0.0</td><td>&quot;Fall&quot;</td><td>0.0</td><td>0.0</td><td>0.0</td><td>&quot;Fall&quot;</td><td>0.0</td><td>0.0</td><td>0.0</td><td>1.0</td><td>0.0</td><td>1.0</td><td>0.0</td><td>0.0</td><td>0.0</td><td>0.0</td><td>0.0</td><td>0.0</td><td>0.0</td><td>0.0</td><td>&quot;Fall&quot;</td><td>1.0</td><td>-7.78961</td><td>&hellip;</td><td>14.489</td><td>4.63581</td><td>23.6201</td><td>4.65573</td><td>20.5892</td><td>&quot;Fall&quot;</td><td>0.66</td><td>&quot;Fall&quot;</td><td>0.58</td><td>&quot;Fall&quot;</td><td>0.0</td><td>0.0</td><td>0.0</td><td>0.0</td><td>0.0</td><td>0.0</td><td>0.0</td><td>0.0</td><td>0.0</td><td>0.0</td><td>0.0</td><td>0.0</td><td>0.0</td><td>0.0</td><td>0.0</td><td>0.0</td><td>0.0</td><td>0.0</td><td>0.0</td><td>0.0</td><td>0.0</td><td>&quot;Fall&quot;</td><td>17.0</td><td>38.0</td><td>&quot;Fall&quot;</td><td>0.0</td><td>0.0</td></tr><tr><td>&quot;25%&quot;</td><td>null</td><td>null</td><td>8.0</td><td>0.0</td><td>null</td><td>59.0</td><td>null</td><td>15.86931</td><td>50.0</td><td>57.2</td><td>23.0</td><td>61.0</td><td>72.0</td><td>107.0</td><td>null</td><td>4.0</td><td>6.0</td><td>13.0</td><td>null</td><td>3.0</td><td>0.0</td><td>15.1</td><td>1.0</td><td>16.2</td><td>2.0</td><td>0.0</td><td>0.0</td><td>7.0</td><td>0.0</td><td>7.0</td><td>0.0</td><td>7.0</td><td>1.0</td><td>null</td><td>2.0</td><td>2.96731</td><td>&hellip;</td><td>24.4636</td><td>12.99</td><td>45.2042</td><td>21.1424</td><td>35.8871</td><td>null</td><td>1.49</td><td>null</td><td>2.02</td><td>null</td><td>1.0</td><td>1.0</td><td>1.0</td><td>0.0</td><td>1.0</td><td>0.0</td><td>0.0</td><td>0.0</td><td>0.0</td><td>0.0</td><td>0.0</td><td>0.0</td><td>0.0</td><td>0.0</td><td>0.0</td><td>0.0</td><td>0.0</td><td>0.0</td><td>0.0</td><td>0.0</td><td>12.0</td><td>null</td><td>33.0</td><td>47.0</td><td>null</td><td>0.0</td><td>0.0</td></tr><tr><td>&quot;50%&quot;</td><td>null</td><td>null</td><td>10.0</td><td>0.0</td><td>null</td><td>65.0</td><td>null</td><td>17.938739</td><td>55.0</td><td>77.0</td><td>26.0</td><td>68.0</td><td>81.0</td><td>114.0</td><td>null</td><td>5.0</td><td>7.0</td><td>28.0</td><td>null</td><td>9.0</td><td>0.0</td><td>20.1</td><td>2.0</td><td>21.2</td><td>2.0</td><td>3.0</td><td>0.0</td><td>9.0</td><td>1.0</td><td>9.0</td><td>1.0</td><td>10.0</td><td>1.0</td><td>null</td><td>3.0</td><td>3.92272</td><td>&hellip;</td><td>28.8558</td><td>16.4388</td><td>56.9964</td><td>27.4151</td><td>44.987</td><td>null</td><td>2.01</td><td>null</td><td>2.54</td><td>null</td><td>2.0</td><td>2.0</td><td>2.0</td><td>0.0</td><td>2.0</td><td>1.0</td><td>0.0</td><td>1.0</td><td>1.0</td><td>1.0</td><td>2.0</td><td>0.0</td><td>1.0</td><td>1.0</td><td>1.0</td><td>1.0</td><td>1.0</td><td>1.0</td><td>1.0</td><td>1.0</td><td>26.0</td><td>null</td><td>39.0</td><td>55.0</td><td>null</td><td>1.0</td><td>0.0</td></tr><tr><td>&quot;75%&quot;</td><td>null</td><td>null</td><td>13.0</td><td>1.0</td><td>null</td><td>75.0</td><td>null</td><td>21.575719</td><td>62.0</td><td>113.8</td><td>30.0</td><td>76.0</td><td>91.0</td><td>125.0</td><td>null</td><td>6.0</td><td>9.0</td><td>43.0</td><td>null</td><td>16.0</td><td>1.0</td><td>26.6</td><td>2.0</td><td>28.2</td><td>2.0</td><td>9.0</td><td>1.0</td><td>11.0</td><td>1.0</td><td>11.0</td><td>1.0</td><td>12.0</td><td>1.0</td><td>null</td><td>3.0</td><td>5.46123</td><td>&hellip;</td><td>35.4838</td><td>22.182</td><td>77.1309</td><td>38.188</td><td>60.3215</td><td>null</td><td>2.78</td><td>null</td><td>3.16</td><td>null</td><td>4.0</td><td>4.0</td><td>4.0</td><td>1.0</td><td>4.0</td><td>2.0</td><td>1.0</td><td>2.0</td><td>2.0</td><td>2.0</td><td>3.0</td><td>0.0</td><td>2.0</td><td>2.0</td><td>2.0</td><td>2.0</td><td>3.0</td><td>2.0</td><td>2.0</td><td>1.0</td><td>41.0</td><td>null</td><td>46.0</td><td>64.0</td><td>null</td><td>2.0</td><td>1.0</td></tr><tr><td>&quot;max&quot;</td><td>&quot;ffef538e&quot;</td><td>&quot;Winter&quot;</td><td>22.0</td><td>1.0</td><td>&quot;Winter&quot;</td><td>999.0</td><td>&quot;Winter&quot;</td><td>59.132048</td><td>78.5</td><td>315.0</td><td>50.0</td><td>179.0</td><td>138.0</td><td>203.0</td><td>&quot;Winter&quot;</td><td>28.0</td><td>20.0</td><td>59.0</td><td>&quot;Winter&quot;</td><td>115.0</td><td>1.0</td><td>124.0</td><td>3.0</td><td>123.8</td><td>3.0</td><td>51.0</td><td>1.0</td><td>21.7</td><td>1.0</td><td>21.0</td><td>1.0</td><td>22.0</td><td>1.0</td><td>&quot;Winter&quot;</td><td>5.0</td><td>4115.36</td><td>&hellip;</td><td>2457.91</td><td>3108.17</td><td>4683.71</td><td>3607.69</td><td>5690.91</td><td>&quot;Winter&quot;</td><td>4.71</td><td>&quot;Winter&quot;</td><td>4.79</td><td>&quot;Winter&quot;</td><td>5.0</td><td>5.0</td><td>5.0</td><td>5.0</td><td>5.0</td><td>5.0</td><td>5.0</td><td>5.0</td><td>5.0</td><td>5.0</td><td>5.0</td><td>5.0</td><td>5.0</td><td>5.0</td><td>5.0</td><td>5.0</td><td>5.0</td><td>5.0</td><td>5.0</td><td>5.0</td><td>93.0</td><td>&quot;Winter&quot;</td><td>96.0</td><td>100.0</td><td>&quot;Winter&quot;</td><td>3.0</td><td>3.0</td></tr></tbody></table></div>"
      ],
      "text/plain": [
       "shape: (9, 83)\n",
       "┌────────────┬──────────┬───────────┬───────────┬───┬───────────┬───────────┬───────────┬──────────┐\n",
       "│ statistic  ┆ id       ┆ Basic_Dem ┆ Basic_Dem ┆ … ┆ SDS-SDS_T ┆ PreInt_Ed ┆ PreInt_Ed ┆ sii      │\n",
       "│ ---        ┆ ---      ┆ os-Enroll ┆ os-Age    ┆   ┆ otal_T    ┆ uHx-Seaso ┆ uHx-compu ┆ ---      │\n",
       "│ str        ┆ str      ┆ _Season   ┆ ---       ┆   ┆ ---       ┆ n         ┆ terintern ┆ f64      │\n",
       "│            ┆          ┆ ---       ┆ f64       ┆   ┆ f64       ┆ ---       ┆ et_…      ┆          │\n",
       "│            ┆          ┆ str       ┆           ┆   ┆           ┆ str       ┆ ---       ┆          │\n",
       "│            ┆          ┆           ┆           ┆   ┆           ┆           ┆ f64       ┆          │\n",
       "╞════════════╪══════════╪═══════════╪═══════════╪═══╪═══════════╪═══════════╪═══════════╪══════════╡\n",
       "│ count      ┆ 3960     ┆ 3960      ┆ 3960.0    ┆ … ┆ 2606.0    ┆ 3540      ┆ 3301.0    ┆ 2736.0   │\n",
       "│ null_count ┆ 0        ┆ 0         ┆ 0.0       ┆ … ┆ 1354.0    ┆ 420       ┆ 659.0     ┆ 1224.0   │\n",
       "│ mean       ┆ null     ┆ null      ┆ 10.433586 ┆ … ┆ 57.763622 ┆ null      ┆ 1.060588  ┆ 0.580409 │\n",
       "│ std        ┆ null     ┆ null      ┆ 3.574648  ┆ … ┆ 13.196091 ┆ null      ┆ 1.094875  ┆ 0.771122 │\n",
       "│ min        ┆ 00008ff9 ┆ Fall      ┆ 5.0       ┆ … ┆ 38.0      ┆ Fall      ┆ 0.0       ┆ 0.0      │\n",
       "│ 25%        ┆ null     ┆ null      ┆ 8.0       ┆ … ┆ 47.0      ┆ null      ┆ 0.0       ┆ 0.0      │\n",
       "│ 50%        ┆ null     ┆ null      ┆ 10.0      ┆ … ┆ 55.0      ┆ null      ┆ 1.0       ┆ 0.0      │\n",
       "│ 75%        ┆ null     ┆ null      ┆ 13.0      ┆ … ┆ 64.0      ┆ null      ┆ 2.0       ┆ 1.0      │\n",
       "│ max        ┆ ffef538e ┆ Winter    ┆ 22.0      ┆ … ┆ 100.0     ┆ Winter    ┆ 3.0       ┆ 3.0      │\n",
       "└────────────┴──────────┴───────────┴───────────┴───┴───────────┴───────────┴───────────┴──────────┘"
      ]
     },
     "execution_count": 56,
     "metadata": {},
     "output_type": "execute_result"
    }
   ],
   "source": [
    "train.describe()"
   ]
  },
  {
   "cell_type": "markdown",
   "id": "4554c713-0b54-464a-878c-6551b4d8a8f1",
   "metadata": {
    "id": "4554c713-0b54-464a-878c-6551b4d8a8f1"
   },
   "source": [
    "Let's explore the columns in the main tabular data table:"
   ]
  },
  {
   "cell_type": "code",
   "execution_count": 57,
   "id": "83e2d86b-5bc6-4723-ace8-00072dc9197f",
   "metadata": {
    "id": "83e2d86b-5bc6-4723-ace8-00072dc9197f"
   },
   "outputs": [],
   "source": [
    "# Let's study the features and labels\n",
    "\n",
    "features = train.columns[:-1]\n",
    "features_basic_demographics = train.columns[1:4]\n",
    "features_children_global = train.columns[4:6]\n",
    "features_physical_measured = train.columns[6:14]\n",
    "features_fitness_endurance = train.columns[14:18]\n",
    "features_fitness_gram = train.columns[18:33]\n",
    "features_impedance = train.columns[33:50]\n",
    "features_activity_questionaries = train.columns[50:54]\n",
    "features_parent_child_questionaries = train.columns[54:76]\n",
    "feature_questionarie_total = train.columns[75]\n",
    "features_sleep = train.columns[76:79]\n",
    "feature_label_season = train.columns[-2:-1]\n",
    "\n",
    "label = train.columns[-1:]"
   ]
  },
  {
   "cell_type": "markdown",
   "id": "60223dc7-f052-4c8f-a76d-eb7fdafdd4c0",
   "metadata": {},
   "source": [
    "Splitting the dataset between features (`X`) and target (`y`):"
   ]
  },
  {
   "cell_type": "code",
   "execution_count": 58,
   "id": "4a2c7c76-461b-46fb-9816-8875717e6783",
   "metadata": {},
   "outputs": [],
   "source": [
    "X = train[features]\n",
    "y = train[label]"
   ]
  },
  {
   "cell_type": "markdown",
   "id": "000a2c8b-e783-4ed6-a26d-9d8264bd2dc9",
   "metadata": {
    "id": "000a2c8b-e783-4ed6-a26d-9d8264bd2dc9"
   },
   "source": [
    "Let's check the parquet files:"
   ]
  },
  {
   "cell_type": "code",
   "execution_count": 59,
   "id": "a54301f8-1ffc-40f1-ac7f-42fcd3c77f5c",
   "metadata": {
    "id": "a54301f8-1ffc-40f1-ac7f-42fcd3c77f5c"
   },
   "outputs": [],
   "source": [
    "def get_pq(user_id, train=True):\n",
    "    if train:\n",
    "        data_type = 'train'\n",
    "    else:\n",
    "        data_type = 'test'\n",
    "\n",
    "    user_pq = data_path / f'series_{data_type}.parquet' / f'id={user_id}'\n",
    "    if user_pq.is_dir():\n",
    "        return str(user_pq)\n",
    "\n",
    "    return None\n",
    "\n",
    "def get_users_pq(df, train=True):\n",
    "    if train:\n",
    "        data_type = 'train'\n",
    "    else:\n",
    "        data_type = 'test'\n",
    "\n",
    "    users_pq = []\n",
    "\n",
    "    for user_id in df['id']:\n",
    "        users_pq.append(get_pq(user_id))\n",
    "\n",
    "    return users_pq"
   ]
  },
  {
   "cell_type": "code",
   "execution_count": 60,
   "id": "e196b547-7edb-49ce-a2fc-d42dbe7fbd32",
   "metadata": {
    "id": "e196b547-7edb-49ce-a2fc-d42dbe7fbd32"
   },
   "outputs": [],
   "source": [
    "users_pq = get_users_pq(X)\n",
    "\n",
    "assert len(users_pq) == train.height"
   ]
  },
  {
   "cell_type": "code",
   "execution_count": 61,
   "id": "f5957fde-39e5-4dea-a230-c8011c78fc9b",
   "metadata": {
    "id": "f5957fde-39e5-4dea-a230-c8011c78fc9b",
    "outputId": "1f5d6288-b5cb-4b2e-8569-d98053f37b52"
   },
   "outputs": [
    {
     "name": "stdout",
     "output_type": "stream",
     "text": [
      "996 /home/fbaltor/.cache/kagglehub/competitions/child-mind-institute-problematic-internet-use/series_train.parquet/id=00115b9f\n"
     ]
    }
   ],
   "source": [
    "users_pq_not_none = [user for user in users_pq if user is not None]\n",
    "\n",
    "print(len(users_pq_not_none), users_pq_not_none[0])"
   ]
  },
  {
   "cell_type": "markdown",
   "id": "7122a3ba-919a-4e6c-884a-50f2aaa8bfeb",
   "metadata": {
    "id": "7122a3ba-919a-4e6c-884a-50f2aaa8bfeb"
   },
   "source": [
    "Checking that all the parquet directories have the same structure:"
   ]
  },
  {
   "cell_type": "code",
   "execution_count": 62,
   "id": "db31c340-c17e-4fe6-8e1b-ed8fafcdfee0",
   "metadata": {
    "id": "db31c340-c17e-4fe6-8e1b-ed8fafcdfee0"
   },
   "outputs": [],
   "source": [
    "# Asserting that the organization of parquet folders are the same, i.e.:\n",
    "# 'series_{train, test}.parquet/id={user_id}/part-0.parquet'\n",
    "\n",
    "import os\n",
    "\n",
    "subfiles = []\n",
    "for user_pq_path in users_pq_not_none:\n",
    "    for root, dirs, files in os.walk(user_pq_path):\n",
    "        subfiles.append(files)\n",
    "\n",
    "subfiles = [\n",
    "    file\n",
    "    for files in subfiles\n",
    "    for file in files\n",
    "]\n",
    "\n",
    "subfiles = list(set(subfiles))\n",
    "\n",
    "assert len(subfiles) == 1\n",
    "assert subfiles[0] == 'part-0.parquet'"
   ]
  },
  {
   "cell_type": "markdown",
   "id": "b9b961b0-4b05-4fdd-9d65-1f255447103f",
   "metadata": {
    "id": "b9b961b0-4b05-4fdd-9d65-1f255447103f"
   },
   "source": [
    "Since all the parquet's have the same file structure, let's update the parquet functions:"
   ]
  },
  {
   "cell_type": "code",
   "execution_count": 63,
   "id": "3fcedcd0-3f3e-4091-a75c-9a82429d40ff",
   "metadata": {
    "id": "3fcedcd0-3f3e-4091-a75c-9a82429d40ff"
   },
   "outputs": [],
   "source": [
    "# Since the parquet files have the same file structure, let's change the functions\n",
    "\n",
    "def get_pq(user_id, train=True):\n",
    "    if train:\n",
    "        data_type = 'train'\n",
    "    else:\n",
    "        data_type = 'test'\n",
    "\n",
    "    user_pq = data_path / f'series_{data_type}.parquet' / f'id={user_id}' / 'part-0.parquet'\n",
    "    if user_pq.is_dir() or user_pq.is_file():\n",
    "        return str(user_pq)\n",
    "\n",
    "    return None\n",
    "\n",
    "def get_users_pq(df, train=True):\n",
    "    if train:\n",
    "        data_type = 'train'\n",
    "    else:\n",
    "        data_type = 'test'\n",
    "\n",
    "    users_pq = []\n",
    "\n",
    "    for user_id in df['id']:\n",
    "        users_pq.append(get_pq(user_id))\n",
    "\n",
    "    return users_pq"
   ]
  },
  {
   "cell_type": "code",
   "execution_count": 64,
   "id": "06ca06a7-e0d9-4ed4-81b5-1d300ebbb135",
   "metadata": {
    "id": "06ca06a7-e0d9-4ed4-81b5-1d300ebbb135"
   },
   "outputs": [],
   "source": [
    "users_pq = get_users_pq(X)\n",
    "users_pq_not_none = [user for user in users_pq if user is not None]"
   ]
  },
  {
   "cell_type": "code",
   "execution_count": 65,
   "id": "6f659874-11bd-496e-a3ab-c5c6e0d2fa09",
   "metadata": {
    "id": "6f659874-11bd-496e-a3ab-c5c6e0d2fa09",
    "outputId": "5b0886e8-0970-4056-98d1-8665d2518e24"
   },
   "outputs": [
    {
     "name": "stdout",
     "output_type": "stream",
     "text": [
      "/home/fbaltor/.cache/kagglehub/competitions/child-mind-institute-problematic-internet-use/series_train.parquet/id=a49eda7f/part-0.parquet\n"
     ]
    },
    {
     "data": {
      "text/html": [
       "<div><style>\n",
       ".dataframe > thead > tr,\n",
       ".dataframe > tbody > tr {\n",
       "  text-align: right;\n",
       "  white-space: pre-wrap;\n",
       "}\n",
       "</style>\n",
       "<small>shape: (370_692, 13)</small><table border=\"1\" class=\"dataframe\"><thead><tr><th>step</th><th>X</th><th>Y</th><th>Z</th><th>enmo</th><th>anglez</th><th>non-wear_flag</th><th>light</th><th>battery_voltage</th><th>time_of_day</th><th>weekday</th><th>quarter</th><th>relative_date_PCIAT</th></tr><tr><td>u32</td><td>f32</td><td>f32</td><td>f32</td><td>f32</td><td>f32</td><td>f32</td><td>f32</td><td>f32</td><td>i64</td><td>i8</td><td>i8</td><td>f32</td></tr></thead><tbody><tr><td>0</td><td>-0.366671</td><td>-0.090229</td><td>0.709178</td><td>0.05013</td><td>64.249557</td><td>0.0</td><td>3.5</td><td>4184.0</td><td>60060000000000</td><td>2</td><td>4</td><td>5.0</td></tr><tr><td>1</td><td>-0.278385</td><td>-0.345847</td><td>0.694275</td><td>0.02981</td><td>45.537891</td><td>0.0</td><td>3.25</td><td>4183.583496</td><td>60065000000000</td><td>2</td><td>4</td><td>5.0</td></tr><tr><td>2</td><td>0.768756</td><td>0.456682</td><td>0.018468</td><td>0.029778</td><td>1.520453</td><td>0.0</td><td>3.0</td><td>4183.166504</td><td>60070000000000</td><td>2</td><td>4</td><td>5.0</td></tr><tr><td>3</td><td>0.379417</td><td>0.565705</td><td>0.560129</td><td>0.028612</td><td>37.443703</td><td>0.0</td><td>2.75</td><td>4182.75</td><td>60075000000000</td><td>2</td><td>4</td><td>5.0</td></tr><tr><td>4</td><td>-0.159012</td><td>-0.164889</td><td>0.904651</td><td>0.032048</td><td>68.001968</td><td>0.0</td><td>2.5</td><td>4182.333496</td><td>60080000000000</td><td>2</td><td>4</td><td>5.0</td></tr><tr><td>&hellip;</td><td>&hellip;</td><td>&hellip;</td><td>&hellip;</td><td>&hellip;</td><td>&hellip;</td><td>&hellip;</td><td>&hellip;</td><td>&hellip;</td><td>&hellip;</td><td>&hellip;</td><td>&hellip;</td><td>&hellip;</td></tr><tr><td>370687</td><td>0.218671</td><td>-0.749786</td><td>-0.619269</td><td>0.00027</td><td>-38.386753</td><td>0.0</td><td>0.0</td><td>3098.833252</td><td>12695000000000</td><td>3</td><td>1</td><td>27.0</td></tr><tr><td>370688</td><td>0.217913</td><td>-0.749591</td><td>-0.619933</td><td>0.000397</td><td>-38.43668</td><td>0.0</td><td>0.0</td><td>3098.666748</td><td>12700000000000</td><td>3</td><td>1</td><td>27.0</td></tr><tr><td>370689</td><td>0.218018</td><td>-0.749851</td><td>-0.619582</td><td>0.000362</td><td>-38.430107</td><td>0.0</td><td>0.0</td><td>3098.5</td><td>12705000000000</td><td>3</td><td>1</td><td>27.0</td></tr><tr><td>370690</td><td>0.218188</td><td>-0.749266</td><td>-0.619113</td><td>0.000278</td><td>-38.415466</td><td>0.0</td><td>0.0</td><td>3098.333252</td><td>12710000000000</td><td>3</td><td>1</td><td>27.0</td></tr><tr><td>370691</td><td>0.218161</td><td>-0.749734</td><td>-0.619126</td><td>0.000235</td><td>-38.406296</td><td>0.0</td><td>0.0</td><td>3098.166748</td><td>12715000000000</td><td>3</td><td>1</td><td>27.0</td></tr></tbody></table></div>"
      ],
      "text/plain": [
       "shape: (370_692, 13)\n",
       "┌────────┬───────────┬───────────┬───────────┬───┬──────────────┬─────────┬─────────┬──────────────┐\n",
       "│ step   ┆ X         ┆ Y         ┆ Z         ┆ … ┆ time_of_day  ┆ weekday ┆ quarter ┆ relative_dat │\n",
       "│ ---    ┆ ---       ┆ ---       ┆ ---       ┆   ┆ ---          ┆ ---     ┆ ---     ┆ e_PCIAT      │\n",
       "│ u32    ┆ f32       ┆ f32       ┆ f32       ┆   ┆ i64          ┆ i8      ┆ i8      ┆ ---          │\n",
       "│        ┆           ┆           ┆           ┆   ┆              ┆         ┆         ┆ f32          │\n",
       "╞════════╪═══════════╪═══════════╪═══════════╪═══╪══════════════╪═════════╪═════════╪══════════════╡\n",
       "│ 0      ┆ -0.366671 ┆ -0.090229 ┆ 0.709178  ┆ … ┆ 600600000000 ┆ 2       ┆ 4       ┆ 5.0          │\n",
       "│        ┆           ┆           ┆           ┆   ┆ 00           ┆         ┆         ┆              │\n",
       "│ 1      ┆ -0.278385 ┆ -0.345847 ┆ 0.694275  ┆ … ┆ 600650000000 ┆ 2       ┆ 4       ┆ 5.0          │\n",
       "│        ┆           ┆           ┆           ┆   ┆ 00           ┆         ┆         ┆              │\n",
       "│ 2      ┆ 0.768756  ┆ 0.456682  ┆ 0.018468  ┆ … ┆ 600700000000 ┆ 2       ┆ 4       ┆ 5.0          │\n",
       "│        ┆           ┆           ┆           ┆   ┆ 00           ┆         ┆         ┆              │\n",
       "│ 3      ┆ 0.379417  ┆ 0.565705  ┆ 0.560129  ┆ … ┆ 600750000000 ┆ 2       ┆ 4       ┆ 5.0          │\n",
       "│        ┆           ┆           ┆           ┆   ┆ 00           ┆         ┆         ┆              │\n",
       "│ 4      ┆ -0.159012 ┆ -0.164889 ┆ 0.904651  ┆ … ┆ 600800000000 ┆ 2       ┆ 4       ┆ 5.0          │\n",
       "│        ┆           ┆           ┆           ┆   ┆ 00           ┆         ┆         ┆              │\n",
       "│ …      ┆ …         ┆ …         ┆ …         ┆ … ┆ …            ┆ …       ┆ …       ┆ …            │\n",
       "│ 370687 ┆ 0.218671  ┆ -0.749786 ┆ -0.619269 ┆ … ┆ 126950000000 ┆ 3       ┆ 1       ┆ 27.0         │\n",
       "│        ┆           ┆           ┆           ┆   ┆ 00           ┆         ┆         ┆              │\n",
       "│ 370688 ┆ 0.217913  ┆ -0.749591 ┆ -0.619933 ┆ … ┆ 127000000000 ┆ 3       ┆ 1       ┆ 27.0         │\n",
       "│        ┆           ┆           ┆           ┆   ┆ 00           ┆         ┆         ┆              │\n",
       "│ 370689 ┆ 0.218018  ┆ -0.749851 ┆ -0.619582 ┆ … ┆ 127050000000 ┆ 3       ┆ 1       ┆ 27.0         │\n",
       "│        ┆           ┆           ┆           ┆   ┆ 00           ┆         ┆         ┆              │\n",
       "│ 370690 ┆ 0.218188  ┆ -0.749266 ┆ -0.619113 ┆ … ┆ 127100000000 ┆ 3       ┆ 1       ┆ 27.0         │\n",
       "│        ┆           ┆           ┆           ┆   ┆ 00           ┆         ┆         ┆              │\n",
       "│ 370691 ┆ 0.218161  ┆ -0.749734 ┆ -0.619126 ┆ … ┆ 127150000000 ┆ 3       ┆ 1       ┆ 27.0         │\n",
       "│        ┆           ┆           ┆           ┆   ┆ 00           ┆         ┆         ┆              │\n",
       "└────────┴───────────┴───────────┴───────────┴───┴──────────────┴─────────┴─────────┴──────────────┘"
      ]
     },
     "execution_count": 65,
     "metadata": {},
     "output_type": "execute_result"
    }
   ],
   "source": [
    "# Exploring some parquet files\n",
    "\n",
    "import pyarrow.parquet as pq\n",
    "from random import randrange\n",
    "\n",
    "user_pq_index = randrange(len(users_pq_not_none))\n",
    "user_pq_path = users_pq_not_none[user_pq_index]\n",
    "print(user_pq_path)\n",
    "\n",
    "\n",
    "user = pl.read_parquet(user_pq_path)\n",
    "\n",
    "user"
   ]
  },
  {
   "cell_type": "code",
   "execution_count": 66,
   "id": "36249824-1fd3-4279-a82f-0bce93b900ae",
   "metadata": {
    "id": "36249824-1fd3-4279-a82f-0bce93b900ae"
   },
   "outputs": [],
   "source": [
    "users_pq_dim = []\n",
    "\n",
    "for user_pq_path in users_pq_not_none:\n",
    "    meta = pq.ParquetFile(user_pq_path).metadata\n",
    "    users_pq_dim.append((meta.num_rows, meta.num_columns))"
   ]
  },
  {
   "cell_type": "code",
   "execution_count": 67,
   "id": "5a9597ac-783b-4cdc-a23d-a2e426bd2e3d",
   "metadata": {
    "id": "5a9597ac-783b-4cdc-a23d-a2e426bd2e3d",
    "outputId": "e4d1d6f8-855b-4698-862a-0a52ca51e8fe"
   },
   "outputs": [
    {
     "data": {
      "text/html": [
       "<div><style>\n",
       ".dataframe > thead > tr,\n",
       ".dataframe > tbody > tr {\n",
       "  text-align: right;\n",
       "  white-space: pre-wrap;\n",
       "}\n",
       "</style>\n",
       "<small>shape: (9, 2)</small><table border=\"1\" class=\"dataframe\"><thead><tr><th>statistic</th><th>rows</th></tr><tr><td>str</td><td>f64</td></tr></thead><tbody><tr><td>&quot;count&quot;</td><td>996.0</td></tr><tr><td>&quot;null_count&quot;</td><td>0.0</td></tr><tr><td>&quot;mean&quot;</td><td>315832.478916</td></tr><tr><td>&quot;std&quot;</td><td>133011.574731</td></tr><tr><td>&quot;min&quot;</td><td>927.0</td></tr><tr><td>&quot;25%&quot;</td><td>254111.0</td></tr><tr><td>&quot;50%&quot;</td><td>383652.0</td></tr><tr><td>&quot;75%&quot;</td><td>402540.0</td></tr><tr><td>&quot;max&quot;</td><td>756212.0</td></tr></tbody></table></div>"
      ],
      "text/plain": [
       "shape: (9, 2)\n",
       "┌────────────┬───────────────┐\n",
       "│ statistic  ┆ rows          │\n",
       "│ ---        ┆ ---           │\n",
       "│ str        ┆ f64           │\n",
       "╞════════════╪═══════════════╡\n",
       "│ count      ┆ 996.0         │\n",
       "│ null_count ┆ 0.0           │\n",
       "│ mean       ┆ 315832.478916 │\n",
       "│ std        ┆ 133011.574731 │\n",
       "│ min        ┆ 927.0         │\n",
       "│ 25%        ┆ 254111.0      │\n",
       "│ 50%        ┆ 383652.0      │\n",
       "│ 75%        ┆ 402540.0      │\n",
       "│ max        ┆ 756212.0      │\n",
       "└────────────┴───────────────┘"
      ]
     },
     "execution_count": 67,
     "metadata": {},
     "output_type": "execute_result"
    }
   ],
   "source": [
    "users_pq_dim_rows = pl.DataFrame({ 'rows': [row for (row, column) in users_pq_dim]})\n",
    "\n",
    "users_pq_dim_rows.describe()"
   ]
  },
  {
   "cell_type": "markdown",
   "id": "bb20cc70-8041-4704-901a-b38f78cd3737",
   "metadata": {
    "id": "bb20cc70-8041-4704-901a-b38f78cd3737"
   },
   "source": [
    "We have the hypotesis that the column `PCIAT-PCIAT_Total` (`feature_questionarie_total`) is the composed as the sum of the scores of the columns `features_parent_child_questionaries`. Let's check this:"
   ]
  },
  {
   "cell_type": "code",
   "execution_count": 68,
   "id": "526cfcf6-13c2-4704-a8e8-92fdd097bace",
   "metadata": {
    "id": "526cfcf6-13c2-4704-a8e8-92fdd097bace"
   },
   "outputs": [],
   "source": [
    "parent_child_questionaries_sum = (X\n",
    "                                  .select(\n",
    "                                      pl.col(features_parent_child_questionaries)\n",
    "                                      .exclude('PCIAT-Season', 'PCIAT-PCIAT_Total'))\n",
    "                                 ).sum_horizontal()\n",
    "\n",
    "parent_child_questionarie_total = X.select(pl.col(feature_questionarie_total)).fill_null(strategy='zero').to_series()"
   ]
  },
  {
   "cell_type": "code",
   "execution_count": 69,
   "id": "e16ae690-5355-41ea-80c5-d26c6b0724cb",
   "metadata": {
    "id": "e16ae690-5355-41ea-80c5-d26c6b0724cb",
    "outputId": "0448d364-e8d0-46bc-c386-74b285e38890"
   },
   "outputs": [
    {
     "data": {
      "text/plain": [
       "True"
      ]
     },
     "execution_count": 69,
     "metadata": {},
     "output_type": "execute_result"
    }
   ],
   "source": [
    "parent_child_questionarie_total.equals(parent_child_questionaries_sum)"
   ]
  },
  {
   "cell_type": "markdown",
   "id": "cee6ac80-9b0b-42cc-9acf-bd24f0991500",
   "metadata": {},
   "source": [
    "Now let's consider the categorical columns:"
   ]
  },
  {
   "cell_type": "code",
   "execution_count": 77,
   "id": "a4a78f7d-a4d8-4c45-8f11-09139d4cbc74",
   "metadata": {},
   "outputs": [],
   "source": [
    "features_categorical = [\n",
    "    'Basic_Demos-Enroll_Season',\n",
    "    'CGAS-Season',\n",
    "    'Physical-Season',\n",
    "    'Fitness_Endurance-Season',\n",
    "    'FGC-Season',\n",
    "    'FGC-FGC_CU_Zone',\n",
    "    'FGC-FGC_GSND_Zone',\n",
    "    'FGC-FGC_GSD_Zone',\n",
    "    'FGC-FGC_PU_Zone',\n",
    "    'FGC-FGC_SRL_Zone',\n",
    "    'FGC-FGC_SRR_Zone',\n",
    "    'FGC-FGC_TL_Zone',\n",
    "    'BIA-Season',\n",
    "    'BIA-BIA_Activity_Level_num',\n",
    "    'BIA-BIA_Frame_num',\n",
    "    'PAQ_A-Season',\n",
    "    'PAQ_C-Season',\n",
    "    'PCIAT-Season',\n",
    "    'PCIAT-PCIAT_01',\n",
    "    'PCIAT-PCIAT_02',\n",
    "    'PCIAT-PCIAT_03',\n",
    "    'PCIAT-PCIAT_04',\n",
    "    'PCIAT-PCIAT_05',\n",
    "    'PCIAT-PCIAT_06',\n",
    "    'PCIAT-PCIAT_07',\n",
    "    'PCIAT-PCIAT_08',\n",
    "    'PCIAT-PCIAT_09',\n",
    "    'PCIAT-PCIAT_10',\n",
    "    'PCIAT-PCIAT_11',\n",
    "    'PCIAT-PCIAT_12',\n",
    "    'PCIAT-PCIAT_13',\n",
    "    'PCIAT-PCIAT_14',\n",
    "    'PCIAT-PCIAT_15',\n",
    "    'PCIAT-PCIAT_16',\n",
    "    'PCIAT-PCIAT_17',\n",
    "    'PCIAT-PCIAT_18',\n",
    "    'PCIAT-PCIAT_19',\n",
    "    'PCIAT-PCIAT_20',\n",
    "    'SDS-Season',\n",
    "    'PreInt_EduHx-Season',\n",
    "    'PreInt_EduHx-computerinternet_hoursday'\n",
    "]"
   ]
  },
  {
   "cell_type": "markdown",
   "id": "ffd64c9c-f0f0-4bb7-9ba6-ba470faee431",
   "metadata": {},
   "source": [
    "Let's create _one-hot encodings_ for the categorical columns and drop them:"
   ]
  },
  {
   "cell_type": "code",
   "execution_count": 78,
   "id": "0f4132ed-af2a-4e89-9cce-eb59668dc429",
   "metadata": {},
   "outputs": [],
   "source": [
    "one_hot = X.select(pl.col(features_categorical)).to_dummies()\n",
    "features_one_hot = one_hot.columns\n",
    "\n",
    "X = pl.concat([X, one_hot], how='horizontal')\n",
    "X = X_one_hot.drop(features_categorical)\n",
    "\n",
    "features = X_one_hot.columns"
   ]
  },
  {
   "cell_type": "code",
   "execution_count": null,
   "id": "23028030-7b93-474d-aa8b-a97283ab8fa8",
   "metadata": {},
   "outputs": [],
   "source": [
    "print('Missing: %d' % sum(np.isnan(X).flatten()))\n"
   ]
  }
 ],
 "metadata": {
  "colab": {
   "include_colab_link": true,
   "provenance": []
  },
  "kernelspec": {
   "display_name": "Python 3 (ipykernel)",
   "language": "python",
   "name": "python3"
  },
  "language_info": {
   "codemirror_mode": {
    "name": "ipython",
    "version": 3
   },
   "file_extension": ".py",
   "mimetype": "text/x-python",
   "name": "python",
   "nbconvert_exporter": "python",
   "pygments_lexer": "ipython3",
   "version": "3.11.10"
  },
  "widgets": {
   "application/vnd.jupyter.widget-state+json": {
    "0da9f5ab0dfb45f8bc4182b154ea1cca": {
     "model_module": "@jupyter-widgets/controls",
     "model_module_version": "1.5.0",
     "model_name": "TextModel",
     "state": {
      "_dom_classes": [],
      "_model_module": "@jupyter-widgets/controls",
      "_model_module_version": "1.5.0",
      "_model_name": "TextModel",
      "_view_count": null,
      "_view_module": "@jupyter-widgets/controls",
      "_view_module_version": "1.5.0",
      "_view_name": "TextView",
      "continuous_update": true,
      "description": "Username:",
      "description_tooltip": null,
      "disabled": false,
      "layout": "IPY_MODEL_2a31c7ae4ba145da9766f752d1ac8e4c",
      "placeholder": "​",
      "style": "IPY_MODEL_f60d560928e04faa86bf49534dca9dd3",
      "value": "felipebaltor"
     }
    },
    "12b48cb703b74c9c9f95e7fa77903ce5": {
     "model_module": "@jupyter-widgets/base",
     "model_module_version": "1.2.0",
     "model_name": "LayoutModel",
     "state": {
      "_model_module": "@jupyter-widgets/base",
      "_model_module_version": "1.2.0",
      "_model_name": "LayoutModel",
      "_view_count": null,
      "_view_module": "@jupyter-widgets/base",
      "_view_module_version": "1.2.0",
      "_view_name": "LayoutView",
      "align_content": null,
      "align_items": null,
      "align_self": null,
      "border": null,
      "bottom": null,
      "display": null,
      "flex": null,
      "flex_flow": null,
      "grid_area": null,
      "grid_auto_columns": null,
      "grid_auto_flow": null,
      "grid_auto_rows": null,
      "grid_column": null,
      "grid_gap": null,
      "grid_row": null,
      "grid_template_areas": null,
      "grid_template_columns": null,
      "grid_template_rows": null,
      "height": null,
      "justify_content": null,
      "justify_items": null,
      "left": null,
      "margin": null,
      "max_height": null,
      "max_width": null,
      "min_height": null,
      "min_width": null,
      "object_fit": null,
      "object_position": null,
      "order": null,
      "overflow": null,
      "overflow_x": null,
      "overflow_y": null,
      "padding": null,
      "right": null,
      "top": null,
      "visibility": null,
      "width": null
     }
    },
    "1a7466c735474496a5003fd20d929b7e": {
     "model_module": "@jupyter-widgets/base",
     "model_module_version": "1.2.0",
     "model_name": "LayoutModel",
     "state": {
      "_model_module": "@jupyter-widgets/base",
      "_model_module_version": "1.2.0",
      "_model_name": "LayoutModel",
      "_view_count": null,
      "_view_module": "@jupyter-widgets/base",
      "_view_module_version": "1.2.0",
      "_view_name": "LayoutView",
      "align_content": null,
      "align_items": null,
      "align_self": null,
      "border": null,
      "bottom": null,
      "display": null,
      "flex": null,
      "flex_flow": null,
      "grid_area": null,
      "grid_auto_columns": null,
      "grid_auto_flow": null,
      "grid_auto_rows": null,
      "grid_column": null,
      "grid_gap": null,
      "grid_row": null,
      "grid_template_areas": null,
      "grid_template_columns": null,
      "grid_template_rows": null,
      "height": null,
      "justify_content": null,
      "justify_items": null,
      "left": null,
      "margin": null,
      "max_height": null,
      "max_width": null,
      "min_height": null,
      "min_width": null,
      "object_fit": null,
      "object_position": null,
      "order": null,
      "overflow": null,
      "overflow_x": null,
      "overflow_y": null,
      "padding": null,
      "right": null,
      "top": null,
      "visibility": null,
      "width": null
     }
    },
    "29af2c6f18b84c0cad2c762ad0f76d88": {
     "model_module": "@jupyter-widgets/controls",
     "model_module_version": "1.5.0",
     "model_name": "ButtonStyleModel",
     "state": {
      "_model_module": "@jupyter-widgets/controls",
      "_model_module_version": "1.5.0",
      "_model_name": "ButtonStyleModel",
      "_view_count": null,
      "_view_module": "@jupyter-widgets/base",
      "_view_module_version": "1.2.0",
      "_view_name": "StyleView",
      "button_color": null,
      "font_weight": ""
     }
    },
    "2a31c7ae4ba145da9766f752d1ac8e4c": {
     "model_module": "@jupyter-widgets/base",
     "model_module_version": "1.2.0",
     "model_name": "LayoutModel",
     "state": {
      "_model_module": "@jupyter-widgets/base",
      "_model_module_version": "1.2.0",
      "_model_name": "LayoutModel",
      "_view_count": null,
      "_view_module": "@jupyter-widgets/base",
      "_view_module_version": "1.2.0",
      "_view_name": "LayoutView",
      "align_content": null,
      "align_items": null,
      "align_self": null,
      "border": null,
      "bottom": null,
      "display": null,
      "flex": null,
      "flex_flow": null,
      "grid_area": null,
      "grid_auto_columns": null,
      "grid_auto_flow": null,
      "grid_auto_rows": null,
      "grid_column": null,
      "grid_gap": null,
      "grid_row": null,
      "grid_template_areas": null,
      "grid_template_columns": null,
      "grid_template_rows": null,
      "height": null,
      "justify_content": null,
      "justify_items": null,
      "left": null,
      "margin": null,
      "max_height": null,
      "max_width": null,
      "min_height": null,
      "min_width": null,
      "object_fit": null,
      "object_position": null,
      "order": null,
      "overflow": null,
      "overflow_x": null,
      "overflow_y": null,
      "padding": null,
      "right": null,
      "top": null,
      "visibility": null,
      "width": null
     }
    },
    "33097ce610164cce82ac8fab45218b3b": {
     "model_module": "@jupyter-widgets/base",
     "model_module_version": "1.2.0",
     "model_name": "LayoutModel",
     "state": {
      "_model_module": "@jupyter-widgets/base",
      "_model_module_version": "1.2.0",
      "_model_name": "LayoutModel",
      "_view_count": null,
      "_view_module": "@jupyter-widgets/base",
      "_view_module_version": "1.2.0",
      "_view_name": "LayoutView",
      "align_content": null,
      "align_items": "center",
      "align_self": null,
      "border": null,
      "bottom": null,
      "display": "flex",
      "flex": null,
      "flex_flow": "column",
      "grid_area": null,
      "grid_auto_columns": null,
      "grid_auto_flow": null,
      "grid_auto_rows": null,
      "grid_column": null,
      "grid_gap": null,
      "grid_row": null,
      "grid_template_areas": null,
      "grid_template_columns": null,
      "grid_template_rows": null,
      "height": null,
      "justify_content": null,
      "justify_items": null,
      "left": null,
      "margin": null,
      "max_height": null,
      "max_width": null,
      "min_height": null,
      "min_width": null,
      "object_fit": null,
      "object_position": null,
      "order": null,
      "overflow": null,
      "overflow_x": null,
      "overflow_y": null,
      "padding": null,
      "right": null,
      "top": null,
      "visibility": null,
      "width": "50%"
     }
    },
    "3323918d0e754542bd5fd7917698521e": {
     "model_module": "@jupyter-widgets/controls",
     "model_module_version": "1.5.0",
     "model_name": "HTMLModel",
     "state": {
      "_dom_classes": [],
      "_model_module": "@jupyter-widgets/controls",
      "_model_module_version": "1.5.0",
      "_model_name": "HTMLModel",
      "_view_count": null,
      "_view_module": "@jupyter-widgets/controls",
      "_view_module_version": "1.5.0",
      "_view_name": "HTMLView",
      "description": "",
      "description_tooltip": null,
      "layout": "IPY_MODEL_12b48cb703b74c9c9f95e7fa77903ce5",
      "placeholder": "​",
      "style": "IPY_MODEL_a2fb7714fe9e48db90a2bc34df3cca09",
      "value": "\n<b>Thank You</b></center>"
     }
    },
    "3da95e32de4b48b5b41f53cd4dcdd9eb": {
     "model_module": "@jupyter-widgets/controls",
     "model_module_version": "1.5.0",
     "model_name": "VBoxModel",
     "state": {
      "_dom_classes": [],
      "_model_module": "@jupyter-widgets/controls",
      "_model_module_version": "1.5.0",
      "_model_name": "VBoxModel",
      "_view_count": null,
      "_view_module": "@jupyter-widgets/controls",
      "_view_module_version": "1.5.0",
      "_view_name": "VBoxView",
      "box_style": "",
      "children": [
       "IPY_MODEL_e9c34bce12564b2f9ee1675fdbb86dc8"
      ],
      "layout": "IPY_MODEL_33097ce610164cce82ac8fab45218b3b"
     }
    },
    "44506634701f4a2abd55c087d1b5a537": {
     "model_module": "@jupyter-widgets/base",
     "model_module_version": "1.2.0",
     "model_name": "LayoutModel",
     "state": {
      "_model_module": "@jupyter-widgets/base",
      "_model_module_version": "1.2.0",
      "_model_name": "LayoutModel",
      "_view_count": null,
      "_view_module": "@jupyter-widgets/base",
      "_view_module_version": "1.2.0",
      "_view_name": "LayoutView",
      "align_content": null,
      "align_items": null,
      "align_self": null,
      "border": null,
      "bottom": null,
      "display": null,
      "flex": null,
      "flex_flow": null,
      "grid_area": null,
      "grid_auto_columns": null,
      "grid_auto_flow": null,
      "grid_auto_rows": null,
      "grid_column": null,
      "grid_gap": null,
      "grid_row": null,
      "grid_template_areas": null,
      "grid_template_columns": null,
      "grid_template_rows": null,
      "height": null,
      "justify_content": null,
      "justify_items": null,
      "left": null,
      "margin": null,
      "max_height": null,
      "max_width": null,
      "min_height": null,
      "min_width": null,
      "object_fit": null,
      "object_position": null,
      "order": null,
      "overflow": null,
      "overflow_x": null,
      "overflow_y": null,
      "padding": null,
      "right": null,
      "top": null,
      "visibility": null,
      "width": null
     }
    },
    "57e9170a273d4afb9ef73a1948ed716b": {
     "model_module": "@jupyter-widgets/controls",
     "model_module_version": "1.5.0",
     "model_name": "DescriptionStyleModel",
     "state": {
      "_model_module": "@jupyter-widgets/controls",
      "_model_module_version": "1.5.0",
      "_model_name": "DescriptionStyleModel",
      "_view_count": null,
      "_view_module": "@jupyter-widgets/base",
      "_view_module_version": "1.2.0",
      "_view_name": "StyleView",
      "description_width": ""
     }
    },
    "619802117e5a4354bedcaf4786ca9055": {
     "model_module": "@jupyter-widgets/base",
     "model_module_version": "1.2.0",
     "model_name": "LayoutModel",
     "state": {
      "_model_module": "@jupyter-widgets/base",
      "_model_module_version": "1.2.0",
      "_model_name": "LayoutModel",
      "_view_count": null,
      "_view_module": "@jupyter-widgets/base",
      "_view_module_version": "1.2.0",
      "_view_name": "LayoutView",
      "align_content": null,
      "align_items": null,
      "align_self": null,
      "border": null,
      "bottom": null,
      "display": null,
      "flex": null,
      "flex_flow": null,
      "grid_area": null,
      "grid_auto_columns": null,
      "grid_auto_flow": null,
      "grid_auto_rows": null,
      "grid_column": null,
      "grid_gap": null,
      "grid_row": null,
      "grid_template_areas": null,
      "grid_template_columns": null,
      "grid_template_rows": null,
      "height": null,
      "justify_content": null,
      "justify_items": null,
      "left": null,
      "margin": null,
      "max_height": null,
      "max_width": null,
      "min_height": null,
      "min_width": null,
      "object_fit": null,
      "object_position": null,
      "order": null,
      "overflow": null,
      "overflow_x": null,
      "overflow_y": null,
      "padding": null,
      "right": null,
      "top": null,
      "visibility": null,
      "width": null
     }
    },
    "7fa7802b658841e1856456675f4a8b99": {
     "model_module": "@jupyter-widgets/controls",
     "model_module_version": "1.5.0",
     "model_name": "DescriptionStyleModel",
     "state": {
      "_model_module": "@jupyter-widgets/controls",
      "_model_module_version": "1.5.0",
      "_model_name": "DescriptionStyleModel",
      "_view_count": null,
      "_view_module": "@jupyter-widgets/base",
      "_view_module_version": "1.2.0",
      "_view_name": "StyleView",
      "description_width": ""
     }
    },
    "9b8866067f5343bda85b63abdc23ae3d": {
     "model_module": "@jupyter-widgets/controls",
     "model_module_version": "1.5.0",
     "model_name": "LabelModel",
     "state": {
      "_dom_classes": [],
      "_model_module": "@jupyter-widgets/controls",
      "_model_module_version": "1.5.0",
      "_model_name": "LabelModel",
      "_view_count": null,
      "_view_module": "@jupyter-widgets/controls",
      "_view_module_version": "1.5.0",
      "_view_name": "LabelView",
      "description": "",
      "description_tooltip": null,
      "layout": "IPY_MODEL_d840a217fa7a401dacb57b7c666fd318",
      "placeholder": "​",
      "style": "IPY_MODEL_f229275f50e64628837e2987782718fe",
      "value": "Connecting..."
     }
    },
    "a2fb7714fe9e48db90a2bc34df3cca09": {
     "model_module": "@jupyter-widgets/controls",
     "model_module_version": "1.5.0",
     "model_name": "DescriptionStyleModel",
     "state": {
      "_model_module": "@jupyter-widgets/controls",
      "_model_module_version": "1.5.0",
      "_model_name": "DescriptionStyleModel",
      "_view_count": null,
      "_view_module": "@jupyter-widgets/base",
      "_view_module_version": "1.2.0",
      "_view_name": "StyleView",
      "description_width": ""
     }
    },
    "be9576b56bda4d8da5bb9751d6c4f038": {
     "model_module": "@jupyter-widgets/controls",
     "model_module_version": "1.5.0",
     "model_name": "PasswordModel",
     "state": {
      "_dom_classes": [],
      "_model_module": "@jupyter-widgets/controls",
      "_model_module_version": "1.5.0",
      "_model_name": "PasswordModel",
      "_view_count": null,
      "_view_module": "@jupyter-widgets/controls",
      "_view_module_version": "1.5.0",
      "_view_name": "PasswordView",
      "continuous_update": true,
      "description": "Token:",
      "description_tooltip": null,
      "disabled": false,
      "layout": "IPY_MODEL_44506634701f4a2abd55c087d1b5a537",
      "placeholder": "​",
      "style": "IPY_MODEL_f2e4b0a64adc4c43982bd18f5f924825",
      "value": ""
     }
    },
    "bfaa6ee2af2745658ed01c553165be4a": {
     "model_module": "@jupyter-widgets/controls",
     "model_module_version": "1.5.0",
     "model_name": "ButtonModel",
     "state": {
      "_dom_classes": [],
      "_model_module": "@jupyter-widgets/controls",
      "_model_module_version": "1.5.0",
      "_model_name": "ButtonModel",
      "_view_count": null,
      "_view_module": "@jupyter-widgets/controls",
      "_view_module_version": "1.5.0",
      "_view_name": "ButtonView",
      "button_style": "",
      "description": "Login",
      "disabled": false,
      "icon": "",
      "layout": "IPY_MODEL_c90e748028cb453dbefdc69124ad28d3",
      "style": "IPY_MODEL_29af2c6f18b84c0cad2c762ad0f76d88",
      "tooltip": ""
     }
    },
    "c90e748028cb453dbefdc69124ad28d3": {
     "model_module": "@jupyter-widgets/base",
     "model_module_version": "1.2.0",
     "model_name": "LayoutModel",
     "state": {
      "_model_module": "@jupyter-widgets/base",
      "_model_module_version": "1.2.0",
      "_model_name": "LayoutModel",
      "_view_count": null,
      "_view_module": "@jupyter-widgets/base",
      "_view_module_version": "1.2.0",
      "_view_name": "LayoutView",
      "align_content": null,
      "align_items": null,
      "align_self": null,
      "border": null,
      "bottom": null,
      "display": null,
      "flex": null,
      "flex_flow": null,
      "grid_area": null,
      "grid_auto_columns": null,
      "grid_auto_flow": null,
      "grid_auto_rows": null,
      "grid_column": null,
      "grid_gap": null,
      "grid_row": null,
      "grid_template_areas": null,
      "grid_template_columns": null,
      "grid_template_rows": null,
      "height": null,
      "justify_content": null,
      "justify_items": null,
      "left": null,
      "margin": null,
      "max_height": null,
      "max_width": null,
      "min_height": null,
      "min_width": null,
      "object_fit": null,
      "object_position": null,
      "order": null,
      "overflow": null,
      "overflow_x": null,
      "overflow_y": null,
      "padding": null,
      "right": null,
      "top": null,
      "visibility": null,
      "width": null
     }
    },
    "d840a217fa7a401dacb57b7c666fd318": {
     "model_module": "@jupyter-widgets/base",
     "model_module_version": "1.2.0",
     "model_name": "LayoutModel",
     "state": {
      "_model_module": "@jupyter-widgets/base",
      "_model_module_version": "1.2.0",
      "_model_name": "LayoutModel",
      "_view_count": null,
      "_view_module": "@jupyter-widgets/base",
      "_view_module_version": "1.2.0",
      "_view_name": "LayoutView",
      "align_content": null,
      "align_items": null,
      "align_self": null,
      "border": null,
      "bottom": null,
      "display": null,
      "flex": null,
      "flex_flow": null,
      "grid_area": null,
      "grid_auto_columns": null,
      "grid_auto_flow": null,
      "grid_auto_rows": null,
      "grid_column": null,
      "grid_gap": null,
      "grid_row": null,
      "grid_template_areas": null,
      "grid_template_columns": null,
      "grid_template_rows": null,
      "height": null,
      "justify_content": null,
      "justify_items": null,
      "left": null,
      "margin": null,
      "max_height": null,
      "max_width": null,
      "min_height": null,
      "min_width": null,
      "object_fit": null,
      "object_position": null,
      "order": null,
      "overflow": null,
      "overflow_x": null,
      "overflow_y": null,
      "padding": null,
      "right": null,
      "top": null,
      "visibility": null,
      "width": null
     }
    },
    "e9c34bce12564b2f9ee1675fdbb86dc8": {
     "model_module": "@jupyter-widgets/controls",
     "model_module_version": "1.5.0",
     "model_name": "LabelModel",
     "state": {
      "_dom_classes": [],
      "_model_module": "@jupyter-widgets/controls",
      "_model_module_version": "1.5.0",
      "_model_name": "LabelModel",
      "_view_count": null,
      "_view_module": "@jupyter-widgets/controls",
      "_view_module_version": "1.5.0",
      "_view_name": "LabelView",
      "description": "",
      "description_tooltip": null,
      "layout": "IPY_MODEL_1a7466c735474496a5003fd20d929b7e",
      "placeholder": "​",
      "style": "IPY_MODEL_7fa7802b658841e1856456675f4a8b99",
      "value": "Kaggle credentials successfully validated."
     }
    },
    "e9fc3923430d404b8cedb51627fb34d4": {
     "model_module": "@jupyter-widgets/controls",
     "model_module_version": "1.5.0",
     "model_name": "HTMLModel",
     "state": {
      "_dom_classes": [],
      "_model_module": "@jupyter-widgets/controls",
      "_model_module_version": "1.5.0",
      "_model_name": "HTMLModel",
      "_view_count": null,
      "_view_module": "@jupyter-widgets/controls",
      "_view_module_version": "1.5.0",
      "_view_name": "HTMLView",
      "description": "",
      "description_tooltip": null,
      "layout": "IPY_MODEL_619802117e5a4354bedcaf4786ca9055",
      "placeholder": "​",
      "style": "IPY_MODEL_57e9170a273d4afb9ef73a1948ed716b",
      "value": "<center> <img\nsrc=https://www.kaggle.com/static/images/site-logo.png\nalt='Kaggle'> <br> Create an API token from <a\nhref=\"https://www.kaggle.com/settings/account\" target=\"_blank\">your Kaggle\nsettings page</a> and paste it below along with your Kaggle username. <br> </center>"
     }
    },
    "f229275f50e64628837e2987782718fe": {
     "model_module": "@jupyter-widgets/controls",
     "model_module_version": "1.5.0",
     "model_name": "DescriptionStyleModel",
     "state": {
      "_model_module": "@jupyter-widgets/controls",
      "_model_module_version": "1.5.0",
      "_model_name": "DescriptionStyleModel",
      "_view_count": null,
      "_view_module": "@jupyter-widgets/base",
      "_view_module_version": "1.2.0",
      "_view_name": "StyleView",
      "description_width": ""
     }
    },
    "f2e4b0a64adc4c43982bd18f5f924825": {
     "model_module": "@jupyter-widgets/controls",
     "model_module_version": "1.5.0",
     "model_name": "DescriptionStyleModel",
     "state": {
      "_model_module": "@jupyter-widgets/controls",
      "_model_module_version": "1.5.0",
      "_model_name": "DescriptionStyleModel",
      "_view_count": null,
      "_view_module": "@jupyter-widgets/base",
      "_view_module_version": "1.2.0",
      "_view_name": "StyleView",
      "description_width": ""
     }
    },
    "f60d560928e04faa86bf49534dca9dd3": {
     "model_module": "@jupyter-widgets/controls",
     "model_module_version": "1.5.0",
     "model_name": "DescriptionStyleModel",
     "state": {
      "_model_module": "@jupyter-widgets/controls",
      "_model_module_version": "1.5.0",
      "_model_name": "DescriptionStyleModel",
      "_view_count": null,
      "_view_module": "@jupyter-widgets/base",
      "_view_module_version": "1.2.0",
      "_view_name": "StyleView",
      "description_width": ""
     }
    }
   }
  }
 },
 "nbformat": 4,
 "nbformat_minor": 5
}
